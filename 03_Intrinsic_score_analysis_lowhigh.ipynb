{
 "cells": [
  {
   "cell_type": "code",
   "execution_count": 34,
   "metadata": {},
   "outputs": [],
   "source": [
    "import pandas as pd\n",
    "import numpy as np\n",
    "from pandas_profiling import ProfileReport"
   ]
  },
  {
   "cell_type": "code",
   "execution_count": 35,
   "metadata": {},
   "outputs": [],
   "source": [
    "df_a_raw = pd.read_csv(\"preprocessed_data_with_cate.csv\", sep = ',', engine='python', encoding='unicode_escape')"
   ]
  },
  {
   "cell_type": "markdown",
   "metadata": {},
   "source": [
    "## Drop collinear/unary/unnecessary predictors"
   ]
  },
  {
   "cell_type": "code",
   "execution_count": 36,
   "metadata": {},
   "outputs": [],
   "source": [
    "# Drop unnecessary predictors\n",
    "#df_a_raw.drop(['Facebook.Id', 'Page.Admin.Top.Country', 'Video.Length', 'Post.Created'], inplace = True, axis = 1)\n",
    "#df_a_raw.columns"
   ]
  },
  {
   "cell_type": "markdown",
   "metadata": {},
   "source": [
    "### (LIWC) Selective dropping from dataset"
   ]
  },
  {
   "cell_type": "code",
   "execution_count": 37,
   "metadata": {},
   "outputs": [],
   "source": [
    "# Drop meaningless indicators\n",
    "\n",
    "# Punctuation\n",
    "df_a = df_a_raw.drop(['AllPunc', 'SemiC', 'Comma', 'Colon', 'Period', 'Parenth', 'OtherP','Quote',\n",
    "                      'Apostro','Exclam','Dash','QMark'], axis = 1)\n",
    "\n",
    "# Informal language\n",
    "df_a.drop(['informal','filler','netspeak', 'assent','nonflu','swear'], inplace = True, axis = 1)\n",
    "\n",
    "# Relativity - Meaningless if using bag of words analysis (likely case)\n",
    "df_a.drop(['motion','space','time','relativ'], inplace = True, axis = 1)\n",
    "\n",
    "# Time orientations - Drop all\n",
    "df_a.drop(['focuspast','focuspresent','focusfuture'], inplace = True, axis = 1)\n",
    "\n",
    "# Biological - Drop all\n",
    "df_a.drop(['body','ingest','sexual','bio'], inplace = True, axis = 1)\n",
    "\n",
    "# Perceptual - Keep them for now\n",
    "\n",
    "# Cognitive processes - Keep only overall category\n",
    "df_a.drop(['discrep','tentat','certain','cause','insight','differ'], inplace = True, axis = 1)\n",
    "\n",
    "# Social Processes - Girl/Boy might be of some use? Keep for now\n",
    "df_a.drop(['friend'], inplace = True, axis = 1)\n",
    "\n",
    "# Affective processes - Drop all (sentiment analysis done separately)\n",
    "df_a.drop(['affect','anx', 'posemo','negemo'], inplace = True, axis = 1)\n",
    "\n",
    "# Other grammer - Comparisons might be interesting\n",
    "df_a.drop(['number','quant','interrog', 'compare', 'adj', 'verb'], inplace = True, axis = 1)\n",
    "\n",
    "# Linguistic dimensions - Comparisons might be interesting\n",
    "df_a.drop(['negate','conj','adverb', 'auxverb', 'prep', 'article','ipron','they','shehe','you',\n",
    "           'we','i','ppron','pronoun','fnctn'], inplace = True, axis = 1)"
   ]
  },
  {
   "cell_type": "markdown",
   "metadata": {},
   "source": [
    "## LIWC-only Analysis - Drop all other vars except target\n",
    "- Keeping category as useful separator. Could also group by it later on \n",
    "- Same goes for Type\n",
    "\n",
    "### Other interesting vars worth exploring later\n",
    "- Post.Views is interesting for further analysis\n",
    "- WC from LIWC could also be used as a sort of grouping and categorization method\n",
    "\n",
    "### Other notes:\n",
    "- Total.Views : The combined views for a native Facebook video of both the views from the parent post, and the shares of that parent post"
   ]
  },
  {
   "cell_type": "code",
   "execution_count": 32,
   "metadata": {},
   "outputs": [],
   "source": [
    "# Drop all other vars except target\n",
    "df_liwc = df_a.drop(['User.Name', 'Likes.at.Posting', 'Followers.at.Posting',\n",
    "                     'Likes', 'Comments', 'Shares', 'Love', 'Wow','Haha', 'Sad', 'Angry', 'Care', 'Video.Share.Status',\n",
    "                     'Is.Video.Owner.', 'Post.Views', 'Total.Views', 'Total.Views.For.All.Crossposts', 'Sponsor.Name', \n",
    "                     'Sponsor.Category','Message_sentiment', 'Message_subjective', 'Link', \n",
    "                     'is_linked', 'image_text_ind', 'sponsor_cate_effect','page_cate_effect',\n",
    "                     'page_desc_sentiment', 'page_desc_subjective', 'Link', 'Live Video','Live Video Complete',\n",
    "                     'Live Video Scheduled', 'Native Video', 'Photo','Status', 'Video', 'YouTube', 'crosspost', 'owned', \n",
    "                     'share', '-', 'No','Yes',\n",
    "                     #'Message_len','page_desc_len','link_title_len', 'link_desp_len',\n",
    "                     'PageSinceCreated', 'PageCreatedYear', 'PageCreatedMonth', 'PageCreatedDay',\n",
    "                     'PageCreatedHour', 'PostCreatedYear','PostCreatedMonth', 'PostCreatedday', 'PostCreatedHour'], axis = 1)\n",
    "\n",
    "\n",
    "# Summary vars\n",
    "df_liwc.drop(['WC','WPS','Dic','Sixltr', 'Clout', 'Authentic','Tone'], inplace = True, axis = 1)"
   ]
  },
  {
   "cell_type": "code",
   "execution_count": 33,
   "metadata": {},
   "outputs": [
    {
     "data": {
      "text/plain": [
       "Index(['Type', 'Total.Interactions', 'Analytic', 'anger', 'sad', 'social',\n",
       "       'family', 'female', 'male', 'cogproc', 'percept', 'see', 'hear', 'feel',\n",
       "       'health', 'drives', 'affiliation', 'achieve', 'power', 'reward', 'risk',\n",
       "       'work', 'leisure', 'home', 'money', 'relig', 'death', 'Message_len',\n",
       "       'Message_sentiment_category', 'Message_subjective_category',\n",
       "       'link_title_len', 'link_desp_len', 'page_desc_len',\n",
       "       'page_desc_sentiment_category', 'page_desc_subjective_category'],\n",
       "      dtype='object')"
      ]
     },
     "execution_count": 33,
     "metadata": {},
     "output_type": "execute_result"
    }
   ],
   "source": [
    "# Drop attributes for grouping (can be used in future iterations)\n",
    "df_ready = df_liwc.drop(['Page.Name', 'Page.Category','Type'], axis = 1)\n",
    "\n",
    "df_ready.columns"
   ]
  },
  {
   "cell_type": "markdown",
   "metadata": {},
   "source": [
    "### Generate correlation matrix, profiling report and split train/test"
   ]
  },
  {
   "cell_type": "code",
   "execution_count": 16,
   "metadata": {},
   "outputs": [
    {
     "data": {
      "text/plain": [
       "'df_corr = df_ready.corr(method=\\'pearson\\')#.drop([\\'Page.Category\\', \\'Type\\'],axis = 1)\\ndf_corr.to_csv(\"first_pass_corrmat.csv\")'"
      ]
     },
     "execution_count": 16,
     "metadata": {},
     "output_type": "execute_result"
    }
   ],
   "source": [
    "'''df_corr = df_ready.corr(method='pearson')#.drop(['Page.Category', 'Type'],axis = 1)\n",
    "df_corr.to_csv(\"first_pass_corrmat.csv\")'''"
   ]
  },
  {
   "cell_type": "code",
   "execution_count": 17,
   "metadata": {},
   "outputs": [],
   "source": [
    "# Dummify\n",
    "X = pd.get_dummies(df_ready, columns = ['Message_sentiment_category', 'Message_subjective_category', \n",
    "                                       'page_desc_sentiment_category', 'page_desc_subjective_category'], \n",
    "                  drop_first = True)\n",
    "#X = df_ready.copy()\n",
    "y = X['Total.Interactions']\n",
    "\n",
    "X.drop(['Total.Interactions'], inplace = True, axis = 1)"
   ]
  },
  {
   "cell_type": "code",
   "execution_count": 18,
   "metadata": {},
   "outputs": [
    {
     "data": {
      "text/plain": [
       "'profile = ProfileReport(df_ready, title=\"Pandas Profiling Report\")\\nprofile.to_file(\"baseline.html\")'"
      ]
     },
     "execution_count": 18,
     "metadata": {},
     "output_type": "execute_result"
    }
   ],
   "source": [
    "'''profile = ProfileReport(df_ready, title=\"Pandas Profiling Report\")\n",
    "profile.to_file(\"baseline.html\")'''"
   ]
  },
  {
   "cell_type": "code",
   "execution_count": 19,
   "metadata": {},
   "outputs": [],
   "source": [
    "from sklearn.model_selection import train_test_split\n",
    "\n",
    "# Train-test split\n",
    "x_train, x_test, y_train, y_test = train_test_split(X, y, test_size=0.3, random_state = 13)"
   ]
  },
  {
   "cell_type": "markdown",
   "metadata": {},
   "source": [
    "### Define Models"
   ]
  },
  {
   "cell_type": "code",
   "execution_count": 20,
   "metadata": {},
   "outputs": [
    {
     "name": "stderr",
     "output_type": "stream",
     "text": [
      "C:\\Users\\tanzc\\Anaconda3\\lib\\site-packages\\dask\\dataframe\\utils.py:14: FutureWarning: pandas.util.testing is deprecated. Use the functions in the public API at pandas.testing instead.\n",
      "  import pandas.util.testing as tm\n"
     ]
    }
   ],
   "source": [
    "from sklearn.ensemble import GradientBoostingRegressor, RandomForestRegressor\n",
    "from sklearn import metrics\n",
    "from xgboost import XGBRegressor\n",
    "from lightgbm import LGBMRegressor\n",
    "\n",
    "def forest(X, labels):\n",
    "    forest = RandomForestRegressor(random_state=13, n_estimators=500, bootstrap=True, oob_score=True, max_features='sqrt')\n",
    "\n",
    "    return forest.fit(X, labels)\n",
    "\n",
    "def lightforest(X, labels):\n",
    "    lightforest = RandomForestRegressor(random_state=13, n_estimators=100, bootstrap=True, oob_score=True, \n",
    "                                    max_depth=7, max_features='sqrt')\n",
    "    return lightforest.fit(X, labels)\n",
    "\n",
    "# https://xgboost.readthedocs.io/en/stable/python/python_api.html\n",
    "def XGB(X,labels):\n",
    "    xgb = XGBRegressor(random_state=13, n_estimators = 600)\n",
    "    \n",
    "    return xgb.fit(X, labels)\n",
    "\n",
    "# https://lightgbm.readthedocs.io/en/latest/pythonapi/lightgbm.LGBMRegressor.html#lightgbm.LGBMRegressor\n",
    "def LGBM(X,labels):\n",
    "    model = LGBMRegressor(random_state=13, n_estimators = 500)\n",
    "    return model.fit(X, labels)\n",
    "\n",
    "# feature importance\n",
    "#print(model.feature_importances_)\n",
    "\n",
    "#print('\\nAccuracy of random forest with 10-fold CV, 4 repeats: %.3f (STD: %.3f)' % (np.mean(scores_rf), np.std(scores_rf)))"
   ]
  },
  {
   "cell_type": "markdown",
   "metadata": {},
   "source": [
    "## First Pass - Baseline"
   ]
  },
  {
   "cell_type": "code",
   "execution_count": 64,
   "metadata": {},
   "outputs": [
    {
     "name": "stdout",
     "output_type": "stream",
     "text": [
      "Training time: 10.141616821289062 seconds\n"
     ]
    }
   ],
   "source": [
    "import time\n",
    "start = time.time()\n",
    "\n",
    "# Takes some time to run\n",
    "\n",
    "#rf_model = forest(x_train,y_train)\n",
    "lrf_model = lightforest(x_train,y_train)\n",
    "#xgb_model = XGB(x_train,y_train)\n",
    "#lgbm_model = LGBM(x_train,y_train)\n",
    "\n",
    "stop = time.time()\n",
    "print(f\"Training time: {stop - start} seconds\")\n"
   ]
  },
  {
   "cell_type": "code",
   "execution_count": 65,
   "metadata": {},
   "outputs": [
    {
     "name": "stdout",
     "output_type": "stream",
     "text": [
      "Mean Absolute Error: 639.8543896893221\n",
      "Root Mean Squared Error: 9611.143895879157\n",
      "R^2:  -0.009001131814376562\n"
     ]
    }
   ],
   "source": [
    "# Make predictions and print metrics\n",
    "#predictions = lrf_model.predict(x_test)\n",
    "#predictions = lgbm_model.predict(x_test)\n",
    "predictions = lrf_model.predict(x_test)\n",
    "\n",
    "print('Mean Absolute Error:', metrics.mean_absolute_error(y_test, predictions))\n",
    "print('Root Mean Squared Error:', np.sqrt(metrics.mean_squared_error(y_test, predictions)))\n",
    "print('R^2: ', lrf_model.score(x_test, y_test))"
   ]
  },
  {
   "cell_type": "code",
   "execution_count": 66,
   "metadata": {},
   "outputs": [
    {
     "data": {
      "text/plain": [
       "count    212787.0000000\n",
       "mean        456.3213495\n",
       "std        8444.9175969\n",
       "min           0.0000000\n",
       "25%          11.0000000\n",
       "50%          47.0000000\n",
       "75%         201.0000000\n",
       "max     1811547.0000000\n",
       "Name: Total.Interactions, dtype: float64"
      ]
     },
     "execution_count": 66,
     "metadata": {},
     "output_type": "execute_result"
    }
   ],
   "source": [
    "pd.set_option('display.float_format', lambda x: '%.7f' % x)\n",
    "df_ready['Total.Interactions'].describe()"
   ]
  },
  {
   "cell_type": "code",
   "execution_count": 67,
   "metadata": {},
   "outputs": [
    {
     "data": {
      "text/html": [
       "<div>\n",
       "<style scoped>\n",
       "    .dataframe tbody tr th:only-of-type {\n",
       "        vertical-align: middle;\n",
       "    }\n",
       "\n",
       "    .dataframe tbody tr th {\n",
       "        vertical-align: top;\n",
       "    }\n",
       "\n",
       "    .dataframe thead th {\n",
       "        text-align: right;\n",
       "    }\n",
       "</style>\n",
       "<table border=\"1\" class=\"dataframe\">\n",
       "  <thead>\n",
       "    <tr style=\"text-align: right;\">\n",
       "      <th></th>\n",
       "      <th>predictor</th>\n",
       "      <th>feature importance</th>\n",
       "    </tr>\n",
       "  </thead>\n",
       "  <tbody>\n",
       "    <tr>\n",
       "      <th>16</th>\n",
       "      <td>power</td>\n",
       "      <td>0.0858842</td>\n",
       "    </tr>\n",
       "    <tr>\n",
       "      <th>13</th>\n",
       "      <td>drives</td>\n",
       "      <td>0.0796137</td>\n",
       "    </tr>\n",
       "    <tr>\n",
       "      <th>8</th>\n",
       "      <td>percept</td>\n",
       "      <td>0.0790883</td>\n",
       "    </tr>\n",
       "    <tr>\n",
       "      <th>10</th>\n",
       "      <td>hear</td>\n",
       "      <td>0.0711555</td>\n",
       "    </tr>\n",
       "    <tr>\n",
       "      <th>3</th>\n",
       "      <td>social</td>\n",
       "      <td>0.0704321</td>\n",
       "    </tr>\n",
       "    <tr>\n",
       "      <th>0</th>\n",
       "      <td>Analytic</td>\n",
       "      <td>0.0644156</td>\n",
       "    </tr>\n",
       "    <tr>\n",
       "      <th>12</th>\n",
       "      <td>health</td>\n",
       "      <td>0.0489723</td>\n",
       "    </tr>\n",
       "    <tr>\n",
       "      <th>5</th>\n",
       "      <td>female</td>\n",
       "      <td>0.0472032</td>\n",
       "    </tr>\n",
       "    <tr>\n",
       "      <th>9</th>\n",
       "      <td>see</td>\n",
       "      <td>0.0438126</td>\n",
       "    </tr>\n",
       "    <tr>\n",
       "      <th>6</th>\n",
       "      <td>male</td>\n",
       "      <td>0.0402065</td>\n",
       "    </tr>\n",
       "  </tbody>\n",
       "</table>\n",
       "</div>"
      ],
      "text/plain": [
       "   predictor  feature importance\n",
       "16     power           0.0858842\n",
       "13    drives           0.0796137\n",
       "8    percept           0.0790883\n",
       "10      hear           0.0711555\n",
       "3     social           0.0704321\n",
       "0   Analytic           0.0644156\n",
       "12    health           0.0489723\n",
       "5     female           0.0472032\n",
       "9        see           0.0438126\n",
       "6       male           0.0402065"
      ]
     },
     "execution_count": 67,
     "metadata": {},
     "output_type": "execute_result"
    }
   ],
   "source": [
    "coeff_list = pd.DataFrame(list(zip(X.columns, lrf_model.feature_importances_)), columns = ['predictor','feature importance']).sort_values(by='feature importance', ascending=False)\n",
    "#coeff_list = pd.DataFrame(list(zip(X.columns, rf_model.feature_importances_)), columns = ['predictor','feature importance']).sort_values(by='feature importance', ascending=False)\n",
    "coeff_list.head(10)"
   ]
  },
  {
   "cell_type": "code",
   "execution_count": 68,
   "metadata": {},
   "outputs": [
    {
     "data": {
      "text/plain": [
       "16                                       power\n",
       "13                                      drives\n",
       "8                                      percept\n",
       "10                                        hear\n",
       "3                                       social\n",
       "0                                     Analytic\n",
       "12                                      health\n",
       "5                                       female\n",
       "9                                          see\n",
       "6                                         male\n",
       "15                                     achieve\n",
       "7                                      cogproc\n",
       "2                                          sad\n",
       "20                                     leisure\n",
       "4                                       family\n",
       "18                                        risk\n",
       "24                                       death\n",
       "14                                 affiliation\n",
       "26      Message_subjective_category_Subjective\n",
       "19                                        work\n",
       "27       page_desc_sentiment_category_Positive\n",
       "21                                        home\n",
       "25         Message_sentiment_category_Positive\n",
       "11                                        feel\n",
       "23                                       relig\n",
       "28    page_desc_subjective_category_Subjective\n",
       "1                                        anger\n",
       "22                                       money\n",
       "17                                      reward\n",
       "Name: predictor, dtype: object"
      ]
     },
     "execution_count": 68,
     "metadata": {},
     "output_type": "execute_result"
    }
   ],
   "source": [
    "pd.options.display.max_rows = 200\n",
    "pd.options.display.max_columns = None\n",
    "coeff_list['predictor']"
   ]
  },
  {
   "cell_type": "markdown",
   "metadata": {},
   "source": [
    "### Important features (Not relevant anymore)\n",
    "- focuspresent : present tense words (likely not useful)\n",
    "- Analytic : further research into paper required\n",
    "- percept : Related to 5 senses - Probably posts that involve the sensory experiences over abstract ones (e.g. philosophy)\n",
    "- WPS : Number of words per sentence - Perhaps writing longer/shorting \n",
    "- focusfuture : future tense words (likely not useful)\n",
    "- power : Posts that use a lot of strong/impactful words or words that stir emotion: 'superior', 'bully', \n",
    "- social : Posts that involve interaction between people\n",
    "- drives : Overarching category for 'power'. Not useful. Drop in next iteration.\n",
    "- WC: Number of words in the article. Self-explanatory. Probably further analysis or grouping required.\n",
    "- see : Words that involve vision sight. Potentially related to news articles where people report on seeing/observing events?\n",
    "- male : Self-explanatory. Not sure how useful.\n",
    "- posemo : Positive emotion/sentiment\n",
    "- bio : Biological processes (eating/pain/vomit/bleed). Probably not useful\n",
    "- affect : Psychological words that describe emotional state. Unable to infer direction, not useful. Posemo and negemo should be enough"
   ]
  },
  {
   "cell_type": "markdown",
   "metadata": {},
   "source": []
  },
  {
   "cell_type": "markdown",
   "metadata": {},
   "source": [
    "# Testing for various brands/types/categories"
   ]
  },
  {
   "cell_type": "code",
   "execution_count": 81,
   "metadata": {},
   "outputs": [
    {
     "data": {
      "text/plain": [
       "Business Insider                 8674\n",
       "News 4 San Antonio               6948\n",
       "Fox Carolina News                6099\n",
       "Tech Insider                     5482\n",
       "KENS 5 & Kens5.com               4927\n",
       "                                 ... \n",
       "St. George News | STGnews.com       1\n",
       "CBS DFW                             1\n",
       "NowThis Earth                       1\n",
       "The Urban Dads                      1\n",
       "WPXI-TV Pittsburgh                  1\n",
       "Name: Page.Name, Length: 256, dtype: int64"
      ]
     },
     "execution_count": 81,
     "metadata": {},
     "output_type": "execute_result"
    }
   ],
   "source": [
    "df_a_raw['Page.Name'].value_counts()"
   ]
  },
  {
   "cell_type": "markdown",
   "metadata": {},
   "source": [
    "## Business Insider"
   ]
  },
  {
   "cell_type": "code",
   "execution_count": 13,
   "metadata": {},
   "outputs": [
    {
     "data": {
      "text/plain": [
       "8674"
      ]
     },
     "execution_count": 13,
     "metadata": {},
     "output_type": "execute_result"
    }
   ],
   "source": [
    "# Filter to specific brand/category\n",
    "df_ready = df_liwc[ (df_liwc['Page.Name'] == \"Business Insider\") ]\n",
    "\n",
    "# Drop attributes for grouping (can be used in future iterations)\n",
    "df_ready = df_ready.drop(['Page.Name', 'Page.Category','Type'], axis = 1)\n",
    "\n",
    "len(df_ready)"
   ]
  },
  {
   "cell_type": "code",
   "execution_count": 14,
   "metadata": {},
   "outputs": [],
   "source": [
    "# Dummify and split train/test\n",
    "X = pd.get_dummies(df_ready, columns = ['Message_sentiment_category', 'Message_subjective_category', \n",
    "                                       'page_desc_sentiment_category', 'page_desc_subjective_category'], \n",
    "                  drop_first = True)\n",
    "#X = df_ready.copy()\n",
    "y = X['Total.Interactions']\n",
    "\n",
    "X.drop(['Total.Interactions'], inplace = True, axis = 1)\n",
    "\n",
    "x_train, x_test, y_train, y_test = train_test_split(X, y, test_size=0.3, random_state = 13)"
   ]
  },
  {
   "cell_type": "code",
   "execution_count": 15,
   "metadata": {},
   "outputs": [
    {
     "name": "stdout",
     "output_type": "stream",
     "text": [
      "Training time: 6.908242702484131 seconds\n"
     ]
    }
   ],
   "source": [
    "import time\n",
    "start = time.time()\n",
    "\n",
    "rf_model = forest(x_train,y_train)\n",
    "#lrf_model = lightforest(x_train,y_train)\n",
    "#xgb_model = XGB(x_train,y_train)\n",
    "#lgbm_model = LGBM(x_train,y_train)\n",
    "\n",
    "stop = time.time()\n",
    "print(f\"Training time: {stop - start} seconds\")\n"
   ]
  },
  {
   "cell_type": "code",
   "execution_count": 16,
   "metadata": {},
   "outputs": [
    {
     "name": "stdout",
     "output_type": "stream",
     "text": [
      "Mean Absolute Error: 835.2934316295606\n",
      "Root Mean Squared Error: 6244.429384851751\n",
      "R^2:  -0.0044838566285272385\n"
     ]
    }
   ],
   "source": [
    "# Make predictions and print metrics\n",
    "predictions = rf_model.predict(x_test)\n",
    "#predictions = lrf_model.predict(x_test)\n",
    "#predictions = lgbm_model.predict(x_test)\n",
    "#predictions = lrf_model.predict(x_test)\n",
    "\n",
    "print('Mean Absolute Error:', metrics.mean_absolute_error(y_test, predictions))\n",
    "print('Root Mean Squared Error:', np.sqrt(metrics.mean_squared_error(y_test, predictions)))\n",
    "print('R^2: ', rf_model.score(x_test, y_test))"
   ]
  },
  {
   "cell_type": "code",
   "execution_count": 17,
   "metadata": {},
   "outputs": [
    {
     "data": {
      "text/html": [
       "<div>\n",
       "<style scoped>\n",
       "    .dataframe tbody tr th:only-of-type {\n",
       "        vertical-align: middle;\n",
       "    }\n",
       "\n",
       "    .dataframe tbody tr th {\n",
       "        vertical-align: top;\n",
       "    }\n",
       "\n",
       "    .dataframe thead th {\n",
       "        text-align: right;\n",
       "    }\n",
       "</style>\n",
       "<table border=\"1\" class=\"dataframe\">\n",
       "  <thead>\n",
       "    <tr style=\"text-align: right;\">\n",
       "      <th></th>\n",
       "      <th>predictor</th>\n",
       "      <th>feature importance</th>\n",
       "    </tr>\n",
       "  </thead>\n",
       "  <tbody>\n",
       "    <tr>\n",
       "      <th>7</th>\n",
       "      <td>cogproc</td>\n",
       "      <td>0.162333</td>\n",
       "    </tr>\n",
       "    <tr>\n",
       "      <th>21</th>\n",
       "      <td>home</td>\n",
       "      <td>0.127767</td>\n",
       "    </tr>\n",
       "    <tr>\n",
       "      <th>0</th>\n",
       "      <td>Analytic</td>\n",
       "      <td>0.123427</td>\n",
       "    </tr>\n",
       "    <tr>\n",
       "      <th>3</th>\n",
       "      <td>social</td>\n",
       "      <td>0.082994</td>\n",
       "    </tr>\n",
       "    <tr>\n",
       "      <th>16</th>\n",
       "      <td>power</td>\n",
       "      <td>0.081168</td>\n",
       "    </tr>\n",
       "    <tr>\n",
       "      <th>20</th>\n",
       "      <td>leisure</td>\n",
       "      <td>0.080321</td>\n",
       "    </tr>\n",
       "    <tr>\n",
       "      <th>19</th>\n",
       "      <td>work</td>\n",
       "      <td>0.078784</td>\n",
       "    </tr>\n",
       "    <tr>\n",
       "      <th>13</th>\n",
       "      <td>drives</td>\n",
       "      <td>0.070614</td>\n",
       "    </tr>\n",
       "    <tr>\n",
       "      <th>22</th>\n",
       "      <td>money</td>\n",
       "      <td>0.047792</td>\n",
       "    </tr>\n",
       "    <tr>\n",
       "      <th>8</th>\n",
       "      <td>percept</td>\n",
       "      <td>0.028334</td>\n",
       "    </tr>\n",
       "  </tbody>\n",
       "</table>\n",
       "</div>"
      ],
      "text/plain": [
       "   predictor  feature importance\n",
       "7    cogproc            0.162333\n",
       "21      home            0.127767\n",
       "0   Analytic            0.123427\n",
       "3     social            0.082994\n",
       "16     power            0.081168\n",
       "20   leisure            0.080321\n",
       "19      work            0.078784\n",
       "13    drives            0.070614\n",
       "22     money            0.047792\n",
       "8    percept            0.028334"
      ]
     },
     "execution_count": 17,
     "metadata": {},
     "output_type": "execute_result"
    }
   ],
   "source": [
    "coeff_list = pd.DataFrame(list(zip(X.columns, rf_model.feature_importances_)), columns = ['predictor','feature importance']).sort_values(by='feature importance', ascending=False)\n",
    "#coeff_list = pd.DataFrame(list(zip(X.columns, rf_model.feature_importances_)), columns = ['predictor','feature importance']).sort_values(by='feature importance', ascending=False)\n",
    "coeff_list.head(10)"
   ]
  },
  {
   "cell_type": "markdown",
   "metadata": {},
   "source": [
    "## Fox Carolina News"
   ]
  },
  {
   "cell_type": "code",
   "execution_count": 18,
   "metadata": {},
   "outputs": [
    {
     "name": "stdout",
     "output_type": "stream",
     "text": [
      "Training time: 4.764584541320801 seconds\n",
      "Mean Absolute Error: 740.935103698676\n",
      "Root Mean Squared Error: 4750.556171731624\n",
      "R^2:  -46.71208997404448\n"
     ]
    },
    {
     "data": {
      "text/html": [
       "<div>\n",
       "<style scoped>\n",
       "    .dataframe tbody tr th:only-of-type {\n",
       "        vertical-align: middle;\n",
       "    }\n",
       "\n",
       "    .dataframe tbody tr th {\n",
       "        vertical-align: top;\n",
       "    }\n",
       "\n",
       "    .dataframe thead th {\n",
       "        text-align: right;\n",
       "    }\n",
       "</style>\n",
       "<table border=\"1\" class=\"dataframe\">\n",
       "  <thead>\n",
       "    <tr style=\"text-align: right;\">\n",
       "      <th></th>\n",
       "      <th>predictor</th>\n",
       "      <th>feature importance</th>\n",
       "    </tr>\n",
       "  </thead>\n",
       "  <tbody>\n",
       "    <tr>\n",
       "      <th>8</th>\n",
       "      <td>percept</td>\n",
       "      <td>0.119805</td>\n",
       "    </tr>\n",
       "    <tr>\n",
       "      <th>9</th>\n",
       "      <td>see</td>\n",
       "      <td>0.117670</td>\n",
       "    </tr>\n",
       "    <tr>\n",
       "      <th>6</th>\n",
       "      <td>male</td>\n",
       "      <td>0.105753</td>\n",
       "    </tr>\n",
       "    <tr>\n",
       "      <th>0</th>\n",
       "      <td>Analytic</td>\n",
       "      <td>0.090999</td>\n",
       "    </tr>\n",
       "    <tr>\n",
       "      <th>3</th>\n",
       "      <td>social</td>\n",
       "      <td>0.073085</td>\n",
       "    </tr>\n",
       "    <tr>\n",
       "      <th>20</th>\n",
       "      <td>leisure</td>\n",
       "      <td>0.069693</td>\n",
       "    </tr>\n",
       "    <tr>\n",
       "      <th>12</th>\n",
       "      <td>health</td>\n",
       "      <td>0.064285</td>\n",
       "    </tr>\n",
       "    <tr>\n",
       "      <th>13</th>\n",
       "      <td>drives</td>\n",
       "      <td>0.058862</td>\n",
       "    </tr>\n",
       "    <tr>\n",
       "      <th>10</th>\n",
       "      <td>hear</td>\n",
       "      <td>0.048283</td>\n",
       "    </tr>\n",
       "    <tr>\n",
       "      <th>16</th>\n",
       "      <td>power</td>\n",
       "      <td>0.047493</td>\n",
       "    </tr>\n",
       "    <tr>\n",
       "      <th>7</th>\n",
       "      <td>cogproc</td>\n",
       "      <td>0.035277</td>\n",
       "    </tr>\n",
       "    <tr>\n",
       "      <th>19</th>\n",
       "      <td>work</td>\n",
       "      <td>0.028877</td>\n",
       "    </tr>\n",
       "    <tr>\n",
       "      <th>25</th>\n",
       "      <td>Message_sentiment_category_Positive</td>\n",
       "      <td>0.019549</td>\n",
       "    </tr>\n",
       "    <tr>\n",
       "      <th>24</th>\n",
       "      <td>death</td>\n",
       "      <td>0.012286</td>\n",
       "    </tr>\n",
       "    <tr>\n",
       "      <th>14</th>\n",
       "      <td>affiliation</td>\n",
       "      <td>0.012190</td>\n",
       "    </tr>\n",
       "  </tbody>\n",
       "</table>\n",
       "</div>"
      ],
      "text/plain": [
       "                              predictor  feature importance\n",
       "8                               percept            0.119805\n",
       "9                                   see            0.117670\n",
       "6                                  male            0.105753\n",
       "0                              Analytic            0.090999\n",
       "3                                social            0.073085\n",
       "20                              leisure            0.069693\n",
       "12                               health            0.064285\n",
       "13                               drives            0.058862\n",
       "10                                 hear            0.048283\n",
       "16                                power            0.047493\n",
       "7                               cogproc            0.035277\n",
       "19                                 work            0.028877\n",
       "25  Message_sentiment_category_Positive            0.019549\n",
       "24                                death            0.012286\n",
       "14                          affiliation            0.012190"
      ]
     },
     "execution_count": 18,
     "metadata": {},
     "output_type": "execute_result"
    }
   ],
   "source": [
    "# Filter to specific brand/category\n",
    "df_ready = df_liwc[ (df_liwc['Page.Name'] == \"Fox Carolina News\") ]\n",
    "\n",
    "# Drop attributes for grouping (can be used in future iterations)\n",
    "df_ready = df_ready.drop(['Page.Name', 'Page.Category','Type'], axis = 1)\n",
    "\n",
    "# Dummify and split train/test\n",
    "X = pd.get_dummies(df_ready, columns = ['Message_sentiment_category', 'Message_subjective_category', \n",
    "                                       'page_desc_sentiment_category', 'page_desc_subjective_category'], \n",
    "                  drop_first = True)\n",
    "\n",
    "y = X['Total.Interactions']\n",
    "\n",
    "X.drop(['Total.Interactions'], inplace = True, axis = 1)\n",
    "\n",
    "x_train, x_test, y_train, y_test = train_test_split(X, y, test_size=0.3, random_state = 13)\n",
    "\n",
    "start = time.time()\n",
    "rf_model = forest(x_train,y_train)\n",
    "stop = time.time()\n",
    "print(f\"Training time: {stop - start} seconds\")\n",
    "\n",
    "\n",
    "# Make predictions and print metrics\n",
    "predictions = rf_model.predict(x_test)\n",
    "\n",
    "print('Mean Absolute Error:', metrics.mean_absolute_error(y_test, predictions))\n",
    "print('Root Mean Squared Error:', np.sqrt(metrics.mean_squared_error(y_test, predictions)))\n",
    "print('R^2: ', rf_model.score(x_test, y_test))\n",
    "\n",
    "coeff_list = pd.DataFrame(list(zip(X.columns, rf_model.feature_importances_)), columns = ['predictor','feature importance']).sort_values(by='feature importance', ascending=False)\n",
    "coeff_list.head(15)"
   ]
  },
  {
   "cell_type": "markdown",
   "metadata": {},
   "source": [
    "## Tech Insider"
   ]
  },
  {
   "cell_type": "code",
   "execution_count": 19,
   "metadata": {},
   "outputs": [
    {
     "name": "stdout",
     "output_type": "stream",
     "text": [
      "Training time: 5.1148810386657715 seconds\n",
      "Mean Absolute Error: 2183.7584893149033\n",
      "Root Mean Squared Error: 12694.697722368426\n",
      "R^2:  0.008859415817663918\n"
     ]
    },
    {
     "data": {
      "text/html": [
       "<div>\n",
       "<style scoped>\n",
       "    .dataframe tbody tr th:only-of-type {\n",
       "        vertical-align: middle;\n",
       "    }\n",
       "\n",
       "    .dataframe tbody tr th {\n",
       "        vertical-align: top;\n",
       "    }\n",
       "\n",
       "    .dataframe thead th {\n",
       "        text-align: right;\n",
       "    }\n",
       "</style>\n",
       "<table border=\"1\" class=\"dataframe\">\n",
       "  <thead>\n",
       "    <tr style=\"text-align: right;\">\n",
       "      <th></th>\n",
       "      <th>predictor</th>\n",
       "      <th>feature importance</th>\n",
       "    </tr>\n",
       "  </thead>\n",
       "  <tbody>\n",
       "    <tr>\n",
       "      <th>3</th>\n",
       "      <td>social</td>\n",
       "      <td>0.188790</td>\n",
       "    </tr>\n",
       "    <tr>\n",
       "      <th>0</th>\n",
       "      <td>Analytic</td>\n",
       "      <td>0.148051</td>\n",
       "    </tr>\n",
       "    <tr>\n",
       "      <th>13</th>\n",
       "      <td>drives</td>\n",
       "      <td>0.088510</td>\n",
       "    </tr>\n",
       "    <tr>\n",
       "      <th>7</th>\n",
       "      <td>cogproc</td>\n",
       "      <td>0.088260</td>\n",
       "    </tr>\n",
       "    <tr>\n",
       "      <th>8</th>\n",
       "      <td>percept</td>\n",
       "      <td>0.079962</td>\n",
       "    </tr>\n",
       "    <tr>\n",
       "      <th>20</th>\n",
       "      <td>leisure</td>\n",
       "      <td>0.064688</td>\n",
       "    </tr>\n",
       "    <tr>\n",
       "      <th>14</th>\n",
       "      <td>affiliation</td>\n",
       "      <td>0.058956</td>\n",
       "    </tr>\n",
       "    <tr>\n",
       "      <th>16</th>\n",
       "      <td>power</td>\n",
       "      <td>0.038942</td>\n",
       "    </tr>\n",
       "    <tr>\n",
       "      <th>26</th>\n",
       "      <td>Message_subjective_category_Subjective</td>\n",
       "      <td>0.026278</td>\n",
       "    </tr>\n",
       "    <tr>\n",
       "      <th>19</th>\n",
       "      <td>work</td>\n",
       "      <td>0.025630</td>\n",
       "    </tr>\n",
       "    <tr>\n",
       "      <th>15</th>\n",
       "      <td>achieve</td>\n",
       "      <td>0.025412</td>\n",
       "    </tr>\n",
       "    <tr>\n",
       "      <th>11</th>\n",
       "      <td>feel</td>\n",
       "      <td>0.022106</td>\n",
       "    </tr>\n",
       "    <tr>\n",
       "      <th>18</th>\n",
       "      <td>risk</td>\n",
       "      <td>0.021265</td>\n",
       "    </tr>\n",
       "    <tr>\n",
       "      <th>9</th>\n",
       "      <td>see</td>\n",
       "      <td>0.019707</td>\n",
       "    </tr>\n",
       "    <tr>\n",
       "      <th>12</th>\n",
       "      <td>health</td>\n",
       "      <td>0.019455</td>\n",
       "    </tr>\n",
       "  </tbody>\n",
       "</table>\n",
       "</div>"
      ],
      "text/plain": [
       "                                 predictor  feature importance\n",
       "3                                   social            0.188790\n",
       "0                                 Analytic            0.148051\n",
       "13                                  drives            0.088510\n",
       "7                                  cogproc            0.088260\n",
       "8                                  percept            0.079962\n",
       "20                                 leisure            0.064688\n",
       "14                             affiliation            0.058956\n",
       "16                                   power            0.038942\n",
       "26  Message_subjective_category_Subjective            0.026278\n",
       "19                                    work            0.025630\n",
       "15                                 achieve            0.025412\n",
       "11                                    feel            0.022106\n",
       "18                                    risk            0.021265\n",
       "9                                      see            0.019707\n",
       "12                                  health            0.019455"
      ]
     },
     "execution_count": 19,
     "metadata": {},
     "output_type": "execute_result"
    }
   ],
   "source": [
    "# Filter to specific brand/category\n",
    "df_ready = df_liwc[ (df_liwc['Page.Name'] == \"Tech Insider\") ]\n",
    "\n",
    "# Drop attributes for grouping (can be used in future iterations)\n",
    "df_ready = df_ready.drop(['Page.Name', 'Page.Category','Type'], axis = 1)\n",
    "\n",
    "# Dummify and split train/test\n",
    "X = pd.get_dummies(df_ready, columns = ['Message_sentiment_category', 'Message_subjective_category', \n",
    "                                       'page_desc_sentiment_category', 'page_desc_subjective_category'], \n",
    "                  drop_first = True)\n",
    "\n",
    "y = X['Total.Interactions']\n",
    "\n",
    "X.drop(['Total.Interactions'], inplace = True, axis = 1)\n",
    "\n",
    "x_train, x_test, y_train, y_test = train_test_split(X, y, test_size=0.3, random_state = 13)\n",
    "\n",
    "start = time.time()\n",
    "rf_model = forest(x_train,y_train)\n",
    "stop = time.time()\n",
    "print(f\"Training time: {stop - start} seconds\")\n",
    "\n",
    "\n",
    "# Make predictions and print metrics\n",
    "predictions = rf_model.predict(x_test)\n",
    "\n",
    "print('Mean Absolute Error:', metrics.mean_absolute_error(y_test, predictions))\n",
    "print('Root Mean Squared Error:', np.sqrt(metrics.mean_squared_error(y_test, predictions)))\n",
    "print('R^2: ', rf_model.score(x_test, y_test))\n",
    "\n",
    "coeff_list = pd.DataFrame(list(zip(X.columns, rf_model.feature_importances_)), columns = ['predictor','feature importance']).sort_values(by='feature importance', ascending=False)\n",
    "coeff_list.head(15)"
   ]
  },
  {
   "cell_type": "markdown",
   "metadata": {},
   "source": [
    "## Try using percentiles to transform values\n",
    "## Tech Insider"
   ]
  },
  {
   "cell_type": "code",
   "execution_count": 30,
   "metadata": {},
   "outputs": [
    {
     "name": "stdout",
     "output_type": "stream",
     "text": [
      "50th percentile of target (less top 30% of values): 46.0\n"
     ]
    },
    {
     "data": {
      "text/plain": [
       "<AxesSubplot:>"
      ]
     },
     "execution_count": 30,
     "metadata": {},
     "output_type": "execute_result"
    },
    {
     "data": {
      "image/png": "[encoded data removed]",
      "text/plain": [
       "<Figure size 432x288 with 1 Axes>"
      ]
     },
     "metadata": {
      "needs_background": "light"
     },
     "output_type": "display_data"
    }
   ],
   "source": [
    "subst = df_liwc.loc[df_liwc['Page.Name'] == \"Tech Insider\", \"Total.Interactions\"]\n",
    "\n",
    "n = 70\n",
    "midpoint = np.percentile(subst[ (subst < np.percentile(subst, n)) ], 50)\n",
    "\n",
    "print(f\"50th percentile of target (less top {100-n}% of values): {midpoint}\")\n",
    "subst[ (subst < np.percentile(subst, n)) ].hist()"
   ]
  },
  {
   "cell_type": "code",
   "execution_count": 21,
   "metadata": {},
   "outputs": [
    {
     "name": "stdout",
     "output_type": "stream",
     "text": [
      "Training time: 3.1328353881835938 seconds\n",
      "Mean Absolute Error: 3280.1103653846158\n",
      "Root Mean Squared Error: 13099.037407351587\n",
      "R^2:  -0.09267009219958089\n"
     ]
    },
    {
     "data": {
      "text/html": [
       "<div>\n",
       "<style scoped>\n",
       "    .dataframe tbody tr th:only-of-type {\n",
       "        vertical-align: middle;\n",
       "    }\n",
       "\n",
       "    .dataframe tbody tr th {\n",
       "        vertical-align: top;\n",
       "    }\n",
       "\n",
       "    .dataframe thead th {\n",
       "        text-align: right;\n",
       "    }\n",
       "</style>\n",
       "<table border=\"1\" class=\"dataframe\">\n",
       "  <thead>\n",
       "    <tr style=\"text-align: right;\">\n",
       "      <th></th>\n",
       "      <th>predictor</th>\n",
       "      <th>feature importance</th>\n",
       "    </tr>\n",
       "  </thead>\n",
       "  <tbody>\n",
       "    <tr>\n",
       "      <th>3</th>\n",
       "      <td>social</td>\n",
       "      <td>0.224234</td>\n",
       "    </tr>\n",
       "    <tr>\n",
       "      <th>0</th>\n",
       "      <td>Analytic</td>\n",
       "      <td>0.113777</td>\n",
       "    </tr>\n",
       "    <tr>\n",
       "      <th>13</th>\n",
       "      <td>drives</td>\n",
       "      <td>0.085392</td>\n",
       "    </tr>\n",
       "    <tr>\n",
       "      <th>7</th>\n",
       "      <td>cogproc</td>\n",
       "      <td>0.080142</td>\n",
       "    </tr>\n",
       "    <tr>\n",
       "      <th>14</th>\n",
       "      <td>affiliation</td>\n",
       "      <td>0.072496</td>\n",
       "    </tr>\n",
       "    <tr>\n",
       "      <th>8</th>\n",
       "      <td>percept</td>\n",
       "      <td>0.058687</td>\n",
       "    </tr>\n",
       "    <tr>\n",
       "      <th>6</th>\n",
       "      <td>male</td>\n",
       "      <td>0.058483</td>\n",
       "    </tr>\n",
       "    <tr>\n",
       "      <th>21</th>\n",
       "      <td>home</td>\n",
       "      <td>0.046782</td>\n",
       "    </tr>\n",
       "    <tr>\n",
       "      <th>20</th>\n",
       "      <td>leisure</td>\n",
       "      <td>0.042258</td>\n",
       "    </tr>\n",
       "    <tr>\n",
       "      <th>12</th>\n",
       "      <td>health</td>\n",
       "      <td>0.037798</td>\n",
       "    </tr>\n",
       "    <tr>\n",
       "      <th>26</th>\n",
       "      <td>Message_subjective_category_Subjective</td>\n",
       "      <td>0.027037</td>\n",
       "    </tr>\n",
       "    <tr>\n",
       "      <th>19</th>\n",
       "      <td>work</td>\n",
       "      <td>0.021717</td>\n",
       "    </tr>\n",
       "    <tr>\n",
       "      <th>18</th>\n",
       "      <td>risk</td>\n",
       "      <td>0.020625</td>\n",
       "    </tr>\n",
       "    <tr>\n",
       "      <th>25</th>\n",
       "      <td>Message_sentiment_category_Positive</td>\n",
       "      <td>0.019051</td>\n",
       "    </tr>\n",
       "    <tr>\n",
       "      <th>16</th>\n",
       "      <td>power</td>\n",
       "      <td>0.017618</td>\n",
       "    </tr>\n",
       "  </tbody>\n",
       "</table>\n",
       "</div>"
      ],
      "text/plain": [
       "                                 predictor  feature importance\n",
       "3                                   social            0.224234\n",
       "0                                 Analytic            0.113777\n",
       "13                                  drives            0.085392\n",
       "7                                  cogproc            0.080142\n",
       "14                             affiliation            0.072496\n",
       "8                                  percept            0.058687\n",
       "6                                     male            0.058483\n",
       "21                                    home            0.046782\n",
       "20                                 leisure            0.042258\n",
       "12                                  health            0.037798\n",
       "26  Message_subjective_category_Subjective            0.027037\n",
       "19                                    work            0.021717\n",
       "18                                    risk            0.020625\n",
       "25     Message_sentiment_category_Positive            0.019051\n",
       "16                                   power            0.017618"
      ]
     },
     "execution_count": 21,
     "metadata": {},
     "output_type": "execute_result"
    }
   ],
   "source": [
    "# Filter to specific brand/category\n",
    "#df_ready = df_liwc[ (df_liwc['Page.Name'] == \"Tech Insider\") | (df_liwc['Page.Name'] == \"Tech Insider\") ]\n",
    "df_high = df_liwc[ (df_liwc['Page.Name'] == \"Tech Insider\") & (df_liwc['Total.Interactions'] >= 59) ]\n",
    "\n",
    "# Drop attributes for grouping (can be used in future iterations)\n",
    "df_high = df_high.drop(['Page.Name', 'Page.Category','Type'], axis = 1)\n",
    "\n",
    "# Dummify and split train/test\n",
    "X = pd.get_dummies(df_high, columns = ['Message_sentiment_category', 'Message_subjective_category', \n",
    "                                       'page_desc_sentiment_category', 'page_desc_subjective_category'], \n",
    "                  drop_first = True)\n",
    "\n",
    "y = X['Total.Interactions']\n",
    "\n",
    "X.drop(['Total.Interactions'], inplace = True, axis = 1)\n",
    "\n",
    "x_train, x_test, y_train, y_test = train_test_split(X, y, test_size=0.3, random_state = 13)\n",
    "\n",
    "start = time.time()\n",
    "rf_model = forest(x_train,y_train)\n",
    "stop = time.time()\n",
    "print(f\"Training time: {stop - start} seconds\")\n",
    "\n",
    "\n",
    "# Make predictions and print metrics\n",
    "predictions = rf_model.predict(x_test)\n",
    "\n",
    "print('Mean Absolute Error:', metrics.mean_absolute_error(y_test, predictions))\n",
    "print('Root Mean Squared Error:', np.sqrt(metrics.mean_squared_error(y_test, predictions)))\n",
    "print('R^2: ', rf_model.score(x_test, y_test))\n",
    "\n",
    "coeff_list = pd.DataFrame(list(zip(X.columns, rf_model.feature_importances_)), columns = ['predictor','feature importance']).sort_values(by='feature importance', ascending=False)\n",
    "coeff_list.head(15)"
   ]
  },
  {
   "cell_type": "markdown",
   "metadata": {},
   "source": [
    "## Fox Carolina News"
   ]
  },
  {
   "cell_type": "code",
   "execution_count": 22,
   "metadata": {},
   "outputs": [
    {
     "name": "stdout",
     "output_type": "stream",
     "text": [
      "50th percentile of target (less top 30% of values): 27.0\n"
     ]
    },
    {
     "data": {
      "text/plain": [
       "<AxesSubplot:>"
      ]
     },
     "execution_count": 22,
     "metadata": {},
     "output_type": "execute_result"
    },
    {
     "data": {
      "image/png": "[encoded data removed]",
      "text/plain": [
       "<Figure size 432x288 with 1 Axes>"
      ]
     },
     "metadata": {
      "needs_background": "light"
     },
     "output_type": "display_data"
    }
   ],
   "source": [
    "subst = df_liwc.loc[df_liwc['Page.Name'] == \"Fox Carolina News\", \"Total.Interactions\"]\n",
    "\n",
    "n = 70\n",
    "midpoint = np.percentile(subst[ (subst < np.percentile(subst, n)) ], 50)\n",
    "\n",
    "print(f\"50th percentile of target (less top {100-n}% of values): {midpoint}\")\n",
    "subst[ (subst < np.percentile(subst, n)) ].hist()"
   ]
  },
  {
   "cell_type": "code",
   "execution_count": 23,
   "metadata": {},
   "outputs": [
    {
     "name": "stdout",
     "output_type": "stream",
     "text": [
      "Training time: 4.4693214893341064 seconds\n",
      "Mean Absolute Error: 1005.2350904469607\n",
      "Root Mean Squared Error: 6122.873555772265\n",
      "R^2:  -49.880593874121345\n"
     ]
    },
    {
     "data": {
      "text/html": [
       "<div>\n",
       "<style scoped>\n",
       "    .dataframe tbody tr th:only-of-type {\n",
       "        vertical-align: middle;\n",
       "    }\n",
       "\n",
       "    .dataframe tbody tr th {\n",
       "        vertical-align: top;\n",
       "    }\n",
       "\n",
       "    .dataframe thead th {\n",
       "        text-align: right;\n",
       "    }\n",
       "</style>\n",
       "<table border=\"1\" class=\"dataframe\">\n",
       "  <thead>\n",
       "    <tr style=\"text-align: right;\">\n",
       "      <th></th>\n",
       "      <th>predictor</th>\n",
       "      <th>feature importance</th>\n",
       "    </tr>\n",
       "  </thead>\n",
       "  <tbody>\n",
       "    <tr>\n",
       "      <th>8</th>\n",
       "      <td>percept</td>\n",
       "      <td>0.115684</td>\n",
       "    </tr>\n",
       "    <tr>\n",
       "      <th>9</th>\n",
       "      <td>see</td>\n",
       "      <td>0.107700</td>\n",
       "    </tr>\n",
       "    <tr>\n",
       "      <th>0</th>\n",
       "      <td>Analytic</td>\n",
       "      <td>0.097614</td>\n",
       "    </tr>\n",
       "    <tr>\n",
       "      <th>6</th>\n",
       "      <td>male</td>\n",
       "      <td>0.084923</td>\n",
       "    </tr>\n",
       "    <tr>\n",
       "      <th>20</th>\n",
       "      <td>leisure</td>\n",
       "      <td>0.072772</td>\n",
       "    </tr>\n",
       "    <tr>\n",
       "      <th>10</th>\n",
       "      <td>hear</td>\n",
       "      <td>0.069533</td>\n",
       "    </tr>\n",
       "    <tr>\n",
       "      <th>3</th>\n",
       "      <td>social</td>\n",
       "      <td>0.067377</td>\n",
       "    </tr>\n",
       "    <tr>\n",
       "      <th>12</th>\n",
       "      <td>health</td>\n",
       "      <td>0.062965</td>\n",
       "    </tr>\n",
       "    <tr>\n",
       "      <th>13</th>\n",
       "      <td>drives</td>\n",
       "      <td>0.055048</td>\n",
       "    </tr>\n",
       "    <tr>\n",
       "      <th>16</th>\n",
       "      <td>power</td>\n",
       "      <td>0.050498</td>\n",
       "    </tr>\n",
       "    <tr>\n",
       "      <th>7</th>\n",
       "      <td>cogproc</td>\n",
       "      <td>0.036497</td>\n",
       "    </tr>\n",
       "    <tr>\n",
       "      <th>19</th>\n",
       "      <td>work</td>\n",
       "      <td>0.027551</td>\n",
       "    </tr>\n",
       "    <tr>\n",
       "      <th>25</th>\n",
       "      <td>Message_sentiment_category_Positive</td>\n",
       "      <td>0.021311</td>\n",
       "    </tr>\n",
       "    <tr>\n",
       "      <th>24</th>\n",
       "      <td>death</td>\n",
       "      <td>0.018380</td>\n",
       "    </tr>\n",
       "    <tr>\n",
       "      <th>14</th>\n",
       "      <td>affiliation</td>\n",
       "      <td>0.014598</td>\n",
       "    </tr>\n",
       "  </tbody>\n",
       "</table>\n",
       "</div>"
      ],
      "text/plain": [
       "                              predictor  feature importance\n",
       "8                               percept            0.115684\n",
       "9                                   see            0.107700\n",
       "0                              Analytic            0.097614\n",
       "6                                  male            0.084923\n",
       "20                              leisure            0.072772\n",
       "10                                 hear            0.069533\n",
       "3                                social            0.067377\n",
       "12                               health            0.062965\n",
       "13                               drives            0.055048\n",
       "16                                power            0.050498\n",
       "7                               cogproc            0.036497\n",
       "19                                 work            0.027551\n",
       "25  Message_sentiment_category_Positive            0.021311\n",
       "24                                death            0.018380\n",
       "14                          affiliation            0.014598"
      ]
     },
     "execution_count": 23,
     "metadata": {},
     "output_type": "execute_result"
    }
   ],
   "source": [
    "# Filter to specific brand/category\n",
    "#df_ready = df_liwc[ (df_liwc['Page.Name'] == \"Tech Insider\") | (df_liwc['Page.Name'] == \"Tech Insider\") ]\n",
    "df_high = df_liwc[ (df_liwc['Page.Name'] == \"Fox Carolina News\") & (df_liwc['Total.Interactions'] >= 27) ]\n",
    "\n",
    "# Drop attributes for grouping (can be used in future iterations)\n",
    "df_high = df_high.drop(['Page.Name', 'Page.Category','Type'], axis = 1)\n",
    "\n",
    "# Dummify and split train/test\n",
    "X = pd.get_dummies(df_high, columns = ['Message_sentiment_category', 'Message_subjective_category', \n",
    "                                       'page_desc_sentiment_category', 'page_desc_subjective_category'], \n",
    "                  drop_first = True)\n",
    "\n",
    "y = X['Total.Interactions']\n",
    "\n",
    "X.drop(['Total.Interactions'], inplace = True, axis = 1)\n",
    "\n",
    "x_train, x_test, y_train, y_test = train_test_split(X, y, test_size=0.3, random_state = 13)\n",
    "\n",
    "start = time.time()\n",
    "rf_model = forest(x_train,y_train)\n",
    "stop = time.time()\n",
    "print(f\"Training time: {stop - start} seconds\")\n",
    "\n",
    "# Make predictions and print metrics\n",
    "predictions = rf_model.predict(x_test)\n",
    "\n",
    "print('Mean Absolute Error:', metrics.mean_absolute_error(y_test, predictions))\n",
    "print('Root Mean Squared Error:', np.sqrt(metrics.mean_squared_error(y_test, predictions)))\n",
    "print('R^2: ', rf_model.score(x_test, y_test))\n",
    "\n",
    "coeff_list = pd.DataFrame(list(zip(X.columns, rf_model.feature_importances_)), columns = ['predictor','feature importance']).sort_values(by='feature importance', ascending=False)\n",
    "coeff_list.head(15)"
   ]
  },
  {
   "cell_type": "markdown",
   "metadata": {},
   "source": [
    "## Fox Carolina News - Links only"
   ]
  },
  {
   "cell_type": "code",
   "execution_count": 24,
   "metadata": {},
   "outputs": [
    {
     "name": "stdout",
     "output_type": "stream",
     "text": [
      "50th percentile of target (less top 30% of values): 26.0\n"
     ]
    },
    {
     "data": {
      "text/plain": [
       "<AxesSubplot:>"
      ]
     },
     "execution_count": 24,
     "metadata": {},
     "output_type": "execute_result"
    },
    {
     "data": {
      "image/png": "[encoded data removed]",
      "text/plain": [
       "<Figure size 432x288 with 1 Axes>"
      ]
     },
     "metadata": {
      "needs_background": "light"
     },
     "output_type": "display_data"
    }
   ],
   "source": [
    "subst = df_liwc.loc[ (df_liwc['Page.Name'] == \"Fox Carolina News\") & (df_liwc['Type'] == \"Link\"), \"Total.Interactions\"]\n",
    "\n",
    "n = 70\n",
    "midpoint = np.percentile(subst[ (subst < np.percentile(subst, n)) ], 50)\n",
    "halfway = subst[ (subst < np.percentile(subst, n)) ].max() / 2\n",
    "\n",
    "print(f\"50th percentile of target (less top {100-n}% of values): {midpoint}\")#\\n\" \\\n",
    "#      f\"50% of target (less top {100-n}% of values): {halfway}\")\n",
    "subst[ (subst < np.percentile(subst, n)) ].hist()"
   ]
  },
  {
   "cell_type": "code",
   "execution_count": 25,
   "metadata": {},
   "outputs": [
    {
     "name": "stdout",
     "output_type": "stream",
     "text": [
      "Training time: 2.523379325866699 seconds\n",
      "Mean Absolute Error: 383.0109931036812\n",
      "Root Mean Squared Error: 780.2791770563675\n",
      "R^2:  -0.0043408791360139976\n"
     ]
    },
    {
     "data": {
      "text/html": [
       "<div>\n",
       "<style scoped>\n",
       "    .dataframe tbody tr th:only-of-type {\n",
       "        vertical-align: middle;\n",
       "    }\n",
       "\n",
       "    .dataframe tbody tr th {\n",
       "        vertical-align: top;\n",
       "    }\n",
       "\n",
       "    .dataframe thead th {\n",
       "        text-align: right;\n",
       "    }\n",
       "</style>\n",
       "<table border=\"1\" class=\"dataframe\">\n",
       "  <thead>\n",
       "    <tr style=\"text-align: right;\">\n",
       "      <th></th>\n",
       "      <th>predictor</th>\n",
       "      <th>feature importance</th>\n",
       "    </tr>\n",
       "  </thead>\n",
       "  <tbody>\n",
       "    <tr>\n",
       "      <th>19</th>\n",
       "      <td>work</td>\n",
       "      <td>0.075718</td>\n",
       "    </tr>\n",
       "    <tr>\n",
       "      <th>3</th>\n",
       "      <td>social</td>\n",
       "      <td>0.070369</td>\n",
       "    </tr>\n",
       "    <tr>\n",
       "      <th>24</th>\n",
       "      <td>death</td>\n",
       "      <td>0.062796</td>\n",
       "    </tr>\n",
       "    <tr>\n",
       "      <th>13</th>\n",
       "      <td>drives</td>\n",
       "      <td>0.059705</td>\n",
       "    </tr>\n",
       "    <tr>\n",
       "      <th>0</th>\n",
       "      <td>Analytic</td>\n",
       "      <td>0.058337</td>\n",
       "    </tr>\n",
       "    <tr>\n",
       "      <th>7</th>\n",
       "      <td>cogproc</td>\n",
       "      <td>0.055747</td>\n",
       "    </tr>\n",
       "    <tr>\n",
       "      <th>16</th>\n",
       "      <td>power</td>\n",
       "      <td>0.052387</td>\n",
       "    </tr>\n",
       "    <tr>\n",
       "      <th>14</th>\n",
       "      <td>affiliation</td>\n",
       "      <td>0.051853</td>\n",
       "    </tr>\n",
       "    <tr>\n",
       "      <th>20</th>\n",
       "      <td>leisure</td>\n",
       "      <td>0.047797</td>\n",
       "    </tr>\n",
       "    <tr>\n",
       "      <th>21</th>\n",
       "      <td>home</td>\n",
       "      <td>0.046960</td>\n",
       "    </tr>\n",
       "    <tr>\n",
       "      <th>4</th>\n",
       "      <td>family</td>\n",
       "      <td>0.041887</td>\n",
       "    </tr>\n",
       "    <tr>\n",
       "      <th>8</th>\n",
       "      <td>percept</td>\n",
       "      <td>0.041087</td>\n",
       "    </tr>\n",
       "    <tr>\n",
       "      <th>1</th>\n",
       "      <td>anger</td>\n",
       "      <td>0.038621</td>\n",
       "    </tr>\n",
       "    <tr>\n",
       "      <th>15</th>\n",
       "      <td>achieve</td>\n",
       "      <td>0.037102</td>\n",
       "    </tr>\n",
       "    <tr>\n",
       "      <th>22</th>\n",
       "      <td>money</td>\n",
       "      <td>0.028304</td>\n",
       "    </tr>\n",
       "  </tbody>\n",
       "</table>\n",
       "</div>"
      ],
      "text/plain": [
       "      predictor  feature importance\n",
       "19         work            0.075718\n",
       "3        social            0.070369\n",
       "24        death            0.062796\n",
       "13       drives            0.059705\n",
       "0      Analytic            0.058337\n",
       "7       cogproc            0.055747\n",
       "16        power            0.052387\n",
       "14  affiliation            0.051853\n",
       "20      leisure            0.047797\n",
       "21         home            0.046960\n",
       "4        family            0.041887\n",
       "8       percept            0.041087\n",
       "1         anger            0.038621\n",
       "15      achieve            0.037102\n",
       "22        money            0.028304"
      ]
     },
     "execution_count": 25,
     "metadata": {},
     "output_type": "execute_result"
    }
   ],
   "source": [
    "# Filter to specific brand/category\n",
    "#df_ready = df_liwc[ (df_liwc['Page.Name'] == \"Tech Insider\") | (df_liwc['Page.Name'] == \"Tech Insider\") ]\n",
    "df_high = df_liwc[ (df_liwc['Page.Name'] == \"Fox Carolina News\") & (df_liwc['Type'] == \"Link\") \n",
    "                  & (df_liwc['Total.Interactions'] >= 26) ]\n",
    "\n",
    "# Drop attributes for grouping (can be used in future iterations)\n",
    "df_high = df_high.drop(['Page.Name', 'Page.Category','Type'], axis = 1)\n",
    "\n",
    "# Dummify and split train/test\n",
    "X = pd.get_dummies(df_high, columns = ['Message_sentiment_category', 'Message_subjective_category', \n",
    "                                       'page_desc_sentiment_category', 'page_desc_subjective_category'], \n",
    "                  drop_first = True)\n",
    "\n",
    "y = X['Total.Interactions']\n",
    "\n",
    "X.drop(['Total.Interactions'], inplace = True, axis = 1)\n",
    "\n",
    "x_train, x_test, y_train, y_test = train_test_split(X, y, test_size=0.3, random_state = 13)\n",
    "\n",
    "start = time.time()\n",
    "rf_model = forest(x_train,y_train)\n",
    "stop = time.time()\n",
    "print(f\"Training time: {stop - start} seconds\")\n",
    "\n",
    "# Make predictions and print metrics\n",
    "predictions = rf_model.predict(x_test)\n",
    "\n",
    "print('Mean Absolute Error:', metrics.mean_absolute_error(y_test, predictions))\n",
    "print('Root Mean Squared Error:', np.sqrt(metrics.mean_squared_error(y_test, predictions)))\n",
    "print('R^2: ', rf_model.score(x_test, y_test))\n",
    "\n",
    "coeff_list = pd.DataFrame(list(zip(X.columns, rf_model.feature_importances_)), columns = ['predictor','feature importance']).sort_values(by='feature importance', ascending=False)\n",
    "coeff_list.head(15)"
   ]
  },
  {
   "cell_type": "markdown",
   "metadata": {},
   "source": [
    "## Fox Carolina News - Videos only"
   ]
  },
  {
   "cell_type": "code",
   "execution_count": 26,
   "metadata": {},
   "outputs": [
    {
     "name": "stdout",
     "output_type": "stream",
     "text": [
      "50th percentile of target (less top 10% of values): 114.0\n"
     ]
    },
    {
     "data": {
      "text/plain": [
       "<AxesSubplot:>"
      ]
     },
     "execution_count": 26,
     "metadata": {},
     "output_type": "execute_result"
    },
    {
     "data": {
      "image/png": "[encoded data removed]",
      "text/plain": [
       "<Figure size 432x288 with 1 Axes>"
      ]
     },
     "metadata": {
      "needs_background": "light"
     },
     "output_type": "display_data"
    }
   ],
   "source": [
    "subst = df_liwc.loc[ (df_liwc['Page.Name'] == \"Fox Carolina News\") & ( (df_liwc['Type'] == \"Native Video\") | \n",
    "                                                             (df_liwc['Type'] == \"Video\") | \n",
    "                                                             (df_liwc['Type'] == \"Live Video Scheduled\") |\n",
    "                                                             (df_liwc['Type'] == \"Live Video Complete\")), \"Total.Interactions\"]\n",
    "\n",
    "n = 90\n",
    "midpoint = np.percentile(subst[ (subst < np.percentile(subst, n)) ], 50)\n",
    "\n",
    "print(f\"50th percentile of target (less top {100-n}% of values): {midpoint}\")\n",
    "subst[ (subst < np.percentile(subst, n)) ].hist()"
   ]
  },
  {
   "cell_type": "code",
   "execution_count": 27,
   "metadata": {},
   "outputs": [
    {
     "name": "stdout",
     "output_type": "stream",
     "text": [
      "Training time: 1.0155785083770752 seconds\n",
      "Mean Absolute Error: 3328.4349710652637\n",
      "Root Mean Squared Error: 10660.048241518083\n",
      "R^2:  -115.69988173028271\n"
     ]
    },
    {
     "data": {
      "text/html": [
       "<div>\n",
       "<style scoped>\n",
       "    .dataframe tbody tr th:only-of-type {\n",
       "        vertical-align: middle;\n",
       "    }\n",
       "\n",
       "    .dataframe tbody tr th {\n",
       "        vertical-align: top;\n",
       "    }\n",
       "\n",
       "    .dataframe thead th {\n",
       "        text-align: right;\n",
       "    }\n",
       "</style>\n",
       "<table border=\"1\" class=\"dataframe\">\n",
       "  <thead>\n",
       "    <tr style=\"text-align: right;\">\n",
       "      <th></th>\n",
       "      <th>predictor</th>\n",
       "      <th>feature importance</th>\n",
       "    </tr>\n",
       "  </thead>\n",
       "  <tbody>\n",
       "    <tr>\n",
       "      <th>6</th>\n",
       "      <td>male</td>\n",
       "      <td>0.135690</td>\n",
       "    </tr>\n",
       "    <tr>\n",
       "      <th>8</th>\n",
       "      <td>percept</td>\n",
       "      <td>0.126363</td>\n",
       "    </tr>\n",
       "    <tr>\n",
       "      <th>0</th>\n",
       "      <td>Analytic</td>\n",
       "      <td>0.105805</td>\n",
       "    </tr>\n",
       "    <tr>\n",
       "      <th>9</th>\n",
       "      <td>see</td>\n",
       "      <td>0.100915</td>\n",
       "    </tr>\n",
       "    <tr>\n",
       "      <th>10</th>\n",
       "      <td>hear</td>\n",
       "      <td>0.074424</td>\n",
       "    </tr>\n",
       "    <tr>\n",
       "      <th>20</th>\n",
       "      <td>leisure</td>\n",
       "      <td>0.073293</td>\n",
       "    </tr>\n",
       "    <tr>\n",
       "      <th>3</th>\n",
       "      <td>social</td>\n",
       "      <td>0.065926</td>\n",
       "    </tr>\n",
       "    <tr>\n",
       "      <th>16</th>\n",
       "      <td>power</td>\n",
       "      <td>0.060311</td>\n",
       "    </tr>\n",
       "    <tr>\n",
       "      <th>13</th>\n",
       "      <td>drives</td>\n",
       "      <td>0.060131</td>\n",
       "    </tr>\n",
       "    <tr>\n",
       "      <th>12</th>\n",
       "      <td>health</td>\n",
       "      <td>0.051144</td>\n",
       "    </tr>\n",
       "    <tr>\n",
       "      <th>7</th>\n",
       "      <td>cogproc</td>\n",
       "      <td>0.039460</td>\n",
       "    </tr>\n",
       "    <tr>\n",
       "      <th>25</th>\n",
       "      <td>Message_sentiment_category_Positive</td>\n",
       "      <td>0.016471</td>\n",
       "    </tr>\n",
       "    <tr>\n",
       "      <th>19</th>\n",
       "      <td>work</td>\n",
       "      <td>0.014372</td>\n",
       "    </tr>\n",
       "    <tr>\n",
       "      <th>14</th>\n",
       "      <td>affiliation</td>\n",
       "      <td>0.010554</td>\n",
       "    </tr>\n",
       "    <tr>\n",
       "      <th>26</th>\n",
       "      <td>Message_subjective_category_Subjective</td>\n",
       "      <td>0.009838</td>\n",
       "    </tr>\n",
       "  </tbody>\n",
       "</table>\n",
       "</div>"
      ],
      "text/plain": [
       "                                 predictor  feature importance\n",
       "6                                     male            0.135690\n",
       "8                                  percept            0.126363\n",
       "0                                 Analytic            0.105805\n",
       "9                                      see            0.100915\n",
       "10                                    hear            0.074424\n",
       "20                                 leisure            0.073293\n",
       "3                                   social            0.065926\n",
       "16                                   power            0.060311\n",
       "13                                  drives            0.060131\n",
       "12                                  health            0.051144\n",
       "7                                  cogproc            0.039460\n",
       "25     Message_sentiment_category_Positive            0.016471\n",
       "19                                    work            0.014372\n",
       "14                             affiliation            0.010554\n",
       "26  Message_subjective_category_Subjective            0.009838"
      ]
     },
     "execution_count": 27,
     "metadata": {},
     "output_type": "execute_result"
    }
   ],
   "source": [
    "# Filter to specific brand/category\n",
    "#df_ready = df_liwc[ (df_liwc['Page.Name'] == \"Tech Insider\") | (df_liwc['Page.Name'] == \"Tech Insider\") ]\n",
    "df_high = df_liwc[ (df_liwc['Page.Name'] == \"Fox Carolina News\") & ( (df_liwc['Type'] == \"Native Video\") | \n",
    "                                                             (df_liwc['Type'] == \"Video\") | \n",
    "                                                             (df_liwc['Type'] == \"Live Video Scheduled\") |\n",
    "                                                             (df_liwc['Type'] == \"Live Video Complete\")) \n",
    "                  & (df_liwc['Total.Interactions'] >= 114) ]\n",
    "\n",
    "# Drop attributes for grouping (can be used in future iterations)\n",
    "df_high = df_high.drop(['Page.Name', 'Page.Category','Type'], axis = 1)\n",
    "\n",
    "# Dummify and split train/test\n",
    "X = pd.get_dummies(df_high, columns = ['Message_sentiment_category', 'Message_subjective_category', \n",
    "                                       'page_desc_sentiment_category', 'page_desc_subjective_category'], \n",
    "                  drop_first = True)\n",
    "\n",
    "y = X['Total.Interactions']\n",
    "\n",
    "X.drop(['Total.Interactions'], inplace = True, axis = 1)\n",
    "\n",
    "x_train, x_test, y_train, y_test = train_test_split(X, y, test_size=0.3, random_state = 13)\n",
    "\n",
    "start = time.time()\n",
    "rf_model = forest(x_train,y_train)\n",
    "stop = time.time()\n",
    "print(f\"Training time: {stop - start} seconds\")\n",
    "\n",
    "# Make predictions and print metrics\n",
    "predictions = rf_model.predict(x_test)\n",
    "\n",
    "print('Mean Absolute Error:', metrics.mean_absolute_error(y_test, predictions))\n",
    "print('Root Mean Squared Error:', np.sqrt(metrics.mean_squared_error(y_test, predictions)))\n",
    "print('R^2: ', rf_model.score(x_test, y_test))\n",
    "\n",
    "coeff_list = pd.DataFrame(list(zip(X.columns, rf_model.feature_importances_)), columns = ['predictor','feature importance']).sort_values(by='feature importance', ascending=False)\n",
    "coeff_list.head(15)"
   ]
  },
  {
   "cell_type": "markdown",
   "metadata": {},
   "source": [
    "## Using score variable - Low and High\n",
    "### Focus on Tech Insider "
   ]
  },
  {
   "cell_type": "code",
   "execution_count": 38,
   "metadata": {},
   "outputs": [],
   "source": [
    "### Get a list of unique pages\n",
    "pages = df_a['Page.Name'].unique()\n",
    "\n",
    "### Compute the benchmark for each page\n",
    "benchmarks=[]\n",
    "\n",
    "# for each page\n",
    "for i in pages:\n",
    "    # get total interactions of last 100 posts\n",
    "    df_a_page = df_a.loc[df_a['Page.Name'] == i]\n",
    "    benchmark_df = pd.DataFrame(df_a_page['Total.Interactions']).head(min((len(df_a_page)),100))\n",
    "    # calculate benchmark - drop top & bottom 25% and take the mean\n",
    "    upper = np.percentile(benchmark_df['Total.Interactions'],75)\n",
    "    lower = np.percentile(benchmark_df['Total.Interactions'],25)\n",
    "    benchmark_df = benchmark_df[(benchmark_df['Total.Interactions'] <= upper) &\n",
    "                                (benchmark_df['Total.Interactions'] >= lower)]\n",
    "    benchmarks.append(benchmark_df['Total.Interactions'].mean())\n",
    "\n",
    "# zip pages & benchmarks into dictionary\n",
    "page_benchmark = dict(zip(pages,benchmarks))\n",
    "\n",
    "### compute score for each post\n",
    "scores = []\n",
    "\n",
    "# for each post\n",
    "for j in range(len(df_a)):\n",
    "    score = 0\n",
    "    threshold = 5+2 # for facebook\n",
    "    intr_exceed_threshold = False\n",
    "    intr_exceed_benchmark = False\n",
    "    \n",
    "    # evaluate the conditions with threshold & benchmark\n",
    "    intr_exceed_threshold = ((df_a.iloc[j,7]>=5) and #'Likes'\n",
    "        ((df_a.iloc[j,8]+df_a.iloc[j,9]+df_a.iloc[j,10]+df_a.iloc[j,11]+ #'Comments','Shares','Loves','Wow\n",
    "          df_a.iloc[j,12]+df_a.iloc[j,13]+df_a.iloc[j,14]+df_a.iloc[j,15])>=2) and #'Haha','Sad','Angry','Care'\n",
    "        (df_a.iloc[j,18]>=2)) #'Post.Views'\n",
    "    intr_exceed_benchmark = (df_a.iloc[j,6] >= page_benchmark.get(df_a.iloc[j,0])) #'Total.Interactions' >= benchmark with 'Page.Name'\n",
    "    \n",
    "    # calculate the score\n",
    "    if (df_a.iloc[j,6] == 0): #'Total.Interactions'\n",
    "        score = -2 * page_benchmark.get(df_a.iloc[j,0]) #benchmark with 'Page.Name'\n",
    "    elif (intr_exceed_threshold and intr_exceed_benchmark):\n",
    "        score = df_a.iloc[j,6]/page_benchmark.get(df_a.iloc[j,0])\n",
    "    elif (intr_exceed_threshold and not(intr_exceed_benchmark)):\n",
    "        score = -1 * (df_a.iloc[j,6]/page_benchmark.get(df_a.iloc[j,0]))\n",
    "    elif (not(intr_exceed_threshold) and intr_exceed_benchmark):\n",
    "        score = df_a.iloc[j,6]/threshold\n",
    "    elif (not(intr_exceed_threshold) and not(intr_exceed_benchmark)):\n",
    "        score = -1 * (df_a.iloc[j,6]/threshold)\n",
    "                                        \n",
    "    scores.append(score)                              \n",
    "\n",
    "df_a['Score'] = scores"
   ]
  },
  {
   "cell_type": "code",
   "execution_count": 39,
   "metadata": {},
   "outputs": [],
   "source": [
    "# Drop all other vars except target\n",
    "df_liwc = df_a.drop(['User.Name', 'Likes.at.Posting', 'Followers.at.Posting',\n",
    "                     'Likes', 'Comments', 'Shares', 'Love', 'Wow','Haha', 'Sad', 'Angry', 'Care', 'Video.Share.Status',\n",
    "                     'Is.Video.Owner.', 'Post.Views', 'Total.Views', 'Total.Views.For.All.Crossposts', 'Sponsor.Name', \n",
    "                     'Sponsor.Category','Message_sentiment', 'Message_subjective', 'Link', \n",
    "                     'is_linked', 'image_text_ind','link_title_len', 'link_desp_len', 'sponsor_cate_effect','page_cate_effect',\n",
    "                     'page_desc_sentiment', 'page_desc_subjective', 'Link', 'Live Video','Live Video Complete',\n",
    "                     'Live Video Scheduled', 'Native Video', 'Photo','Status', 'Video', 'YouTube', 'crosspost', 'owned', \n",
    "                     'share', '-', 'No','Yes',\n",
    "                     'Message_len','page_desc_len',\n",
    "                     'PageSinceCreated', 'PageCreatedYear', 'PageCreatedMonth', 'PageCreatedDay',\n",
    "                     'PageCreatedHour', 'PostCreatedYear','PostCreatedMonth', 'PostCreatedday', 'PostCreatedHour'], axis = 1)\n",
    "\n",
    "\n",
    "# Summary vars\n",
    "df_liwc.drop(['WC','WPS','Dic','Sixltr', 'Clout', 'Authentic','Tone'], inplace = True, axis = 1)\n",
    "df_liwc.drop(['Total.Interactions'], inplace = True, axis = 1)"
   ]
  },
  {
   "cell_type": "code",
   "execution_count": 40,
   "metadata": {
    "scrolled": true
   },
   "outputs": [],
   "source": [
    "# Filter to specific brand/category\n",
    "df_high = df_liwc[ (df_liwc['Page.Name'] == \"Tech Insider\") & (df_liwc['Score'] > 0) ]\n",
    "df_low = df_liwc[ (df_liwc['Page.Name'] == \"Tech Insider\") & (df_liwc['Score'] <= 0) ]\n",
    "\n",
    "# Drop attributes for grouping (can be used in future iterations)\n",
    "df_high = df_high.drop(['Page.Name', 'Page.Category'], axis = 1)\n",
    "df_low = df_low.drop(['Page.Name', 'Page.Category'], axis = 1)\n",
    "\n",
    "# Dummify and split train/test\n",
    "X = pd.get_dummies(df_high, columns = ['Message_sentiment_category', 'Message_subjective_category', \n",
    "                                       'page_desc_sentiment_category', 'page_desc_subjective_category','Type'], \n",
    "                  drop_first = True)\n",
    "X2 = pd.get_dummies(df_low, columns = ['Message_sentiment_category', 'Message_subjective_category', \n",
    "                                       'page_desc_sentiment_category', 'page_desc_subjective_category','Type'], \n",
    "                  drop_first = True)\n",
    "\n",
    "y = X['Score']\n",
    "y2 = X2['Score']\n",
    "\n",
    "X.drop(['Score'], inplace = True, axis = 1)\n",
    "X2.drop(['Score'], inplace = True, axis = 1)\n",
    "\n",
    "x_train, x_test, y_train, y_test = train_test_split(X, y, test_size=0.3, random_state = 13)\n",
    "x_train2, x_test2, y_train2, y_test2 = train_test_split(X2, y2, test_size=0.3, random_state = 13)\n",
    "\n",
    "#start = time.time()\n",
    "rf_model = forest(x_train,y_train)\n",
    "rf_model2 = forest(x_train2,y_train2)\n",
    "#stop = time.time()\n",
    "#print(f\"Training time: {stop - start} seconds\")\n",
    "\n",
    "# Make predictions\n",
    "predictions = rf_model.predict(x_test)\n",
    "predictions2 = rf_model2.predict(x_test2)"
   ]
  },
  {
   "cell_type": "code",
   "execution_count": 43,
   "metadata": {},
   "outputs": [
    {
     "name": "stdout",
     "output_type": "stream",
     "text": [
      "(Positive Score) Mean Absolute Error: 402.82594969103775\n",
      "(Positive Score) Root Mean Squared Error: 1961.9593131598242\n",
      "(Positive Score) R^2:  -0.3907120909695332\n",
      "                                 predictor  feature importance\n",
      "3                                   social            0.292304\n",
      "0                                 Analytic            0.138434\n",
      "6                                     male            0.097712\n",
      "14                             affiliation            0.096874\n",
      "13                                  drives            0.063569\n",
      "8                                  percept            0.062692\n",
      "7                                  cogproc            0.056568\n",
      "19                                    work            0.024553\n",
      "16                                   power            0.018547\n",
      "26  Message_subjective_category_Subjective            0.017563\n",
      "12                                  health            0.016195\n",
      "15                                 achieve            0.014933\n",
      "25     Message_sentiment_category_Positive            0.014096\n",
      "10                                    hear            0.013868\n",
      "28                       Type_Native Video            0.010251\n",
      "18                                    risk            0.008809\n",
      "9                                      see            0.008768\n",
      "22                                   money            0.008352\n",
      "21                                    home            0.006491\n",
      "20                                 leisure            0.006480\n"
     ]
    }
   ],
   "source": [
    "print('(Positive Score) Mean Absolute Error:', metrics.mean_absolute_error(y_test, predictions))\n",
    "print('(Positive Score) Root Mean Squared Error:', np.sqrt(metrics.mean_squared_error(y_test, predictions)))\n",
    "print('(Positive Score) R^2: ', rf_model.score(x_test, y_test))\n",
    "\n",
    "coeff_list_high = pd.DataFrame(list(zip(X.columns, rf_model.feature_importances_)), columns = ['predictor','feature importance']).sort_values(by='feature importance', ascending=False)\n",
    "print(coeff_list_high.head(20))\n",
    "coeff_list_high.to_csv(\"TechInsider_posscore_importances.csv\")"
   ]
  },
  {
   "cell_type": "code",
   "execution_count": 44,
   "metadata": {},
   "outputs": [
    {
     "name": "stdout",
     "output_type": "stream",
     "text": [
      "(Negative Score) Mean Absolute Error: 8.571650070707799\n",
      "(Negative Score) Root Mean Squared Error: 25.061530828684365\n",
      "(Negative Score) R^2:  -0.15972051875745197\n",
      "                                 predictor  feature importance\n",
      "19                                    work            0.091375\n",
      "16                                   power            0.076658\n",
      "13                                  drives            0.074205\n",
      "0                                 Analytic            0.069874\n",
      "3                                   social            0.068642\n",
      "22                                   money            0.064519\n",
      "7                                  cogproc            0.060335\n",
      "15                                 achieve            0.055572\n",
      "17                                  reward            0.054190\n",
      "14                             affiliation            0.047365\n",
      "8                                  percept            0.045576\n",
      "10                                    hear            0.043473\n",
      "21                                    home            0.042984\n",
      "2                                      sad            0.032980\n",
      "20                                 leisure            0.030712\n",
      "26  Message_subjective_category_Subjective            0.028137\n",
      "9                                      see            0.024596\n",
      "28                       Type_Native Video            0.018819\n",
      "25     Message_sentiment_category_Positive            0.014626\n",
      "12                                  health            0.010915\n"
     ]
    }
   ],
   "source": [
    "print('(Negative Score) Mean Absolute Error:', metrics.mean_absolute_error(y_test2, predictions2))\n",
    "print('(Negative Score) Root Mean Squared Error:', np.sqrt(metrics.mean_squared_error(y_test2, predictions2)))\n",
    "print('(Negative Score) R^2: ', rf_model2.score(x_test2, y_test2))\n",
    "\n",
    "coeff_list_low = pd.DataFrame(list(zip(X2.columns, rf_model2.feature_importances_)), columns = ['predictor','feature importance']).sort_values(by='feature importance', ascending=False)\n",
    "print(coeff_list_low.head(20))\n",
    "coeff_list_low.to_csv(\"TechInsider_negscore_importances.csv\")"
   ]
  },
  {
   "cell_type": "code",
   "execution_count": 62,
   "metadata": {},
   "outputs": [
    {
     "name": "stdout",
     "output_type": "stream",
     "text": [
      "Size of positive score df: 481\n",
      "Distribution:\n"
     ]
    },
    {
     "data": {
      "text/plain": [
       "count       481.000000\n",
       "mean        507.113177\n",
       "std        5485.151242\n",
       "min           1.012503\n",
       "25%           3.029838\n",
       "50%          10.174887\n",
       "75%          43.426402\n",
       "max      107593.571429\n",
       "Name: Score, dtype: float64"
      ]
     },
     "execution_count": 62,
     "metadata": {},
     "output_type": "execute_result"
    }
   ],
   "source": [
    "print(f\"Size of positive score df: {len(df_high)}\\nDistribution:\")\n",
    "df_high['Score'].describe()"
   ]
  },
  {
   "cell_type": "code",
   "execution_count": 63,
   "metadata": {},
   "outputs": [
    {
     "name": "stdout",
     "output_type": "stream",
     "text": [
      "Size of negative score df: 269\n",
      "Distribution:\n"
     ]
    },
    {
     "data": {
      "text/plain": [
       "count    269.000000\n",
       "mean      -0.399428\n",
       "std        0.264198\n",
       "min       -1.571429\n",
       "25%       -0.575286\n",
       "50%       -0.329830\n",
       "75%       -0.187927\n",
       "max       -0.026847\n",
       "Name: Score, dtype: float64"
      ]
     },
     "execution_count": 63,
     "metadata": {},
     "output_type": "execute_result"
    }
   ],
   "source": [
    "print(f\"Size of negative score df: {len(df_low)}\\nDistribution:\")\n",
    "df_low['Score'].describe()"
   ]
  },
  {
   "cell_type": "markdown",
   "metadata": {},
   "source": [
    "## Using score variable + focus on only content from links\n",
    "### Focus on Tech Insider "
   ]
  },
  {
   "cell_type": "code",
   "execution_count": 66,
   "metadata": {
    "scrolled": true
   },
   "outputs": [],
   "source": [
    "# Filter to specific brand/category\n",
    "df_high = df_liwc[ (df_liwc['Page.Name'] == \"Tech Insider\") & (df_liwc['Score'] > 0) & (df_liwc['Type'] == 'Link') ]\n",
    "df_low = df_liwc[ (df_liwc['Page.Name'] == \"Tech Insider\") & (df_liwc['Score'] <= 0) & (df_liwc['Type'] == 'Link') ]\n",
    "\n",
    "# Drop attributes for grouping (can be used in future iterations)\n",
    "df_high = df_high.drop(['Page.Name', 'Page.Category', 'Type'], axis = 1)\n",
    "df_low = df_low.drop(['Page.Name', 'Page.Category', 'Type'], axis = 1)\n",
    "\n",
    "# Dummify and split train/test\n",
    "X = pd.get_dummies(df_high, columns = ['Message_sentiment_category', 'Message_subjective_category', \n",
    "                                       'page_desc_sentiment_category', 'page_desc_subjective_category'], \n",
    "                  drop_first = True)\n",
    "X2 = pd.get_dummies(df_low, columns = ['Message_sentiment_category', 'Message_subjective_category', \n",
    "                                       'page_desc_sentiment_category', 'page_desc_subjective_category'], \n",
    "                  drop_first = True)\n",
    "\n",
    "y = X['Score']\n",
    "y2 = X2['Score']\n",
    "\n",
    "X.drop(['Score'], inplace = True, axis = 1)\n",
    "X2.drop(['Score'], inplace = True, axis = 1)\n",
    "\n",
    "x_train, x_test, y_train, y_test = train_test_split(X, y, test_size=0.3, random_state = 13)\n",
    "x_train2, x_test2, y_train2, y_test2 = train_test_split(X2, y2, test_size=0.3, random_state = 13)\n",
    "\n",
    "#start = time.time()\n",
    "rf_model = forest(x_train,y_train)\n",
    "rf_model2 = forest(x_train2,y_train2)\n",
    "#stop = time.time()\n",
    "#print(f\"Training time: {stop - start} seconds\")\n",
    "\n",
    "# Make predictions\n",
    "predictions = rf_model.predict(x_test)\n",
    "predictions2 = rf_model2.predict(x_test2)"
   ]
  },
  {
   "cell_type": "code",
   "execution_count": 67,
   "metadata": {},
   "outputs": [
    {
     "name": "stdout",
     "output_type": "stream",
     "text": [
      "(Positive Score) Mean Absolute Error: 148.66221567226893\n",
      "(Positive Score) Root Mean Squared Error: 276.29266399534373\n",
      "(Positive Score) R^2:  -0.06042464898152056\n",
      "      predictor  feature importance\n",
      "3        social            0.088886\n",
      "0      Analytic            0.069849\n",
      "15      achieve            0.063131\n",
      "7       cogproc            0.063022\n",
      "18         risk            0.062132\n",
      "13       drives            0.061939\n",
      "10         hear            0.060498\n",
      "16        power            0.058927\n",
      "21         home            0.056150\n",
      "20      leisure            0.053320\n",
      "19         work            0.052803\n",
      "8       percept            0.051809\n",
      "2           sad            0.030919\n",
      "17       reward            0.029275\n",
      "9           see            0.028579\n",
      "22        money            0.027944\n",
      "14  affiliation            0.026507\n",
      "6          male            0.019894\n",
      "11         feel            0.017846\n",
      "12       health            0.015677\n"
     ]
    }
   ],
   "source": [
    "print('(Positive Score) Mean Absolute Error:', metrics.mean_absolute_error(y_test, predictions))\n",
    "print('(Positive Score) Root Mean Squared Error:', np.sqrt(metrics.mean_squared_error(y_test, predictions)))\n",
    "print('(Positive Score) R^2: ', rf_model.score(x_test, y_test))\n",
    "\n",
    "coeff_list_high = pd.DataFrame(list(zip(X.columns, rf_model.feature_importances_)), columns = ['predictor','feature importance']).sort_values(by='feature importance', ascending=False)\n",
    "print(coeff_list_high.head(20))\n",
    "coeff_list_high.to_csv(\"TechInsider_Links_posscore_importances.csv\")"
   ]
  },
  {
   "cell_type": "code",
   "execution_count": 68,
   "metadata": {},
   "outputs": [
    {
     "name": "stdout",
     "output_type": "stream",
     "text": [
      "(Negative Score) Mean Absolute Error: 8.399453480719306\n",
      "(Negative Score) Root Mean Squared Error: 18.456928401854746\n",
      "(Negative Score) R^2:  -0.00653584999218948\n",
      "                                 predictor  feature importance\n",
      "19                                    work            0.095413\n",
      "0                                 Analytic            0.084734\n",
      "22                                   money            0.079700\n",
      "13                                  drives            0.077406\n",
      "21                                    home            0.068518\n",
      "3                                   social            0.065936\n",
      "15                                 achieve            0.064036\n",
      "7                                  cogproc            0.062139\n",
      "16                                   power            0.059860\n",
      "17                                  reward            0.055913\n",
      "8                                  percept            0.044689\n",
      "10                                    hear            0.044399\n",
      "14                             affiliation            0.035795\n",
      "20                                 leisure            0.033229\n",
      "26  Message_subjective_category_Subjective            0.029204\n",
      "2                                      sad            0.022250\n",
      "9                                      see            0.019103\n",
      "25     Message_sentiment_category_Positive            0.012493\n",
      "18                                    risk            0.009102\n",
      "1                                    anger            0.008210\n"
     ]
    }
   ],
   "source": [
    "print('(Negative Score) Mean Absolute Error:', metrics.mean_absolute_error(y_test2, predictions2))\n",
    "print('(Negative Score) Root Mean Squared Error:', np.sqrt(metrics.mean_squared_error(y_test2, predictions2)))\n",
    "print('(Negative Score) R^2: ', rf_model2.score(x_test2, y_test2))\n",
    "\n",
    "coeff_list_low = pd.DataFrame(list(zip(X2.columns, rf_model2.feature_importances_)), columns = ['predictor','feature importance']).sort_values(by='feature importance', ascending=False)\n",
    "print(coeff_list_low.head(20))\n",
    "coeff_list_low.to_csv(\"TechInsider_Links_negscore_importances.csv\")"
   ]
  },
  {
   "cell_type": "code",
   "execution_count": 59,
   "metadata": {
    "scrolled": true
   },
   "outputs": [],
   "source": [
    "# Filter to specific brand/category\n",
    "df_high = df_liwc[ (df_liwc['Page.Name'] == \"Tech Insider\") & (df_liwc['Score'] > 0) & ( (df_liwc['Type'] == \"Native Video\") | \n",
    "                                                             (df_liwc['Type'] == \"Video\") | \n",
    "                                                             (df_liwc['Type'] == \"Live Video Scheduled\") |\n",
    "                                                             (df_liwc['Type'] == \"Live Video Complete\")) ]\n",
    "\n",
    "df_low = df_liwc[ (df_liwc['Page.Name'] == \"Tech Insider\") & (df_liwc['Score'] <= 0) & ( (df_liwc['Type'] == \"Native Video\") | \n",
    "                                                             (df_liwc['Type'] == \"Video\") | \n",
    "                                                             (df_liwc['Type'] == \"Live Video Scheduled\") |\n",
    "                                                             (df_liwc['Type'] == \"Live Video Complete\")) ]\n",
    "\n",
    "# Drop attributes for grouping (can be used in future iterations)\n",
    "df_high = df_high.drop(['Page.Name', 'Page.Category', 'Type'], axis = 1)\n",
    "df_low = df_low.drop(['Page.Name', 'Page.Category', 'Type'], axis = 1)\n",
    "\n",
    "# Dummify and split train/test\n",
    "X = pd.get_dummies(df_high, columns = ['Message_sentiment_category', 'Message_subjective_category', \n",
    "                                       'page_desc_sentiment_category', 'page_desc_subjective_category'], \n",
    "                  drop_first = True)\n",
    "X2 = pd.get_dummies(df_low, columns = ['Message_sentiment_category', 'Message_subjective_category', \n",
    "                                       'page_desc_sentiment_category', 'page_desc_subjective_category'], \n",
    "                  drop_first = True)\n",
    "\n",
    "y = X['Score']\n",
    "y2 = X2['Score']\n",
    "\n",
    "X.drop(['Score'], inplace = True, axis = 1)\n",
    "X2.drop(['Score'], inplace = True, axis = 1)\n",
    "\n",
    "x_train, x_test, y_train, y_test = train_test_split(X, y, test_size=0.3, random_state = 13)\n",
    "x_train2, x_test2, y_train2, y_test2 = train_test_split(X2, y2, test_size=0.3, random_state = 13)\n",
    "\n",
    "#start = time.time()\n",
    "rf_model = forest(x_train,y_train)\n",
    "rf_model2 = forest(x_train2,y_train2)\n",
    "#stop = time.time()\n",
    "#print(f\"Training time: {stop - start} seconds\")\n",
    "\n",
    "# Make predictions\n",
    "predictions = rf_model.predict(x_test)\n",
    "predictions2 = rf_model2.predict(x_test2)"
   ]
  },
  {
   "cell_type": "code",
   "execution_count": 64,
   "metadata": {},
   "outputs": [
    {
     "name": "stdout",
     "output_type": "stream",
     "text": [
      "(Positive Score) Mean Absolute Error: 1049.5338774086108\n",
      "(Positive Score) Root Mean Squared Error: 4360.255940935771\n",
      "(Positive Score) R^2:  -0.7066523870658477\n",
      "                                 predictor  feature importance\n",
      "3                                   social            0.308066\n",
      "0                                 Analytic            0.119335\n",
      "14                             affiliation            0.116754\n",
      "21                                    home            0.086358\n",
      "8                                  percept            0.070889\n",
      "7                                  cogproc            0.068337\n",
      "12                                  health            0.055793\n",
      "13                                  drives            0.055570\n",
      "26  Message_subjective_category_Subjective            0.030181\n",
      "9                                      see            0.017040\n",
      "19                                    work            0.012398\n",
      "16                                   power            0.011921\n",
      "25     Message_sentiment_category_Positive            0.010621\n",
      "10                                    hear            0.007630\n",
      "15                                 achieve            0.007072\n",
      "22                                   money            0.005668\n",
      "20                                 leisure            0.004675\n",
      "11                                    feel            0.003375\n",
      "18                                    risk            0.003284\n",
      "17                                  reward            0.002506\n"
     ]
    }
   ],
   "source": [
    "print('(Positive Score) Mean Absolute Error:', metrics.mean_absolute_error(y_test, predictions))\n",
    "print('(Positive Score) Root Mean Squared Error:', np.sqrt(metrics.mean_squared_error(y_test, predictions)))\n",
    "print('(Positive Score) R^2: ', rf_model.score(x_test, y_test))\n",
    "\n",
    "coeff_list_high = pd.DataFrame(list(zip(X.columns, rf_model.feature_importances_)), columns = ['predictor','feature importance']).sort_values(by='feature importance', ascending=False)\n",
    "print(coeff_list_high.head(20))\n",
    "coeff_list_high.to_csv(\"TechInsider_Vids_posscore_importances.csv\")"
   ]
  },
  {
   "cell_type": "code",
   "execution_count": 65,
   "metadata": {},
   "outputs": [
    {
     "name": "stdout",
     "output_type": "stream",
     "text": [
      "(Negative Score) Mean Absolute Error: 0.25249680045086687\n",
      "(Negative Score) Root Mean Squared Error: 0.31642572267079017\n",
      "(Negative Score) R^2:  -0.12005792812899685\n",
      "                                 predictor  feature importance\n",
      "7                                  cogproc            0.104338\n",
      "0                                 Analytic            0.089017\n",
      "3                                   social            0.084453\n",
      "13                                  drives            0.081994\n",
      "19                                    work            0.059814\n",
      "16                                   power            0.058609\n",
      "8                                  percept            0.056857\n",
      "14                             affiliation            0.048422\n",
      "17                                  reward            0.047365\n",
      "22                                   money            0.046413\n",
      "20                                 leisure            0.043948\n",
      "15                                 achieve            0.039815\n",
      "9                                      see            0.038742\n",
      "12                                  health            0.034537\n",
      "10                                    hear            0.025917\n",
      "18                                    risk            0.021293\n",
      "26  Message_subjective_category_Subjective            0.018900\n",
      "21                                    home            0.017961\n",
      "25     Message_sentiment_category_Positive            0.017480\n",
      "1                                    anger            0.010813\n"
     ]
    }
   ],
   "source": [
    "print('(Negative Score) Mean Absolute Error:', metrics.mean_absolute_error(y_test2, predictions2))\n",
    "print('(Negative Score) Root Mean Squared Error:', np.sqrt(metrics.mean_squared_error(y_test2, predictions2)))\n",
    "print('(Negative Score) R^2: ', rf_model2.score(x_test2, y_test2))\n",
    "\n",
    "coeff_list_low = pd.DataFrame(list(zip(X2.columns, rf_model2.feature_importances_)), columns = ['predictor','feature importance']).sort_values(by='feature importance', ascending=False)\n",
    "print(coeff_list_low.head(20))\n",
    "coeff_list_low.to_csv(\"TechInsider_Vids_negscore_importances.csv\")"
   ]
  }
 ],
 "metadata": {
  "kernelspec": {
   "display_name": "Python 3",
   "language": "python",
   "name": "python3"
  },
  "language_info": {
   "codemirror_mode": {
    "name": "ipython",
    "version": 3
   },
   "file_extension": ".py",
   "mimetype": "text/x-python",
   "name": "python",
   "nbconvert_exporter": "python",
   "pygments_lexer": "ipython3",
   "version": "3.7.4"
  }
 },
 "nbformat": 4,
 "nbformat_minor": 2
}
