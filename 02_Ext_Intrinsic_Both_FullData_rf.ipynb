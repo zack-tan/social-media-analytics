{
 "cells": [
  {
   "cell_type": "code",
   "execution_count": 1,
   "metadata": {},
   "outputs": [],
   "source": [
    "import pandas as pd\n",
    "import numpy as np\n",
    "from pandas_profiling import ProfileReport"
   ]
  },
  {
   "cell_type": "code",
   "execution_count": 2,
   "metadata": {},
   "outputs": [],
   "source": [
    "df_a_raw = pd.read_csv(\"preprocessed_data_with_cate.csv\", sep = ',', engine='python', encoding='unicode_escape')"
   ]
  },
  {
   "cell_type": "markdown",
   "metadata": {},
   "source": [
    "### (LIWC) Selective dropping from dataset"
   ]
  },
  {
   "cell_type": "code",
   "execution_count": 4,
   "metadata": {},
   "outputs": [],
   "source": [
    "# Drop meaningless indicators\n",
    "\n",
    "# Punctuation\n",
    "df_a = df_a_raw.drop(['AllPunc', 'SemiC', 'Comma', 'Colon', 'Period', 'Parenth', 'OtherP','Quote',\n",
    "                      'Apostro','Exclam','Dash','QMark'], axis = 1)\n",
    "\n",
    "# Informal language\n",
    "df_a.drop(['informal','filler','netspeak', 'assent','nonflu','swear'], inplace = True, axis = 1)\n",
    "\n",
    "# Relativity - Meaningless if using bag of words analysis (likely case)\n",
    "df_a.drop(['motion','space','time','relativ'], inplace = True, axis = 1)\n",
    "\n",
    "# Time orientations - Drop all\n",
    "df_a.drop(['focuspast','focuspresent','focusfuture'], inplace = True, axis = 1)\n",
    "\n",
    "# Biological - Drop all\n",
    "df_a.drop(['body','ingest','sexual','bio'], inplace = True, axis = 1)\n",
    "\n",
    "# Perceptual - Keep them for now\n",
    "\n",
    "# Cognitive processes - Keep only overall category\n",
    "df_a.drop(['discrep','tentat','certain','cause','insight','differ'], inplace = True, axis = 1)\n",
    "\n",
    "# Social Processes - Girl/Boy might be of some use? Keep for now\n",
    "df_a.drop(['friend'], inplace = True, axis = 1)\n",
    "\n",
    "# Affective processes - Drop all (sentiment analysis done separately)\n",
    "df_a.drop(['affect','anx', 'posemo','negemo'], inplace = True, axis = 1)\n",
    "\n",
    "# Other grammer - Comparisons might be interesting\n",
    "df_a.drop(['number','quant','interrog', 'compare', 'adj', 'verb'], inplace = True, axis = 1)\n",
    "\n",
    "# Linguistic dimensions - Comparisons might be interesting\n",
    "df_a.drop(['negate','conj','adverb', 'auxverb', 'prep', 'article','ipron','they','shehe','you',\n",
    "           'we','i','ppron','pronoun','fnctn'], inplace = True, axis = 1)"
   ]
  },
  {
   "cell_type": "markdown",
   "metadata": {},
   "source": [
    "# All-predictor Feature Importance Analysis\n"
   ]
  },
  {
   "cell_type": "code",
   "execution_count": 11,
   "metadata": {},
   "outputs": [],
   "source": [
    "# Drop correlated/unimportant variables \n",
    "df_liwc = df_a.drop(['User.Name', 'Likes', 'Comments', 'Shares', 'Love', 'Wow','Haha', 'Sad', 'Angry', 'Care', \n",
    "                     'Video.Share.Status','Is.Video.Owner.', 'Total.Views.For.All.Crossposts', 'Sponsor.Name', \n",
    "                     'Message_sentiment', 'Message_subjective', \n",
    "                     '-', 'No', 'Yes', 'is_linked', 'image_text_ind','sponsor_cate_effect','page_cate_effect',\n",
    "                     'page_desc_sentiment', 'page_desc_subjective'], axis = 1)\n",
    "\n",
    "\n",
    "# Drop summary vars\n",
    "df_liwc.drop(['WC','WPS','Dic','Sixltr', 'Clout', 'Authentic','Tone'], inplace = True, axis = 1)"
   ]
  },
  {
   "cell_type": "code",
   "execution_count": 12,
   "metadata": {},
   "outputs": [
    {
     "data": {
      "text/plain": [
       "Index(['Likes.at.Posting', 'Followers.at.Posting', 'Type',\n",
       "       'Total.Interactions', 'Post.Views', 'Total.Views', 'Sponsor.Category',\n",
       "       'Analytic', 'anger', 'sad', 'social', 'family', 'female', 'male',\n",
       "       'cogproc', 'percept', 'see', 'hear', 'feel', 'health', 'drives',\n",
       "       'affiliation', 'achieve', 'power', 'reward', 'risk', 'work', 'leisure',\n",
       "       'home', 'money', 'relig', 'death', 'PageSinceCreated',\n",
       "       'PageCreatedYear', 'PageCreatedMonth', 'PageCreatedDay',\n",
       "       'PageCreatedHour', 'PostCreatedYear', 'PostCreatedMonth',\n",
       "       'PostCreatedday', 'PostCreatedHour', 'Message_len',\n",
       "       'Message_sentiment_category', 'Message_subjective_category',\n",
       "       'link_title_len', 'link_desp_len', 'page_desc_len',\n",
       "       'page_desc_sentiment_category', 'page_desc_subjective_category', 'Link',\n",
       "       'Live Video', 'Live Video Complete', 'Live Video Scheduled',\n",
       "       'Native Video', 'Photo', 'Status', 'Video', 'YouTube'],\n",
       "      dtype='object')"
      ]
     },
     "execution_count": 12,
     "metadata": {},
     "output_type": "execute_result"
    }
   ],
   "source": [
    "# Drop attributes for grouping (can be used in future iterations)\n",
    "df_ready = df_liwc.drop(['Page.Name',], axis = 1)\n",
    "\n",
    "df_ready.columns"
   ]
  },
  {
   "cell_type": "markdown",
   "metadata": {},
   "source": [
    "### Generate correlation matrix, profiling report and split train/test"
   ]
  },
  {
   "cell_type": "code",
   "execution_count": 13,
   "metadata": {},
   "outputs": [
    {
     "data": {
      "text/plain": [
       "'df_corr = df_ready.corr(method=\\'pearson\\')#.drop([\\'Page.Category\\', \\'Type\\'],axis = 1)\\ndf_corr.to_csv(\"first_pass_corrmat.csv\")'"
      ]
     },
     "execution_count": 13,
     "metadata": {},
     "output_type": "execute_result"
    }
   ],
   "source": [
    "'''df_corr = df_ready.corr(method='pearson')#.drop(['Page.Category', 'Type'],axis = 1)\n",
    "df_corr.to_csv(\"first_pass_corrmat.csv\")'''"
   ]
  },
  {
   "cell_type": "code",
   "execution_count": 14,
   "metadata": {},
   "outputs": [],
   "source": [
    "# Dummify\n",
    "X = pd.get_dummies(df_ready, columns = ['Type', 'Sponsor.Category','Message_sentiment_category', 'Message_subjective_category', \n",
    "                                       'page_desc_sentiment_category', 'page_desc_subjective_category'], \n",
    "                  drop_first = True)\n",
    "#X = df_ready.copy()\n",
    "y = X['Total.Interactions']\n",
    "\n",
    "X.drop(['Total.Interactions'], inplace = True, axis = 1)\n"
   ]
  },
  {
   "cell_type": "code",
   "execution_count": 15,
   "metadata": {},
   "outputs": [
    {
     "data": {
      "text/plain": [
       "'profile = ProfileReport(df_ready, title=\"Pandas Profiling Report\")\\nprofile.to_file(\"baseline.html\")'"
      ]
     },
     "execution_count": 15,
     "metadata": {},
     "output_type": "execute_result"
    }
   ],
   "source": [
    "'''profile = ProfileReport(df_ready, title=\"Pandas Profiling Report\")\n",
    "profile.to_file(\"baseline.html\")'''\n"
   ]
  },
  {
   "cell_type": "code",
   "execution_count": 16,
   "metadata": {},
   "outputs": [],
   "source": [
    "from sklearn.model_selection import train_test_split\n",
    "\n",
    "# Train-test split\n",
    "x_train, x_test, y_train, y_test = train_test_split(X, y, test_size=0.3, random_state = 13)"
   ]
  },
  {
   "cell_type": "markdown",
   "metadata": {},
   "source": [
    "### Define Models"
   ]
  },
  {
   "cell_type": "code",
   "execution_count": 12,
   "metadata": {},
   "outputs": [
    {
     "name": "stderr",
     "output_type": "stream",
     "text": [
      "C:\\Users\\tanzc\\Anaconda3\\lib\\site-packages\\dask\\dataframe\\utils.py:14: FutureWarning: pandas.util.testing is deprecated. Use the functions in the public API at pandas.testing instead.\n",
      "  import pandas.util.testing as tm\n"
     ]
    }
   ],
   "source": [
    "from sklearn.ensemble import GradientBoostingRegressor, RandomForestRegressor\n",
    "from sklearn import metrics\n",
    "from xgboost import XGBRegressor\n",
    "from lightgbm import LGBMRegressor\n",
    "\n",
    "def forest(X, labels):\n",
    "    forest = RandomForestRegressor(random_state=13, n_estimators=500, bootstrap=True, oob_score=True, max_features='sqrt')\n",
    "\n",
    "    return forest.fit(X, labels)\n",
    "\n",
    "def lightforest(X, labels):\n",
    "    lightforest = RandomForestRegressor(random_state=13, n_estimators=100, bootstrap=True, oob_score=True, \n",
    "                                    max_depth=7, max_features='sqrt')\n",
    "    return lightforest.fit(X, labels)\n",
    "\n",
    "# https://xgboost.readthedocs.io/en/stable/python/python_api.html\n",
    "def XGB(X,labels):\n",
    "    xgb = XGBRegressor(random_state=13, n_estimators = 600)\n",
    "    \n",
    "    return xgb.fit(X, labels)\n",
    "\n",
    "# https://lightgbm.readthedocs.io/en/latest/pythonapi/lightgbm.LGBMRegressor.html#lightgbm.LGBMRegressor\n",
    "def LGBM(X,labels):\n",
    "    model = LGBMRegressor(random_state=13, n_estimators = 500)\n",
    "    return model.fit(X, labels)\n",
    "\n",
    "# feature importance\n",
    "#print(model.feature_importances_)\n",
    "\n",
    "#print('\\nAccuracy of random forest with 10-fold CV, 4 repeats: %.3f (STD: %.3f)' % (np.mean(scores_rf), np.std(scores_rf)))"
   ]
  },
  {
   "cell_type": "markdown",
   "metadata": {},
   "source": [
    "## Model 1 - Both Extrinsic + Intrinsic Factors"
   ]
  },
  {
   "cell_type": "code",
   "execution_count": 18,
   "metadata": {},
   "outputs": [
    {
     "name": "stdout",
     "output_type": "stream",
     "text": [
      "Training time: 607.2746694087982 seconds\n"
     ]
    }
   ],
   "source": [
    "import time\n",
    "start = time.time()\n",
    "\n",
    "# Takes some time to run\n",
    "\n",
    "rf_model = forest(x_train,y_train)\n",
    "#lrf_model = lightforest(x_train,y_train)\n",
    "#xgb_model = XGB(x_train,y_train)\n",
    "#lgbm_model = LGBM(x_train,y_train)\n",
    "\n",
    "stop = time.time()\n",
    "print(f\"Training time: {stop - start} seconds\")\n"
   ]
  },
  {
   "cell_type": "code",
   "execution_count": 19,
   "metadata": {},
   "outputs": [
    {
     "name": "stdout",
     "output_type": "stream",
     "text": [
      "Mean Absolute Error: 462.5015146414815\n",
      "Root Mean Squared Error: 8309.275602291853\n",
      "R^2:  0.24583248396491653\n"
     ]
    }
   ],
   "source": [
    "# Make predictions and print metrics\n",
    "predictions = rf_model.predict(x_test)\n",
    "#predictions = lgbm_model.predict(x_test)\n",
    "#predictions = lrf_model.predict(x_test)\n",
    "\n",
    "print('Mean Absolute Error:', metrics.mean_absolute_error(y_test, predictions))\n",
    "print('Root Mean Squared Error:', np.sqrt(metrics.mean_squared_error(y_test, predictions)))\n",
    "print('R^2: ', rf_model.score(x_test, y_test))"
   ]
  },
  {
   "cell_type": "code",
   "execution_count": 20,
   "metadata": {},
   "outputs": [
    {
     "data": {
      "text/html": [
       "<div>\n",
       "<style scoped>\n",
       "    .dataframe tbody tr th:only-of-type {\n",
       "        vertical-align: middle;\n",
       "    }\n",
       "\n",
       "    .dataframe tbody tr th {\n",
       "        vertical-align: top;\n",
       "    }\n",
       "\n",
       "    .dataframe thead th {\n",
       "        text-align: right;\n",
       "    }\n",
       "</style>\n",
       "<table border=\"1\" class=\"dataframe\">\n",
       "  <thead>\n",
       "    <tr style=\"text-align: right;\">\n",
       "      <th></th>\n",
       "      <th>predictor</th>\n",
       "      <th>feature importance</th>\n",
       "    </tr>\n",
       "  </thead>\n",
       "  <tbody>\n",
       "    <tr>\n",
       "      <th>2</th>\n",
       "      <td>Post.Views</td>\n",
       "      <td>0.199624</td>\n",
       "    </tr>\n",
       "    <tr>\n",
       "      <th>3</th>\n",
       "      <td>Total.Views</td>\n",
       "      <td>0.121278</td>\n",
       "    </tr>\n",
       "    <tr>\n",
       "      <th>37</th>\n",
       "      <td>PostCreatedHour</td>\n",
       "      <td>0.036247</td>\n",
       "    </tr>\n",
       "    <tr>\n",
       "      <th>39</th>\n",
       "      <td>link_title_len</td>\n",
       "      <td>0.032180</td>\n",
       "    </tr>\n",
       "    <tr>\n",
       "      <th>1</th>\n",
       "      <td>Followers.at.Posting</td>\n",
       "      <td>0.031749</td>\n",
       "    </tr>\n",
       "    <tr>\n",
       "      <th>38</th>\n",
       "      <td>Message_len</td>\n",
       "      <td>0.030607</td>\n",
       "    </tr>\n",
       "    <tr>\n",
       "      <th>0</th>\n",
       "      <td>Likes.at.Posting</td>\n",
       "      <td>0.030362</td>\n",
       "    </tr>\n",
       "    <tr>\n",
       "      <th>7</th>\n",
       "      <td>social</td>\n",
       "      <td>0.029147</td>\n",
       "    </tr>\n",
       "    <tr>\n",
       "      <th>12</th>\n",
       "      <td>percept</td>\n",
       "      <td>0.026853</td>\n",
       "    </tr>\n",
       "    <tr>\n",
       "      <th>17</th>\n",
       "      <td>drives</td>\n",
       "      <td>0.025816</td>\n",
       "    </tr>\n",
       "  </tbody>\n",
       "</table>\n",
       "</div>"
      ],
      "text/plain": [
       "               predictor  feature importance\n",
       "2             Post.Views            0.199624\n",
       "3            Total.Views            0.121278\n",
       "37       PostCreatedHour            0.036247\n",
       "39        link_title_len            0.032180\n",
       "1   Followers.at.Posting            0.031749\n",
       "38           Message_len            0.030607\n",
       "0       Likes.at.Posting            0.030362\n",
       "7                 social            0.029147\n",
       "12               percept            0.026853\n",
       "17                drives            0.025816"
      ]
     },
     "execution_count": 20,
     "metadata": {},
     "output_type": "execute_result"
    }
   ],
   "source": [
    "coeff_list = pd.DataFrame(list(zip(X.columns, rf_model.feature_importances_)), columns = ['predictor','feature importance']).sort_values(by='feature importance', ascending=False)\n",
    "\n",
    "coeff_list.to_csv(\"Baseline_FeatureImportance.csv\", index=False)\n",
    "coeff_list.head(10)"
   ]
  },
  {
   "cell_type": "markdown",
   "metadata": {},
   "source": [
    "## Model 2 - Extrinsic Factors only"
   ]
  },
  {
   "cell_type": "code",
   "execution_count": 6,
   "metadata": {},
   "outputs": [
    {
     "data": {
      "text/plain": [
       "Index(['Page.Name', 'User.Name', 'Page.Category', 'Likes.at.Posting',\n",
       "       'Followers.at.Posting', 'Type', 'Total.Interactions', 'Likes',\n",
       "       'Comments', 'Shares', 'Love', 'Wow', 'Haha', 'Sad', 'Angry', 'Care',\n",
       "       'Video.Share.Status', 'Is.Video.Owner.', 'Post.Views', 'Total.Views',\n",
       "       'Total.Views.For.All.Crossposts', 'Sponsor.Name', 'Sponsor.Category',\n",
       "       'WC', 'Analytic', 'Clout', 'Authentic', 'Tone', 'WPS', 'Sixltr', 'Dic',\n",
       "       'anger', 'sad', 'social', 'family', 'female', 'male', 'cogproc',\n",
       "       'percept', 'see', 'hear', 'feel', 'health', 'drives', 'affiliation',\n",
       "       'achieve', 'power', 'reward', 'risk', 'work', 'leisure', 'home',\n",
       "       'money', 'relig', 'death', 'PageSinceCreated', 'PageCreatedYear',\n",
       "       'PageCreatedMonth', 'PageCreatedDay', 'PageCreatedHour',\n",
       "       'PostCreatedYear', 'PostCreatedMonth', 'PostCreatedday',\n",
       "       'PostCreatedHour', 'Message_sentiment', 'Message_subjective',\n",
       "       'Message_len', 'Message_sentiment_category',\n",
       "       'Message_subjective_category', 'is_linked', 'image_text_ind',\n",
       "       'link_title_len', 'link_desp_len', 'sponsor_cate_effect',\n",
       "       'page_cate_effect', 'page_desc_sentiment', 'page_desc_subjective',\n",
       "       'page_desc_len', 'page_desc_sentiment_category',\n",
       "       'page_desc_subjective_category', 'Link', 'Live Video',\n",
       "       'Live Video Complete', 'Live Video Scheduled', 'Native Video', 'Photo',\n",
       "       'Status', 'Video', 'YouTube', 'crosspost', 'owned', 'share', '-', 'No',\n",
       "       'Yes'],\n",
       "      dtype='object')"
      ]
     },
     "execution_count": 6,
     "metadata": {},
     "output_type": "execute_result"
    }
   ],
   "source": [
    "df_a.columns"
   ]
  },
  {
   "cell_type": "code",
   "execution_count": 27,
   "metadata": {},
   "outputs": [],
   "source": [
    "# Drop correlated/unimportant variables \n",
    "df_liwc = df_a.drop(['User.Name', 'Likes', 'Comments', 'Shares', 'Love', 'Wow','Haha', 'Sad', 'Angry', 'Care', \n",
    "                     'Video.Share.Status','Is.Video.Owner.', 'Total.Views.For.All.Crossposts', 'Sponsor.Name', \n",
    "                     'Message_sentiment', 'Message_subjective', 'Total.Views',\n",
    "                     '-', 'No', 'Yes', 'is_linked', 'image_text_ind','sponsor_cate_effect','page_cate_effect',\n",
    "                     'page_desc_sentiment', 'page_desc_subjective'], axis = 1)\n",
    "\n",
    "\n",
    "# Drop summary vars\n",
    "df_liwc.drop(['WC','WPS','Dic','Sixltr', 'Clout', 'Authentic','Tone'], inplace = True, axis = 1)"
   ]
  },
  {
   "cell_type": "code",
   "execution_count": 28,
   "metadata": {},
   "outputs": [
    {
     "data": {
      "text/plain": [
       "Index(['Page.Category', 'Likes.at.Posting', 'Followers.at.Posting', 'Type',\n",
       "       'Total.Interactions', 'Post.Views', 'Sponsor.Category', 'Analytic',\n",
       "       'anger', 'sad', 'social', 'family', 'female', 'male', 'cogproc',\n",
       "       'percept', 'see', 'hear', 'feel', 'health', 'drives', 'affiliation',\n",
       "       'achieve', 'power', 'reward', 'risk', 'work', 'leisure', 'home',\n",
       "       'money', 'relig', 'death', 'PageSinceCreated', 'PageCreatedYear',\n",
       "       'PageCreatedMonth', 'PageCreatedDay', 'PageCreatedHour',\n",
       "       'PostCreatedYear', 'PostCreatedMonth', 'PostCreatedday',\n",
       "       'PostCreatedHour', 'Message_len', 'Message_sentiment_category',\n",
       "       'Message_subjective_category', 'link_title_len', 'link_desp_len',\n",
       "       'page_desc_len', 'page_desc_sentiment_category',\n",
       "       'page_desc_subjective_category', 'Link', 'Live Video',\n",
       "       'Live Video Complete', 'Live Video Scheduled', 'Native Video', 'Photo',\n",
       "       'Status', 'Video', 'YouTube', 'crosspost', 'owned', 'share'],\n",
       "      dtype='object')"
      ]
     },
     "execution_count": 28,
     "metadata": {},
     "output_type": "execute_result"
    }
   ],
   "source": [
    "df_ready = df_liwc.drop(['Page.Name'], axis=1)\n",
    "\n",
    "df_ready.columns"
   ]
  },
  {
   "cell_type": "code",
   "execution_count": 29,
   "metadata": {},
   "outputs": [],
   "source": [
    "from sklearn.model_selection import train_test_split\n",
    "\n",
    "df_ext = df_ready.drop(['Analytic', 'anger', 'sad', 'social', 'family', 'female', 'male', 'cogproc', 'percept', 'see', \n",
    "                        'hear', 'feel', 'health', 'drives', 'affiliation', 'achieve', 'power', 'reward', 'risk', 'work', \n",
    "                        'leisure', 'home', 'money', 'relig', 'death'],axis = 1)\n",
    "\n",
    "# Dummify\n",
    "X = pd.get_dummies(df_ext, columns = ['Type', 'Sponsor.Category','Message_sentiment_category', 'Message_subjective_category', \n",
    "                                       'page_desc_sentiment_category', 'page_desc_subjective_category','Page.Category'], \n",
    "                  drop_first = True)\n",
    "\n",
    "y = X['Total.Interactions']\n",
    "\n",
    "X.drop(['Total.Interactions'], inplace = True, axis = 1)\n",
    "\n",
    "x_train, x_test, y_train, y_test = train_test_split(X, y, test_size=0.3, random_state = 13)"
   ]
  },
  {
   "cell_type": "code",
   "execution_count": 30,
   "metadata": {},
   "outputs": [
    {
     "name": "stdout",
     "output_type": "stream",
     "text": [
      "Training time: 685.4238214492798 seconds\n"
     ]
    }
   ],
   "source": [
    "import time\n",
    "start = time.time()\n",
    "\n",
    "# Takes some time to run\n",
    "\n",
    "rf_model = forest(x_train,y_train)\n",
    "#lrf_model = lightforest(x_train,y_train)\n",
    "#xgb_model = XGB(x_train,y_train)\n",
    "#lgbm_model = LGBM(x_train,y_train)\n",
    "\n",
    "stop = time.time()\n",
    "print(f\"Training time: {stop - start} seconds\")\n"
   ]
  },
  {
   "cell_type": "code",
   "execution_count": 31,
   "metadata": {},
   "outputs": [
    {
     "name": "stdout",
     "output_type": "stream",
     "text": [
      "Mean Absolute Error: 461.77790439014944\n",
      "Root Mean Squared Error: 8439.954928061265\n",
      "R^2:  0.221924484378051\n"
     ]
    }
   ],
   "source": [
    "# Make predictions and print metrics\n",
    "predictions = rf_model.predict(x_test)\n",
    "#predictions = lgbm_model.predict(x_test)\n",
    "#predictions = lrf_model.predict(x_test)\n",
    "\n",
    "print('Mean Absolute Error:', metrics.mean_absolute_error(y_test, predictions))\n",
    "print('Root Mean Squared Error:', np.sqrt(metrics.mean_squared_error(y_test, predictions)))\n",
    "print('R^2: ', rf_model.score(x_test, y_test))"
   ]
  },
  {
   "cell_type": "code",
   "execution_count": 34,
   "metadata": {},
   "outputs": [
    {
     "data": {
      "text/html": [
       "<div>\n",
       "<style scoped>\n",
       "    .dataframe tbody tr th:only-of-type {\n",
       "        vertical-align: middle;\n",
       "    }\n",
       "\n",
       "    .dataframe tbody tr th {\n",
       "        vertical-align: top;\n",
       "    }\n",
       "\n",
       "    .dataframe thead th {\n",
       "        text-align: right;\n",
       "    }\n",
       "</style>\n",
       "<table border=\"1\" class=\"dataframe\">\n",
       "  <thead>\n",
       "    <tr style=\"text-align: right;\">\n",
       "      <th></th>\n",
       "      <th>predictor</th>\n",
       "      <th>feature importance</th>\n",
       "    </tr>\n",
       "  </thead>\n",
       "  <tbody>\n",
       "    <tr>\n",
       "      <th>2</th>\n",
       "      <td>Post.Views</td>\n",
       "      <td>0.354668</td>\n",
       "    </tr>\n",
       "    <tr>\n",
       "      <th>12</th>\n",
       "      <td>Message_len</td>\n",
       "      <td>0.091440</td>\n",
       "    </tr>\n",
       "    <tr>\n",
       "      <th>11</th>\n",
       "      <td>PostCreatedHour</td>\n",
       "      <td>0.082216</td>\n",
       "    </tr>\n",
       "    <tr>\n",
       "      <th>13</th>\n",
       "      <td>link_title_len</td>\n",
       "      <td>0.075985</td>\n",
       "    </tr>\n",
       "    <tr>\n",
       "      <th>1</th>\n",
       "      <td>Followers.at.Posting</td>\n",
       "      <td>0.070699</td>\n",
       "    </tr>\n",
       "    <tr>\n",
       "      <th>0</th>\n",
       "      <td>Likes.at.Posting</td>\n",
       "      <td>0.066170</td>\n",
       "    </tr>\n",
       "    <tr>\n",
       "      <th>10</th>\n",
       "      <td>PostCreatedday</td>\n",
       "      <td>0.041404</td>\n",
       "    </tr>\n",
       "    <tr>\n",
       "      <th>8</th>\n",
       "      <td>PostCreatedYear</td>\n",
       "      <td>0.026594</td>\n",
       "    </tr>\n",
       "    <tr>\n",
       "      <th>9</th>\n",
       "      <td>PostCreatedMonth</td>\n",
       "      <td>0.026245</td>\n",
       "    </tr>\n",
       "    <tr>\n",
       "      <th>14</th>\n",
       "      <td>link_desp_len</td>\n",
       "      <td>0.022270</td>\n",
       "    </tr>\n",
       "  </tbody>\n",
       "</table>\n",
       "</div>"
      ],
      "text/plain": [
       "               predictor  feature importance\n",
       "2             Post.Views            0.354668\n",
       "12           Message_len            0.091440\n",
       "11       PostCreatedHour            0.082216\n",
       "13        link_title_len            0.075985\n",
       "1   Followers.at.Posting            0.070699\n",
       "0       Likes.at.Posting            0.066170\n",
       "10        PostCreatedday            0.041404\n",
       "8        PostCreatedYear            0.026594\n",
       "9       PostCreatedMonth            0.026245\n",
       "14         link_desp_len            0.022270"
      ]
     },
     "execution_count": 34,
     "metadata": {},
     "output_type": "execute_result"
    }
   ],
   "source": [
    "coeff_list = pd.DataFrame(list(zip(X.columns, rf_model.feature_importances_)), columns = ['predictor','feature importance']).sort_values(by='feature importance', ascending=False)\n",
    "\n",
    "coeff_list.to_csv(\"Extrinsic_FeatureImportance.csv\", index=False)\n",
    "coeff_list.head(10)"
   ]
  },
  {
   "cell_type": "markdown",
   "metadata": {},
   "source": [
    "## Model 3 - Intrinsic Factors only"
   ]
  },
  {
   "cell_type": "code",
   "execution_count": 41,
   "metadata": {},
   "outputs": [
    {
     "data": {
      "text/plain": [
       "Index(['Page.Category', 'Likes.at.Posting', 'Followers.at.Posting', 'Type',\n",
       "       'Total.Interactions', 'Post.Views', 'Total.Views', 'Sponsor.Category',\n",
       "       'Analytic', 'anger', 'sad', 'social', 'family', 'female', 'male',\n",
       "       'cogproc', 'percept', 'see', 'hear', 'feel', 'health', 'drives',\n",
       "       'affiliation', 'achieve', 'power', 'reward', 'risk', 'work', 'leisure',\n",
       "       'home', 'money', 'relig', 'death', 'PageSinceCreated',\n",
       "       'PageCreatedYear', 'PageCreatedMonth', 'PageCreatedDay',\n",
       "       'PageCreatedHour', 'PostCreatedYear', 'PostCreatedMonth',\n",
       "       'PostCreatedday', 'PostCreatedHour', 'Message_len',\n",
       "       'Message_sentiment_category', 'Message_subjective_category',\n",
       "       'link_title_len', 'link_desp_len', 'page_desc_len',\n",
       "       'page_desc_sentiment_category', 'page_desc_subjective_category', 'Link',\n",
       "       'Live Video', 'Live Video Complete', 'Live Video Scheduled',\n",
       "       'Native Video', 'Photo', 'Status', 'Video', 'YouTube', 'crosspost',\n",
       "       'owned', 'share'],\n",
       "      dtype='object')"
      ]
     },
     "execution_count": 41,
     "metadata": {},
     "output_type": "execute_result"
    }
   ],
   "source": [
    "# Drop correlated/unimportant variables \n",
    "df_liwc = df_a.drop(['User.Name', 'Likes', 'Comments', 'Shares', 'Love', 'Wow','Haha', 'Sad', 'Angry', 'Care', \n",
    "                     'Video.Share.Status','Is.Video.Owner.', 'Total.Views.For.All.Crossposts', 'Sponsor.Name', \n",
    "                     'Message_sentiment', 'Message_subjective', \n",
    "                     '-', 'No', 'Yes', 'is_linked', 'image_text_ind','sponsor_cate_effect','page_cate_effect',\n",
    "                     'page_desc_sentiment', 'page_desc_subjective'], axis = 1)\n",
    "\n",
    "\n",
    "# Drop summary vars\n",
    "df_liwc.drop(['WC','WPS','Dic','Sixltr', 'Clout', 'Authentic','Tone'], inplace = True, axis = 1)\n",
    "\n",
    "df_ready = df_liwc.drop(['Page.Name'], axis=1)\n",
    "\n",
    "df_ready.columns"
   ]
  },
  {
   "cell_type": "code",
   "execution_count": 42,
   "metadata": {},
   "outputs": [
    {
     "data": {
      "text/plain": [
       "Index(['Type', 'Total.Interactions', 'Analytic', 'anger', 'sad', 'social',\n",
       "       'family', 'female', 'male', 'cogproc', 'percept', 'see', 'hear', 'feel',\n",
       "       'health', 'drives', 'affiliation', 'achieve', 'power', 'reward', 'risk',\n",
       "       'work', 'leisure', 'home', 'money', 'relig', 'death',\n",
       "       'Message_sentiment_category', 'Message_subjective_category',\n",
       "       'page_desc_sentiment_category', 'page_desc_subjective_category'],\n",
       "      dtype='object')"
      ]
     },
     "execution_count": 42,
     "metadata": {},
     "output_type": "execute_result"
    }
   ],
   "source": [
    "df_int = df_ready.drop(['Page.Category', 'Likes.at.Posting', 'Followers.at.Posting','Post.Views', 'Total.Views', \n",
    "                     'Sponsor.Category','PageSinceCreated','PageCreatedYear', 'PageCreatedMonth', 'PageCreatedDay',\n",
    "                     'PageCreatedHour', 'PostCreatedYear', 'PostCreatedMonth', 'PostCreatedday', 'PostCreatedHour',\n",
    "                     'PageSinceCreated', 'PageCreatedYear', 'PageCreatedMonth', 'PageCreatedDay',\n",
    "                     'link_title_len', 'link_desp_len', 'page_desc_len','Message_len',\n",
    "                     'PageCreatedHour', 'PostCreatedYear','PostCreatedMonth', 'PostCreatedday', 'PostCreatedHour',\n",
    "                     'Link','Live Video', 'Live Video Complete', 'Live Video Scheduled','Native Video', 'Photo', 'Status', \n",
    "                     'Video', 'YouTube', 'crosspost','owned', 'share'], axis = 1)\n",
    "df_int.columns"
   ]
  },
  {
   "cell_type": "code",
   "execution_count": 43,
   "metadata": {},
   "outputs": [],
   "source": [
    "from sklearn.model_selection import train_test_split\n",
    "\n",
    "# Dummify\n",
    "X = pd.get_dummies(df_int, columns = ['Type', 'Message_sentiment_category', 'Message_subjective_category', \n",
    "                                       'page_desc_sentiment_category', 'page_desc_subjective_category',], \n",
    "                  drop_first = True)\n",
    "\n",
    "y = X['Total.Interactions']\n",
    "\n",
    "X.drop(['Total.Interactions'], inplace = True, axis = 1)\n",
    "\n",
    "x_train, x_test, y_train, y_test = train_test_split(X, y, test_size=0.3, random_state = 13)"
   ]
  },
  {
   "cell_type": "code",
   "execution_count": 44,
   "metadata": {},
   "outputs": [
    {
     "name": "stdout",
     "output_type": "stream",
     "text": [
      "Training time: 261.1273441314697 seconds\n"
     ]
    }
   ],
   "source": [
    "import time\n",
    "start = time.time()\n",
    "\n",
    "# Takes some time to run\n",
    "\n",
    "rf_model = forest(x_train,y_train)\n",
    "#lrf_model = lightforest(x_train,y_train)\n",
    "#xgb_model = XGB(x_train,y_train)\n",
    "#lgbm_model = LGBM(x_train,y_train)\n",
    "\n",
    "stop = time.time()\n",
    "print(f\"Training time: {stop - start} seconds\")\n"
   ]
  },
  {
   "cell_type": "code",
   "execution_count": 45,
   "metadata": {},
   "outputs": [
    {
     "name": "stdout",
     "output_type": "stream",
     "text": [
      "Mean Absolute Error: 638.2403945758734\n",
      "Root Mean Squared Error: 9582.163186468362\n",
      "R^2:  -0.0029253758968645904\n"
     ]
    }
   ],
   "source": [
    "# Make predictions and print metrics\n",
    "predictions = rf_model.predict(x_test)\n",
    "#predictions = lgbm_model.predict(x_test)\n",
    "#predictions = lrf_model.predict(x_test)\n",
    "\n",
    "print('Mean Absolute Error:', metrics.mean_absolute_error(y_test, predictions))\n",
    "print('Root Mean Squared Error:', np.sqrt(metrics.mean_squared_error(y_test, predictions)))\n",
    "print('R^2: ', rf_model.score(x_test, y_test))"
   ]
  },
  {
   "cell_type": "code",
   "execution_count": 46,
   "metadata": {},
   "outputs": [
    {
     "data": {
      "text/html": [
       "<div>\n",
       "<style scoped>\n",
       "    .dataframe tbody tr th:only-of-type {\n",
       "        vertical-align: middle;\n",
       "    }\n",
       "\n",
       "    .dataframe tbody tr th {\n",
       "        vertical-align: top;\n",
       "    }\n",
       "\n",
       "    .dataframe thead th {\n",
       "        text-align: right;\n",
       "    }\n",
       "</style>\n",
       "<table border=\"1\" class=\"dataframe\">\n",
       "  <thead>\n",
       "    <tr style=\"text-align: right;\">\n",
       "      <th></th>\n",
       "      <th>predictor</th>\n",
       "      <th>feature importance</th>\n",
       "    </tr>\n",
       "  </thead>\n",
       "  <tbody>\n",
       "    <tr>\n",
       "      <th>0</th>\n",
       "      <td>Analytic</td>\n",
       "      <td>0.093945</td>\n",
       "    </tr>\n",
       "    <tr>\n",
       "      <th>3</th>\n",
       "      <td>social</td>\n",
       "      <td>0.075009</td>\n",
       "    </tr>\n",
       "    <tr>\n",
       "      <th>13</th>\n",
       "      <td>drives</td>\n",
       "      <td>0.070431</td>\n",
       "    </tr>\n",
       "    <tr>\n",
       "      <th>8</th>\n",
       "      <td>percept</td>\n",
       "      <td>0.069400</td>\n",
       "    </tr>\n",
       "    <tr>\n",
       "      <th>7</th>\n",
       "      <td>cogproc</td>\n",
       "      <td>0.062281</td>\n",
       "    </tr>\n",
       "    <tr>\n",
       "      <th>20</th>\n",
       "      <td>leisure</td>\n",
       "      <td>0.054974</td>\n",
       "    </tr>\n",
       "    <tr>\n",
       "      <th>16</th>\n",
       "      <td>power</td>\n",
       "      <td>0.053244</td>\n",
       "    </tr>\n",
       "    <tr>\n",
       "      <th>6</th>\n",
       "      <td>male</td>\n",
       "      <td>0.050973</td>\n",
       "    </tr>\n",
       "    <tr>\n",
       "      <th>9</th>\n",
       "      <td>see</td>\n",
       "      <td>0.039167</td>\n",
       "    </tr>\n",
       "    <tr>\n",
       "      <th>10</th>\n",
       "      <td>hear</td>\n",
       "      <td>0.033032</td>\n",
       "    </tr>\n",
       "  </tbody>\n",
       "</table>\n",
       "</div>"
      ],
      "text/plain": [
       "   predictor  feature importance\n",
       "0   Analytic            0.093945\n",
       "3     social            0.075009\n",
       "13    drives            0.070431\n",
       "8    percept            0.069400\n",
       "7    cogproc            0.062281\n",
       "20   leisure            0.054974\n",
       "16     power            0.053244\n",
       "6       male            0.050973\n",
       "9        see            0.039167\n",
       "10      hear            0.033032"
      ]
     },
     "execution_count": 46,
     "metadata": {},
     "output_type": "execute_result"
    }
   ],
   "source": [
    "coeff_list = pd.DataFrame(list(zip(X.columns, rf_model.feature_importances_)), columns = ['predictor','feature importance']).sort_values(by='feature importance', ascending=False)\n",
    "\n",
    "coeff_list.to_csv(\"Intrinsic_FeatureImportance.csv\", index=False)\n",
    "coeff_list.head(10)"
   ]
  }
 ],
 "metadata": {
  "kernelspec": {
   "display_name": "Python 3",
   "language": "python",
   "name": "python3"
  },
  "language_info": {
   "codemirror_mode": {
    "name": "ipython",
    "version": 3
   },
   "file_extension": ".py",
   "mimetype": "text/x-python",
   "name": "python",
   "nbconvert_exporter": "python",
   "pygments_lexer": "ipython3",
   "version": "3.7.4"
  },
  "toc": {
   "base_numbering": 1,
   "nav_menu": {},
   "number_sections": false,
   "sideBar": true,
   "skip_h1_title": false,
   "title_cell": "Table of Contents",
   "title_sidebar": "Contents",
   "toc_cell": false,
   "toc_position": {},
   "toc_section_display": true,
   "toc_window_display": false
  }
 },
 "nbformat": 4,
 "nbformat_minor": 2
}
