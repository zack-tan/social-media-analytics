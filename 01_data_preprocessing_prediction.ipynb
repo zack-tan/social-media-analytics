{
 "cells": [
  {
   "cell_type": "code",
   "execution_count": 1,
   "id": "d9aeb61e-b818-48d8-993e-0b9964b43289",
   "metadata": {},
   "outputs": [
    {
     "name": "stderr",
     "output_type": "stream",
     "text": [
      "2022-02-25 04:03:32.803905: W tensorflow/stream_executor/platform/default/dso_loader.cc:64] Could not load dynamic library 'libcudart.so.11.0'; dlerror: libcudart.so.11.0: cannot open shared object file: No such file or directory\n",
      "2022-02-25 04:03:32.803948: I tensorflow/stream_executor/cuda/cudart_stub.cc:29] Ignore above cudart dlerror if you do not have a GPU set up on your machine.\n"
     ]
    }
   ],
   "source": [
    "import pandas as pd\n",
    "import numpy as np\n",
    "import nltk\n",
    "import string\n",
    "from nltk.stem import WordNetLemmatizer\n",
    "from nltk.corpus import stopwords,wordnet\n",
    "from nltk.tokenize import word_tokenize\n",
    "from textblob import TextBlob\n",
    "from datetime import datetime\n",
    "import pytz\n",
    "import seaborn as sns\n",
    "from pandas_profiling import ProfileReport\n",
    "from matplotlib import pyplot as plt\n",
    "from sklearn.linear_model import LinearRegression\n",
    "from sklearn.preprocessing import OneHotEncoder,StandardScaler\n",
    "from sklearn.model_selection import train_test_split,cross_val_score, KFold\n",
    "from sklearn.metrics import mean_squared_error, mean_absolute_error\n",
    "import statsmodels.api as sm\n",
    "from scipy import stats\n",
    "from keras.models import Sequential\n",
    "from keras.layers import Dense\n",
    "import scikeras\n",
    "from scikeras.wrappers import KerasRegressor\n",
    "from sklearn.ensemble import RandomForestRegressor\n",
    "from sklearn.feature_selection import SelectFromModel"
   ]
  },
  {
   "cell_type": "markdown",
   "id": "1b0dbbc8-ea13-4a23-bd5f-fdd64b8e0425",
   "metadata": {},
   "source": [
    "# Data Aquisation\n",
    "Due to source data issue, bad lines are skipped (as we had a large data set)"
   ]
  },
  {
   "cell_type": "code",
   "execution_count": 2,
   "id": "eea95944-f6a1-4dc9-9e8d-07815afb8bca",
   "metadata": {},
   "outputs": [
    {
     "name": "stderr",
     "output_type": "stream",
     "text": [
      "/opt/conda/lib/python3.7/site-packages/IPython/core/interactiveshell.py:3457: DtypeWarning: Columns (7,19,25,26,127) have mixed types.Specify dtype option on import or set low_memory=False.\n",
      "  exec(code_obj, self.user_global_ns, self.user_ns)\n"
     ]
    }
   ],
   "source": [
    "cdf_data = pd.read_csv('cdf_train.csv',on_bad_lines='skip',encoding= 'unicode_escape')"
   ]
  },
  {
   "cell_type": "code",
   "execution_count": 3,
   "id": "d8871299-3def-432c-8c60-54bf2463d091",
   "metadata": {},
   "outputs": [
    {
     "name": "stdout",
     "output_type": "stream",
     "text": [
      "<class 'pandas.core.frame.DataFrame'>\n",
      "RangeIndex: 305405 entries, 0 to 305404\n",
      "Columns: 133 entries, Page.Name to train_test\n",
      "dtypes: float64(105), int64(1), object(27)\n",
      "memory usage: 309.9+ MB\n"
     ]
    }
   ],
   "source": [
    "cdf_data.info()"
   ]
  },
  {
   "cell_type": "code",
   "execution_count": 4,
   "id": "d7a7a31c-4d25-4dca-b788-0935680b58a2",
   "metadata": {},
   "outputs": [
    {
     "data": {
      "text/html": [
       "<div>\n",
       "<style scoped>\n",
       "    .dataframe tbody tr th:only-of-type {\n",
       "        vertical-align: middle;\n",
       "    }\n",
       "\n",
       "    .dataframe tbody tr th {\n",
       "        vertical-align: top;\n",
       "    }\n",
       "\n",
       "    .dataframe thead th {\n",
       "        text-align: right;\n",
       "    }\n",
       "</style>\n",
       "<table border=\"1\" class=\"dataframe\">\n",
       "  <thead>\n",
       "    <tr style=\"text-align: right;\">\n",
       "      <th></th>\n",
       "      <th>Facebook.Id</th>\n",
       "      <th>Followers.at.Posting</th>\n",
       "      <th>Total.Interactions</th>\n",
       "      <th>Likes</th>\n",
       "      <th>Comments</th>\n",
       "      <th>Shares</th>\n",
       "      <th>Love</th>\n",
       "      <th>Wow</th>\n",
       "      <th>Sad</th>\n",
       "      <th>Angry</th>\n",
       "      <th>...</th>\n",
       "      <th>Period</th>\n",
       "      <th>Comma</th>\n",
       "      <th>Colon</th>\n",
       "      <th>SemiC</th>\n",
       "      <th>QMark</th>\n",
       "      <th>Exclam</th>\n",
       "      <th>Quote</th>\n",
       "      <th>Apostro</th>\n",
       "      <th>Parenth</th>\n",
       "      <th>OtherP</th>\n",
       "    </tr>\n",
       "  </thead>\n",
       "  <tbody>\n",
       "    <tr>\n",
       "      <th>count</th>\n",
       "      <td>3.054050e+05</td>\n",
       "      <td>2.134310e+05</td>\n",
       "      <td>288688.000000</td>\n",
       "      <td>305404.000000</td>\n",
       "      <td>305404.000000</td>\n",
       "      <td>305404.000000</td>\n",
       "      <td>305404.000000</td>\n",
       "      <td>305403.000000</td>\n",
       "      <td>305404.000000</td>\n",
       "      <td>305404.000000</td>\n",
       "      <td>...</td>\n",
       "      <td>305404.000000</td>\n",
       "      <td>305404.000000</td>\n",
       "      <td>305404.000000</td>\n",
       "      <td>305404.000000</td>\n",
       "      <td>305404.000000</td>\n",
       "      <td>305404.000000</td>\n",
       "      <td>305403.000000</td>\n",
       "      <td>305403.000000</td>\n",
       "      <td>305403.000000</td>\n",
       "      <td>305403.000000</td>\n",
       "    </tr>\n",
       "    <tr>\n",
       "      <th>mean</th>\n",
       "      <td>4.718250e+13</td>\n",
       "      <td>1.383248e+06</td>\n",
       "      <td>104.397595</td>\n",
       "      <td>153.017662</td>\n",
       "      <td>52.575209</td>\n",
       "      <td>89.026801</td>\n",
       "      <td>30.580405</td>\n",
       "      <td>10.085205</td>\n",
       "      <td>15.325025</td>\n",
       "      <td>9.088620</td>\n",
       "      <td>...</td>\n",
       "      <td>5.815451</td>\n",
       "      <td>2.845213</td>\n",
       "      <td>1.313080</td>\n",
       "      <td>0.028095</td>\n",
       "      <td>0.517059</td>\n",
       "      <td>1.099687</td>\n",
       "      <td>0.596462</td>\n",
       "      <td>2.028299</td>\n",
       "      <td>0.373102</td>\n",
       "      <td>3.726192</td>\n",
       "    </tr>\n",
       "    <tr>\n",
       "      <th>std</th>\n",
       "      <td>1.555918e+14</td>\n",
       "      <td>2.837662e+06</td>\n",
       "      <td>176.524703</td>\n",
       "      <td>3330.231562</td>\n",
       "      <td>936.817725</td>\n",
       "      <td>2745.924834</td>\n",
       "      <td>1487.202899</td>\n",
       "      <td>135.341036</td>\n",
       "      <td>260.749970</td>\n",
       "      <td>136.465705</td>\n",
       "      <td>...</td>\n",
       "      <td>3.840582</td>\n",
       "      <td>3.329149</td>\n",
       "      <td>2.250954</td>\n",
       "      <td>0.281566</td>\n",
       "      <td>1.390970</td>\n",
       "      <td>2.407347</td>\n",
       "      <td>1.884042</td>\n",
       "      <td>2.872608</td>\n",
       "      <td>1.498601</td>\n",
       "      <td>6.780763</td>\n",
       "    </tr>\n",
       "    <tr>\n",
       "      <th>min</th>\n",
       "      <td>8.510940e+05</td>\n",
       "      <td>1.670000e+02</td>\n",
       "      <td>0.000000</td>\n",
       "      <td>0.000000</td>\n",
       "      <td>0.000000</td>\n",
       "      <td>0.000000</td>\n",
       "      <td>0.000000</td>\n",
       "      <td>0.000000</td>\n",
       "      <td>0.000000</td>\n",
       "      <td>0.000000</td>\n",
       "      <td>...</td>\n",
       "      <td>0.000000</td>\n",
       "      <td>0.000000</td>\n",
       "      <td>0.000000</td>\n",
       "      <td>0.000000</td>\n",
       "      <td>0.000000</td>\n",
       "      <td>0.000000</td>\n",
       "      <td>0.000000</td>\n",
       "      <td>0.000000</td>\n",
       "      <td>0.000000</td>\n",
       "      <td>0.000000</td>\n",
       "    </tr>\n",
       "    <tr>\n",
       "      <th>25%</th>\n",
       "      <td>6.025263e+10</td>\n",
       "      <td>1.775770e+05</td>\n",
       "      <td>8.000000</td>\n",
       "      <td>5.000000</td>\n",
       "      <td>0.000000</td>\n",
       "      <td>1.000000</td>\n",
       "      <td>0.000000</td>\n",
       "      <td>0.000000</td>\n",
       "      <td>0.000000</td>\n",
       "      <td>0.000000</td>\n",
       "      <td>...</td>\n",
       "      <td>3.450000</td>\n",
       "      <td>0.000000</td>\n",
       "      <td>0.000000</td>\n",
       "      <td>0.000000</td>\n",
       "      <td>0.000000</td>\n",
       "      <td>0.000000</td>\n",
       "      <td>0.000000</td>\n",
       "      <td>0.000000</td>\n",
       "      <td>0.000000</td>\n",
       "      <td>0.000000</td>\n",
       "    </tr>\n",
       "    <tr>\n",
       "      <th>50%</th>\n",
       "      <td>1.261918e+11</td>\n",
       "      <td>4.035280e+05</td>\n",
       "      <td>28.000000</td>\n",
       "      <td>16.000000</td>\n",
       "      <td>3.000000</td>\n",
       "      <td>4.000000</td>\n",
       "      <td>1.000000</td>\n",
       "      <td>0.000000</td>\n",
       "      <td>0.000000</td>\n",
       "      <td>0.000000</td>\n",
       "      <td>...</td>\n",
       "      <td>5.330000</td>\n",
       "      <td>2.130000</td>\n",
       "      <td>0.000000</td>\n",
       "      <td>0.000000</td>\n",
       "      <td>0.000000</td>\n",
       "      <td>0.000000</td>\n",
       "      <td>0.000000</td>\n",
       "      <td>0.000000</td>\n",
       "      <td>0.000000</td>\n",
       "      <td>0.000000</td>\n",
       "    </tr>\n",
       "    <tr>\n",
       "      <th>75%</th>\n",
       "      <td>3.430353e+11</td>\n",
       "      <td>6.967820e+05</td>\n",
       "      <td>111.000000</td>\n",
       "      <td>57.000000</td>\n",
       "      <td>19.000000</td>\n",
       "      <td>18.000000</td>\n",
       "      <td>4.000000</td>\n",
       "      <td>2.000000</td>\n",
       "      <td>1.000000</td>\n",
       "      <td>0.000000</td>\n",
       "      <td>...</td>\n",
       "      <td>7.760000</td>\n",
       "      <td>4.350000</td>\n",
       "      <td>2.220000</td>\n",
       "      <td>0.000000</td>\n",
       "      <td>0.000000</td>\n",
       "      <td>1.490000</td>\n",
       "      <td>0.000000</td>\n",
       "      <td>3.230000</td>\n",
       "      <td>0.000000</td>\n",
       "      <td>4.920000</td>\n",
       "    </tr>\n",
       "    <tr>\n",
       "      <th>max</th>\n",
       "      <td>1.830666e+15</td>\n",
       "      <td>9.789970e+07</td>\n",
       "      <td>999.000000</td>\n",
       "      <td>955621.000000</td>\n",
       "      <td>359253.000000</td>\n",
       "      <td>650858.000000</td>\n",
       "      <td>586138.000000</td>\n",
       "      <td>35361.000000</td>\n",
       "      <td>66906.000000</td>\n",
       "      <td>50265.000000</td>\n",
       "      <td>...</td>\n",
       "      <td>100.000000</td>\n",
       "      <td>51.280000</td>\n",
       "      <td>32.280000</td>\n",
       "      <td>12.310000</td>\n",
       "      <td>83.330000</td>\n",
       "      <td>344.440000</td>\n",
       "      <td>50.000000</td>\n",
       "      <td>40.740000</td>\n",
       "      <td>50.000000</td>\n",
       "      <td>150.000000</td>\n",
       "    </tr>\n",
       "  </tbody>\n",
       "</table>\n",
       "<p>8 rows × 106 columns</p>\n",
       "</div>"
      ],
      "text/plain": [
       "        Facebook.Id  Followers.at.Posting  Total.Interactions          Likes  \\\n",
       "count  3.054050e+05          2.134310e+05       288688.000000  305404.000000   \n",
       "mean   4.718250e+13          1.383248e+06          104.397595     153.017662   \n",
       "std    1.555918e+14          2.837662e+06          176.524703    3330.231562   \n",
       "min    8.510940e+05          1.670000e+02            0.000000       0.000000   \n",
       "25%    6.025263e+10          1.775770e+05            8.000000       5.000000   \n",
       "50%    1.261918e+11          4.035280e+05           28.000000      16.000000   \n",
       "75%    3.430353e+11          6.967820e+05          111.000000      57.000000   \n",
       "max    1.830666e+15          9.789970e+07          999.000000  955621.000000   \n",
       "\n",
       "            Comments         Shares           Love            Wow  \\\n",
       "count  305404.000000  305404.000000  305404.000000  305403.000000   \n",
       "mean       52.575209      89.026801      30.580405      10.085205   \n",
       "std       936.817725    2745.924834    1487.202899     135.341036   \n",
       "min         0.000000       0.000000       0.000000       0.000000   \n",
       "25%         0.000000       1.000000       0.000000       0.000000   \n",
       "50%         3.000000       4.000000       1.000000       0.000000   \n",
       "75%        19.000000      18.000000       4.000000       2.000000   \n",
       "max    359253.000000  650858.000000  586138.000000   35361.000000   \n",
       "\n",
       "                 Sad          Angry  ...         Period          Comma  \\\n",
       "count  305404.000000  305404.000000  ...  305404.000000  305404.000000   \n",
       "mean       15.325025       9.088620  ...       5.815451       2.845213   \n",
       "std       260.749970     136.465705  ...       3.840582       3.329149   \n",
       "min         0.000000       0.000000  ...       0.000000       0.000000   \n",
       "25%         0.000000       0.000000  ...       3.450000       0.000000   \n",
       "50%         0.000000       0.000000  ...       5.330000       2.130000   \n",
       "75%         1.000000       0.000000  ...       7.760000       4.350000   \n",
       "max     66906.000000   50265.000000  ...     100.000000      51.280000   \n",
       "\n",
       "               Colon          SemiC          QMark         Exclam  \\\n",
       "count  305404.000000  305404.000000  305404.000000  305404.000000   \n",
       "mean        1.313080       0.028095       0.517059       1.099687   \n",
       "std         2.250954       0.281566       1.390970       2.407347   \n",
       "min         0.000000       0.000000       0.000000       0.000000   \n",
       "25%         0.000000       0.000000       0.000000       0.000000   \n",
       "50%         0.000000       0.000000       0.000000       0.000000   \n",
       "75%         2.220000       0.000000       0.000000       1.490000   \n",
       "max        32.280000      12.310000      83.330000     344.440000   \n",
       "\n",
       "               Quote        Apostro        Parenth         OtherP  \n",
       "count  305403.000000  305403.000000  305403.000000  305403.000000  \n",
       "mean        0.596462       2.028299       0.373102       3.726192  \n",
       "std         1.884042       2.872608       1.498601       6.780763  \n",
       "min         0.000000       0.000000       0.000000       0.000000  \n",
       "25%         0.000000       0.000000       0.000000       0.000000  \n",
       "50%         0.000000       0.000000       0.000000       0.000000  \n",
       "75%         0.000000       3.230000       0.000000       4.920000  \n",
       "max        50.000000      40.740000      50.000000     150.000000  \n",
       "\n",
       "[8 rows x 106 columns]"
      ]
     },
     "execution_count": 4,
     "metadata": {},
     "output_type": "execute_result"
    }
   ],
   "source": [
    "cdf_data.describe()"
   ]
  },
  {
   "cell_type": "code",
   "execution_count": 5,
   "id": "27b3ed81-1c3c-4cc6-a6f3-3105041423ee",
   "metadata": {},
   "outputs": [
    {
     "data": {
      "text/plain": [
       "Page.Name                 0\n",
       "User.Name                 0\n",
       "Facebook.Id               0\n",
       "Page.Category             1\n",
       "Page.Admin.Top.Country    0\n",
       "                         ..\n",
       "Quote                     2\n",
       "Apostro                   2\n",
       "Parenth                   2\n",
       "OtherP                    2\n",
       "train_test                2\n",
       "Length: 133, dtype: int64"
      ]
     },
     "execution_count": 5,
     "metadata": {},
     "output_type": "execute_result"
    }
   ],
   "source": [
    "cdf_data.isnull().sum()"
   ]
  },
  {
   "cell_type": "markdown",
   "id": "06c1b56e-e43b-41c6-987e-2431b07a84dd",
   "metadata": {},
   "source": [
    "# Data cleaning"
   ]
  },
  {
   "cell_type": "markdown",
   "id": "91f98b9a-3213-41e9-ab55-48055f9d66dd",
   "metadata": {},
   "source": [
    "## 1. Clean out records that do not have value at train_test (bad data)."
   ]
  },
  {
   "cell_type": "code",
   "execution_count": 6,
   "id": "76072f1d-c8d8-42ce-aa0a-74209bf0de4c",
   "metadata": {},
   "outputs": [
    {
     "data": {
      "text/html": [
       "<div>\n",
       "<style scoped>\n",
       "    .dataframe tbody tr th:only-of-type {\n",
       "        vertical-align: middle;\n",
       "    }\n",
       "\n",
       "    .dataframe tbody tr th {\n",
       "        vertical-align: top;\n",
       "    }\n",
       "\n",
       "    .dataframe thead th {\n",
       "        text-align: right;\n",
       "    }\n",
       "</style>\n",
       "<table border=\"1\" class=\"dataframe\">\n",
       "  <thead>\n",
       "    <tr style=\"text-align: right;\">\n",
       "      <th></th>\n",
       "      <th>Page.Name</th>\n",
       "      <th>User.Name</th>\n",
       "      <th>Facebook.Id</th>\n",
       "      <th>Page.Category</th>\n",
       "      <th>Page.Admin.Top.Country</th>\n",
       "      <th>Page.Description</th>\n",
       "      <th>Page.Created</th>\n",
       "      <th>Likes.at.Posting</th>\n",
       "      <th>Followers.at.Posting</th>\n",
       "      <th>Post.Created</th>\n",
       "      <th>...</th>\n",
       "      <th>Colon</th>\n",
       "      <th>SemiC</th>\n",
       "      <th>QMark</th>\n",
       "      <th>Exclam</th>\n",
       "      <th>Dash</th>\n",
       "      <th>Quote</th>\n",
       "      <th>Apostro</th>\n",
       "      <th>Parenth</th>\n",
       "      <th>OtherP</th>\n",
       "      <th>train_test</th>\n",
       "    </tr>\n",
       "  </thead>\n",
       "  <tbody>\n",
       "    <tr>\n",
       "      <th>6867</th>\n",
       "      <td>OZY</td>\n",
       "      <td>OZY</td>\n",
       "      <td>1393911800825140</td>\n",
       "      <td>MEDIA_NEWS_COMPANY</td>\n",
       "      <td>US</td>\n",
       "      <td>One bourbon</td>\n",
       "      <td>one scotch</td>\n",
       "      <td>one beer: Whatâs considered a standard drink?</td>\n",
       "      <td>NaN</td>\n",
       "      <td>NaN</td>\n",
       "      <td>...</td>\n",
       "      <td>NaN</td>\n",
       "      <td>NaN</td>\n",
       "      <td>NaN</td>\n",
       "      <td>NaN</td>\n",
       "      <td>NaN</td>\n",
       "      <td>NaN</td>\n",
       "      <td>NaN</td>\n",
       "      <td>NaN</td>\n",
       "      <td>NaN</td>\n",
       "      <td>NaN</td>\n",
       "    </tr>\n",
       "    <tr>\n",
       "      <th>6868</th>\n",
       "      <td>#LiveCuriously</td>\n",
       "      <td>2014-07-18 10:06:50 EDT</td>\n",
       "      <td>851094</td>\n",
       "      <td>NaN</td>\n",
       "      <td>2017-04-27 18:05:00 EDT</td>\n",
       "      <td>2017-04-27</td>\n",
       "      <td>18:05:00</td>\n",
       "      <td>Link</td>\n",
       "      <td>167.0</td>\n",
       "      <td>115</td>\n",
       "      <td>...</td>\n",
       "      <td>0.0</td>\n",
       "      <td>2.04</td>\n",
       "      <td>4.08</td>\n",
       "      <td>2.04</td>\n",
       "      <td>train</td>\n",
       "      <td>NaN</td>\n",
       "      <td>NaN</td>\n",
       "      <td>NaN</td>\n",
       "      <td>NaN</td>\n",
       "      <td>NaN</td>\n",
       "    </tr>\n",
       "  </tbody>\n",
       "</table>\n",
       "<p>2 rows × 133 columns</p>\n",
       "</div>"
      ],
      "text/plain": [
       "           Page.Name                User.Name       Facebook.Id  \\\n",
       "6867             OZY                      OZY  1393911800825140   \n",
       "6868  #LiveCuriously  2014-07-18 10:06:50 EDT            851094   \n",
       "\n",
       "           Page.Category   Page.Admin.Top.Country Page.Description  \\\n",
       "6867  MEDIA_NEWS_COMPANY                       US      One bourbon   \n",
       "6868                 NaN  2017-04-27 18:05:00 EDT       2017-04-27   \n",
       "\n",
       "     Page.Created                                  Likes.at.Posting  \\\n",
       "6867   one scotch   one beer: Whatâs considered a standard drink?   \n",
       "6868     18:05:00                                              Link   \n",
       "\n",
       "      Followers.at.Posting Post.Created  ... Colon SemiC QMark  Exclam   Dash  \\\n",
       "6867                   NaN          NaN  ...   NaN   NaN   NaN     NaN    NaN   \n",
       "6868                 167.0          115  ...   0.0  2.04  4.08    2.04  train   \n",
       "\n",
       "      Quote  Apostro  Parenth  OtherP train_test  \n",
       "6867    NaN      NaN      NaN     NaN        NaN  \n",
       "6868    NaN      NaN      NaN     NaN        NaN  \n",
       "\n",
       "[2 rows x 133 columns]"
      ]
     },
     "execution_count": 6,
     "metadata": {},
     "output_type": "execute_result"
    }
   ],
   "source": [
    "cdf_data.loc[cdf_data.train_test.isnull()]"
   ]
  },
  {
   "cell_type": "code",
   "execution_count": 7,
   "id": "af7220df-7319-4114-89ac-94f5f06524b8",
   "metadata": {},
   "outputs": [],
   "source": [
    "cdf_data = cdf_data.loc[~cdf_data.train_test.isnull()]"
   ]
  },
  {
   "cell_type": "markdown",
   "id": "f53f9399-ca6c-44cd-b2fc-8ac4f22e2e0e",
   "metadata": {},
   "source": [
    "## 2. Check each column data type"
   ]
  },
  {
   "cell_type": "code",
   "execution_count": 8,
   "id": "4ef380bf-4e5d-44dc-9ed7-1105bb0758b9",
   "metadata": {},
   "outputs": [],
   "source": [
    "pd.DataFrame(cdf_data.dtypes).to_csv('data_type_list.csv')"
   ]
  },
  {
   "cell_type": "markdown",
   "id": "18374f56-6f4d-4aeb-a473-94c5c548418d",
   "metadata": {},
   "source": [
    "We can use this list to find out irregular data types."
   ]
  },
  {
   "cell_type": "code",
   "execution_count": 9,
   "id": "5014fe5f-1ced-4853-aeb6-915417d9ec02",
   "metadata": {},
   "outputs": [
    {
     "data": {
      "text/plain": [
       "Page.Name                  object\n",
       "User.Name                  object\n",
       "Facebook.Id                 int64\n",
       "Page.Category              object\n",
       "Page.Admin.Top.Country     object\n",
       "Page.Description           object\n",
       "Page.Created               object\n",
       "Likes.at.Posting           object\n",
       "Followers.at.Posting      float64\n",
       "Post.Created               object\n",
       "Post.Created.Date          object\n",
       "Post.Created.Time          object\n",
       "Type                       object\n",
       "Total.Interactions        float64\n",
       "Likes                     float64\n",
       "Comments                  float64\n",
       "Shares                    float64\n",
       "Love                      float64\n",
       "Wow                       float64\n",
       "Haha                       object\n",
       "dtype: object"
      ]
     },
     "execution_count": 9,
     "metadata": {},
     "output_type": "execute_result"
    }
   ],
   "source": [
    "cdf_data.iloc[:,:20].dtypes"
   ]
  },
  {
   "cell_type": "code",
   "execution_count": 10,
   "id": "8a5f2c80-5aec-4c45-947a-d79e6ae0e98f",
   "metadata": {},
   "outputs": [
    {
     "data": {
      "text/plain": [
       "Sad                               float64\n",
       "Angry                             float64\n",
       "Care                              float64\n",
       "Video.Share.Status                 object\n",
       "Is.Video.Owner.                    object\n",
       "Post.Views                         object\n",
       "Total.Views                        object\n",
       "Total.Views.For.All.Crossposts    float64\n",
       "Video.Length                      float64\n",
       "URL                                object\n",
       "Message                            object\n",
       "Link                               object\n",
       "Final.Link                         object\n",
       "Image.Text                         object\n",
       "Link.Text                          object\n",
       "Description                        object\n",
       "Sponsor.Id                        float64\n",
       "Sponsor.Name                       object\n",
       "Sponsor.Category                   object\n",
       "WC                                float64\n",
       "dtype: object"
      ]
     },
     "execution_count": 10,
     "metadata": {},
     "output_type": "execute_result"
    }
   ],
   "source": [
    "cdf_data.iloc[:,20:40].dtypes"
   ]
  },
  {
   "cell_type": "markdown",
   "id": "4d87f705-9ee6-4b17-b0ce-bf88367e7378",
   "metadata": {},
   "source": [
    "### Transform Facebook ID into string."
   ]
  },
  {
   "cell_type": "code",
   "execution_count": 11,
   "id": "19077ca7-8ae3-420a-b6fc-8fc3c44f8e50",
   "metadata": {},
   "outputs": [],
   "source": [
    "cdf_data.loc[:,'Facebook.Id'] = cdf_data['Facebook.Id'].astype('object')"
   ]
  },
  {
   "cell_type": "markdown",
   "id": "2d90eeda-256b-4d4c-8f78-5693c0ad436f",
   "metadata": {},
   "source": [
    "### Check Followers data type."
   ]
  },
  {
   "cell_type": "code",
   "execution_count": 12,
   "id": "6cf4001b-1b88-4e39-82c8-e70d27c9f5d1",
   "metadata": {},
   "outputs": [
    {
     "data": {
      "text/plain": [
       "0                NaN\n",
       "1                NaN\n",
       "2                NaN\n",
       "3                NaN\n",
       "4                NaN\n",
       "             ...    \n",
       "305400      945035.0\n",
       "305401      348282.0\n",
       "305402      375241.0\n",
       "305403    14458452.0\n",
       "305404      810517.0\n",
       "Name: Followers.at.Posting, Length: 305403, dtype: float64"
      ]
     },
     "execution_count": 12,
     "metadata": {},
     "output_type": "execute_result"
    }
   ],
   "source": [
    "cdf_data['Followers.at.Posting']"
   ]
  },
  {
   "cell_type": "markdown",
   "id": "0bfe7539-8b24-4a5d-a731-a744cf2bdffe",
   "metadata": {},
   "source": [
    "Make sense as Pandas doesn't handel null values well with integer."
   ]
  },
  {
   "cell_type": "markdown",
   "id": "e2a6ba7e-121a-47f5-b86b-2be94555cfdd",
   "metadata": {},
   "source": [
    "### Check timestamp related columns"
   ]
  },
  {
   "cell_type": "code",
   "execution_count": 13,
   "id": "111b4d2c-71ed-425c-9dc8-f83ad1aee271",
   "metadata": {},
   "outputs": [
    {
     "data": {
      "text/plain": [
       "0         2016-06-01 20:45:00 EDT\n",
       "1         2016-06-01 18:23:07 EDT\n",
       "2         2016-06-01 17:33:00 EDT\n",
       "3         2016-06-01 17:15:39 EDT\n",
       "4         2016-06-01 14:00:00 EDT\n",
       "                   ...           \n",
       "305400    2020-12-26 02:15:11 EST\n",
       "305401    2020-12-26 02:15:02 EST\n",
       "305402    2020-12-26 02:11:21 EST\n",
       "305403    2020-12-26 02:09:56 EST\n",
       "305404    2020-12-26 02:03:58 EST\n",
       "Name: Post.Created, Length: 305403, dtype: object"
      ]
     },
     "execution_count": 13,
     "metadata": {},
     "output_type": "execute_result"
    }
   ],
   "source": [
    "cdf_data['Post.Created']"
   ]
  },
  {
   "cell_type": "markdown",
   "id": "4a28f148-ac29-4f02-9abc-089ddea5b18c",
   "metadata": {},
   "source": [
    "***Note that time zone is irregular. We need to read in and standardize time zone information***"
   ]
  },
  {
   "cell_type": "code",
   "execution_count": 14,
   "id": "ff54d32b-1757-4be8-b2f5-360ee5030295",
   "metadata": {},
   "outputs": [
    {
     "data": {
      "text/plain": [
       "array(['EDT', 'EST'], dtype=object)"
      ]
     },
     "execution_count": 14,
     "metadata": {},
     "output_type": "execute_result"
    }
   ],
   "source": [
    "np.unique(cdf_data['Post.Created'].str[-3:])"
   ]
  },
  {
   "cell_type": "markdown",
   "id": "1b738cd0-689a-4381-8cf7-5a13365d54a9",
   "metadata": {},
   "source": [
    "We are dealing with US Eastern time in different format."
   ]
  },
  {
   "cell_type": "code",
   "execution_count": 15,
   "id": "dede1133-824a-4428-bb00-78322fb08813",
   "metadata": {},
   "outputs": [],
   "source": [
    "def convert_ts(dt_str):\n",
    "    ts = dt_str[:-4]\n",
    "    fmt = \"%Y-%m-%d %H:%M:%S\"\n",
    "    read_in_dt = datetime.strptime(ts,fmt)\n",
    "    local_tz = pytz.timezone('US/Eastern')\n",
    "    date_local = local_tz.localize(read_in_dt)\n",
    "    return date_local"
   ]
  },
  {
   "cell_type": "code",
   "execution_count": 16,
   "id": "e5a6e50e-b5be-4ad8-b47a-379d42f43bc4",
   "metadata": {},
   "outputs": [],
   "source": [
    "trans_ts = lambda x: convert_ts(x)"
   ]
  },
  {
   "cell_type": "code",
   "execution_count": 17,
   "id": "7d231ef4-f5b4-4c76-abda-e2c1189bd3f2",
   "metadata": {},
   "outputs": [],
   "source": [
    "cdf_data.loc[:,'Post.Created'] = cdf_data['Post.Created'].apply(trans_ts)"
   ]
  },
  {
   "cell_type": "code",
   "execution_count": 18,
   "id": "4138d7b3-d18d-466e-8289-ff53ca39f691",
   "metadata": {},
   "outputs": [],
   "source": [
    "cdf_data.loc[:,'Page.Created'] = cdf_data['Page.Created'].apply(trans_ts)"
   ]
  },
  {
   "cell_type": "markdown",
   "id": "dbcd6ddb-ea51-4534-8b85-1597da19bcb1",
   "metadata": {},
   "source": [
    "Drop duplicated information."
   ]
  },
  {
   "cell_type": "code",
   "execution_count": 19,
   "id": "b38e2b57-9fd1-47e4-974d-e5224f7303de",
   "metadata": {},
   "outputs": [],
   "source": [
    "cdf_data = cdf_data.drop(['Post.Created.Date','Post.Created.Time'], axis = 1)"
   ]
  },
  {
   "cell_type": "markdown",
   "id": "6de5e2f7-78a6-464e-88d7-5fcb84535a68",
   "metadata": {},
   "source": [
    "### Check Type"
   ]
  },
  {
   "cell_type": "code",
   "execution_count": 20,
   "id": "e2365851-6d2f-4df4-8307-0fd2fd4a7f2d",
   "metadata": {},
   "outputs": [
    {
     "data": {
      "text/plain": [
       "array(['Link', 'Live Video', 'Live Video Complete',\n",
       "       'Live Video Scheduled', 'Native Video', 'Photo', 'Status', 'Video',\n",
       "       'YouTube'], dtype=object)"
      ]
     },
     "execution_count": 20,
     "metadata": {},
     "output_type": "execute_result"
    }
   ],
   "source": [
    "np.unique(cdf_data['Type'])"
   ]
  },
  {
   "cell_type": "markdown",
   "id": "d6583164-77be-49db-ac31-867b79302d5e",
   "metadata": {},
   "source": [
    "### Check Interations\n",
    "Interactions is the total number of interactions (like, share etc.). The default behavior is that all of these are simply added together."
   ]
  },
  {
   "cell_type": "code",
   "execution_count": 21,
   "id": "f2073b67-127b-4fa1-bdbf-181bb2bb11d1",
   "metadata": {},
   "outputs": [
    {
     "data": {
      "text/html": [
       "<div>\n",
       "<style scoped>\n",
       "    .dataframe tbody tr th:only-of-type {\n",
       "        vertical-align: middle;\n",
       "    }\n",
       "\n",
       "    .dataframe tbody tr th {\n",
       "        vertical-align: top;\n",
       "    }\n",
       "\n",
       "    .dataframe thead th {\n",
       "        text-align: right;\n",
       "    }\n",
       "</style>\n",
       "<table border=\"1\" class=\"dataframe\">\n",
       "  <thead>\n",
       "    <tr style=\"text-align: right;\">\n",
       "      <th></th>\n",
       "      <th>Type</th>\n",
       "      <th>Total.Interactions</th>\n",
       "      <th>Likes</th>\n",
       "      <th>Comments</th>\n",
       "      <th>Shares</th>\n",
       "      <th>Love</th>\n",
       "      <th>Wow</th>\n",
       "      <th>Haha</th>\n",
       "      <th>Sad</th>\n",
       "      <th>Angry</th>\n",
       "      <th>Care</th>\n",
       "      <th>Video.Share.Status</th>\n",
       "      <th>Is.Video.Owner.</th>\n",
       "      <th>Post.Views</th>\n",
       "      <th>Total.Views</th>\n",
       "    </tr>\n",
       "  </thead>\n",
       "  <tbody>\n",
       "    <tr>\n",
       "      <th>9</th>\n",
       "      <td>Native Video</td>\n",
       "      <td>NaN</td>\n",
       "      <td>922.0</td>\n",
       "      <td>57.0</td>\n",
       "      <td>593.0</td>\n",
       "      <td>23.0</td>\n",
       "      <td>1.0</td>\n",
       "      <td>0</td>\n",
       "      <td>0.0</td>\n",
       "      <td>1.0</td>\n",
       "      <td>0.0</td>\n",
       "      <td>owned</td>\n",
       "      <td>Yes</td>\n",
       "      <td>0</td>\n",
       "      <td>160065</td>\n",
       "    </tr>\n",
       "    <tr>\n",
       "      <th>13</th>\n",
       "      <td>Native Video</td>\n",
       "      <td>NaN</td>\n",
       "      <td>1864.0</td>\n",
       "      <td>145.0</td>\n",
       "      <td>1366.0</td>\n",
       "      <td>55.0</td>\n",
       "      <td>11.0</td>\n",
       "      <td>2</td>\n",
       "      <td>0.0</td>\n",
       "      <td>1.0</td>\n",
       "      <td>0.0</td>\n",
       "      <td>owned</td>\n",
       "      <td>Yes</td>\n",
       "      <td>0</td>\n",
       "      <td>249706</td>\n",
       "    </tr>\n",
       "    <tr>\n",
       "      <th>14</th>\n",
       "      <td>Native Video</td>\n",
       "      <td>NaN</td>\n",
       "      <td>1972.0</td>\n",
       "      <td>292.0</td>\n",
       "      <td>2616.0</td>\n",
       "      <td>87.0</td>\n",
       "      <td>26.0</td>\n",
       "      <td>0</td>\n",
       "      <td>0.0</td>\n",
       "      <td>0.0</td>\n",
       "      <td>0.0</td>\n",
       "      <td>owned</td>\n",
       "      <td>Yes</td>\n",
       "      <td>0</td>\n",
       "      <td>263340</td>\n",
       "    </tr>\n",
       "    <tr>\n",
       "      <th>19</th>\n",
       "      <td>Native Video</td>\n",
       "      <td>NaN</td>\n",
       "      <td>987.0</td>\n",
       "      <td>56.0</td>\n",
       "      <td>583.0</td>\n",
       "      <td>41.0</td>\n",
       "      <td>14.0</td>\n",
       "      <td>2</td>\n",
       "      <td>1.0</td>\n",
       "      <td>0.0</td>\n",
       "      <td>0.0</td>\n",
       "      <td>crosspost</td>\n",
       "      <td>Yes</td>\n",
       "      <td>0</td>\n",
       "      <td>100209</td>\n",
       "    </tr>\n",
       "    <tr>\n",
       "      <th>22</th>\n",
       "      <td>Native Video</td>\n",
       "      <td>NaN</td>\n",
       "      <td>2773.0</td>\n",
       "      <td>481.0</td>\n",
       "      <td>1888.0</td>\n",
       "      <td>121.0</td>\n",
       "      <td>33.0</td>\n",
       "      <td>2</td>\n",
       "      <td>0.0</td>\n",
       "      <td>0.0</td>\n",
       "      <td>0.0</td>\n",
       "      <td>crosspost</td>\n",
       "      <td>Yes</td>\n",
       "      <td>0</td>\n",
       "      <td>337525</td>\n",
       "    </tr>\n",
       "    <tr>\n",
       "      <th>...</th>\n",
       "      <td>...</td>\n",
       "      <td>...</td>\n",
       "      <td>...</td>\n",
       "      <td>...</td>\n",
       "      <td>...</td>\n",
       "      <td>...</td>\n",
       "      <td>...</td>\n",
       "      <td>...</td>\n",
       "      <td>...</td>\n",
       "      <td>...</td>\n",
       "      <td>...</td>\n",
       "      <td>...</td>\n",
       "      <td>...</td>\n",
       "      <td>...</td>\n",
       "      <td>...</td>\n",
       "    </tr>\n",
       "    <tr>\n",
       "      <th>305351</th>\n",
       "      <td>Link</td>\n",
       "      <td>NaN</td>\n",
       "      <td>1115.0</td>\n",
       "      <td>1393.0</td>\n",
       "      <td>289.0</td>\n",
       "      <td>37.0</td>\n",
       "      <td>148.0</td>\n",
       "      <td>205</td>\n",
       "      <td>589.0</td>\n",
       "      <td>55.0</td>\n",
       "      <td>29.0</td>\n",
       "      <td>NaN</td>\n",
       "      <td>-</td>\n",
       "      <td>0</td>\n",
       "      <td>0</td>\n",
       "    </tr>\n",
       "    <tr>\n",
       "      <th>305354</th>\n",
       "      <td>Video</td>\n",
       "      <td>NaN</td>\n",
       "      <td>136.0</td>\n",
       "      <td>675.0</td>\n",
       "      <td>92.0</td>\n",
       "      <td>3.0</td>\n",
       "      <td>23.0</td>\n",
       "      <td>13</td>\n",
       "      <td>531.0</td>\n",
       "      <td>201.0</td>\n",
       "      <td>9.0</td>\n",
       "      <td>NaN</td>\n",
       "      <td>-</td>\n",
       "      <td>0</td>\n",
       "      <td>0</td>\n",
       "    </tr>\n",
       "    <tr>\n",
       "      <th>305372</th>\n",
       "      <td>Link</td>\n",
       "      <td>NaN</td>\n",
       "      <td>1778.0</td>\n",
       "      <td>1044.0</td>\n",
       "      <td>405.0</td>\n",
       "      <td>35.0</td>\n",
       "      <td>79.0</td>\n",
       "      <td>789</td>\n",
       "      <td>179.0</td>\n",
       "      <td>34.0</td>\n",
       "      <td>23.0</td>\n",
       "      <td>NaN</td>\n",
       "      <td>-</td>\n",
       "      <td>0</td>\n",
       "      <td>0</td>\n",
       "    </tr>\n",
       "    <tr>\n",
       "      <th>305387</th>\n",
       "      <td>Link</td>\n",
       "      <td>NaN</td>\n",
       "      <td>522.0</td>\n",
       "      <td>105.0</td>\n",
       "      <td>54.0</td>\n",
       "      <td>2.0</td>\n",
       "      <td>67.0</td>\n",
       "      <td>13</td>\n",
       "      <td>241.0</td>\n",
       "      <td>2.0</td>\n",
       "      <td>13.0</td>\n",
       "      <td>NaN</td>\n",
       "      <td>-</td>\n",
       "      <td>0</td>\n",
       "      <td>0</td>\n",
       "    </tr>\n",
       "    <tr>\n",
       "      <th>305400</th>\n",
       "      <td>Photo</td>\n",
       "      <td>NaN</td>\n",
       "      <td>806.0</td>\n",
       "      <td>14.0</td>\n",
       "      <td>130.0</td>\n",
       "      <td>137.0</td>\n",
       "      <td>11.0</td>\n",
       "      <td>0</td>\n",
       "      <td>0.0</td>\n",
       "      <td>0.0</td>\n",
       "      <td>6.0</td>\n",
       "      <td>NaN</td>\n",
       "      <td>-</td>\n",
       "      <td>0</td>\n",
       "      <td>0</td>\n",
       "    </tr>\n",
       "  </tbody>\n",
       "</table>\n",
       "<p>16716 rows × 15 columns</p>\n",
       "</div>"
      ],
      "text/plain": [
       "                Type  Total.Interactions   Likes  Comments  Shares   Love  \\\n",
       "9       Native Video                 NaN   922.0      57.0   593.0   23.0   \n",
       "13      Native Video                 NaN  1864.0     145.0  1366.0   55.0   \n",
       "14      Native Video                 NaN  1972.0     292.0  2616.0   87.0   \n",
       "19      Native Video                 NaN   987.0      56.0   583.0   41.0   \n",
       "22      Native Video                 NaN  2773.0     481.0  1888.0  121.0   \n",
       "...              ...                 ...     ...       ...     ...    ...   \n",
       "305351          Link                 NaN  1115.0    1393.0   289.0   37.0   \n",
       "305354         Video                 NaN   136.0     675.0    92.0    3.0   \n",
       "305372          Link                 NaN  1778.0    1044.0   405.0   35.0   \n",
       "305387          Link                 NaN   522.0     105.0    54.0    2.0   \n",
       "305400         Photo                 NaN   806.0      14.0   130.0  137.0   \n",
       "\n",
       "          Wow Haha    Sad  Angry  Care Video.Share.Status Is.Video.Owner.  \\\n",
       "9         1.0    0    0.0    1.0   0.0              owned             Yes   \n",
       "13       11.0    2    0.0    1.0   0.0              owned             Yes   \n",
       "14       26.0    0    0.0    0.0   0.0              owned             Yes   \n",
       "19       14.0    2    1.0    0.0   0.0          crosspost             Yes   \n",
       "22       33.0    2    0.0    0.0   0.0          crosspost             Yes   \n",
       "...       ...  ...    ...    ...   ...                ...             ...   \n",
       "305351  148.0  205  589.0   55.0  29.0                NaN               -   \n",
       "305354   23.0   13  531.0  201.0   9.0                NaN               -   \n",
       "305372   79.0  789  179.0   34.0  23.0                NaN               -   \n",
       "305387   67.0   13  241.0    2.0  13.0                NaN               -   \n",
       "305400   11.0    0    0.0    0.0   6.0                NaN               -   \n",
       "\n",
       "       Post.Views Total.Views  \n",
       "9               0      160065  \n",
       "13              0      249706  \n",
       "14              0      263340  \n",
       "19              0      100209  \n",
       "22              0      337525  \n",
       "...           ...         ...  \n",
       "305351          0           0  \n",
       "305354          0           0  \n",
       "305372          0           0  \n",
       "305387          0           0  \n",
       "305400          0           0  \n",
       "\n",
       "[16716 rows x 15 columns]"
      ]
     },
     "execution_count": 21,
     "metadata": {},
     "output_type": "execute_result"
    }
   ],
   "source": [
    "cdf_data.loc[cdf_data['Total.Interactions'].isnull(),].iloc[:,10:25]"
   ]
  },
  {
   "cell_type": "markdown",
   "id": "c8c960b1-1606-48ab-959f-1ca0fa3c9dfc",
   "metadata": {},
   "source": [
    "Check definition of interations."
   ]
  },
  {
   "cell_type": "code",
   "execution_count": 22,
   "id": "f16b6122-f778-4d55-bb0b-147ee38a6262",
   "metadata": {},
   "outputs": [],
   "source": [
    "subset_notnull_cdf = cdf_data.loc[~cdf_data['Total.Interactions'].isnull(),:]"
   ]
  },
  {
   "cell_type": "code",
   "execution_count": 23,
   "id": "7c4aab23-bf02-496b-bfe1-363faa1c4218",
   "metadata": {},
   "outputs": [
    {
     "name": "stderr",
     "output_type": "stream",
     "text": [
      "/opt/conda/lib/python3.7/site-packages/ipykernel_launcher.py:1: SettingWithCopyWarning: \n",
      "A value is trying to be set on a copy of a slice from a DataFrame.\n",
      "Try using .loc[row_indexer,col_indexer] = value instead\n",
      "\n",
      "See the caveats in the documentation: https://pandas.pydata.org/pandas-docs/stable/user_guide/indexing.html#returning-a-view-versus-a-copy\n",
      "  \"\"\"Entry point for launching an IPython kernel.\n",
      "/opt/conda/lib/python3.7/site-packages/pandas/core/frame.py:3641: SettingWithCopyWarning: \n",
      "A value is trying to be set on a copy of a slice from a DataFrame.\n",
      "Try using .loc[row_indexer,col_indexer] = value instead\n",
      "\n",
      "See the caveats in the documentation: https://pandas.pydata.org/pandas-docs/stable/user_guide/indexing.html#returning-a-view-versus-a-copy\n",
      "  self[k1] = value[k2]\n"
     ]
    }
   ],
   "source": [
    "subset_notnull_cdf['Total.Interactions'] = subset_notnull_cdf['Total.Interactions'].fillna(0).astype(int)\n",
    "subset_notnull_cdf[['Likes','Comments','Shares','Love','Wow','Haha','Sad','Angry','Care']] = subset_notnull_cdf[['Likes','Comments','Shares','Love','Wow','Haha','Sad','Angry','Care']].fillna(0).astype(int)"
   ]
  },
  {
   "cell_type": "code",
   "execution_count": 24,
   "id": "1d2aacb4-38d9-4dfc-ac0a-b8341336f4b7",
   "metadata": {},
   "outputs": [],
   "source": [
    "c = np.where(subset_notnull_cdf[['Likes','Comments','Shares','Love','Wow','Haha','Sad','Angry','Care']]\n",
    "      .sum(axis=1) == subset_notnull_cdf['Total.Interactions'], 0, 1)"
   ]
  },
  {
   "cell_type": "code",
   "execution_count": 25,
   "id": "92e28728-2c9e-4885-9b60-cd0e383f8446",
   "metadata": {},
   "outputs": [
    {
     "data": {
      "text/plain": [
       "0"
      ]
     },
     "execution_count": 25,
     "metadata": {},
     "output_type": "execute_result"
    }
   ],
   "source": [
    "c.sum()"
   ]
  },
  {
   "cell_type": "markdown",
   "id": "c7535a68-0129-459a-a6b5-40ef6312b839",
   "metadata": {},
   "source": [
    "With current data set, we can constract values to fill in NAs in this column."
   ]
  },
  {
   "cell_type": "code",
   "execution_count": 26,
   "id": "dc8ed117-f853-4a46-babc-b957d8ca71f8",
   "metadata": {},
   "outputs": [
    {
     "name": "stderr",
     "output_type": "stream",
     "text": [
      "/opt/conda/lib/python3.7/site-packages/ipykernel_launcher.py:1: FutureWarning: Dropping of nuisance columns in DataFrame reductions (with 'numeric_only=None') is deprecated; in a future version this will raise TypeError.  Select only valid columns before calling the reduction.\n",
      "  \"\"\"Entry point for launching an IPython kernel.\n"
     ]
    }
   ],
   "source": [
    "cdf_data['Total.Interactions'] = cdf_data['Total.Interactions'].fillna(cdf_data[['Likes','Comments','Shares','Love','Wow','Haha','Sad','Angry','Care']].sum(axis=1))\n"
   ]
  },
  {
   "cell_type": "markdown",
   "id": "9ab3ea1a-32cc-4e70-a1e1-f0ce57241fb9",
   "metadata": {},
   "source": [
    "### Views and cross post views"
   ]
  },
  {
   "cell_type": "code",
   "execution_count": 27,
   "id": "bf5923fb-b3c7-4825-8a53-302c50a70784",
   "metadata": {},
   "outputs": [],
   "source": [
    "cdf_data.loc[:,'Post.Views'] = pd.to_numeric(cdf_data['Post.Views'])"
   ]
  },
  {
   "cell_type": "code",
   "execution_count": 28,
   "id": "c7bb786a-033f-4e03-97ff-c10985fe5fbd",
   "metadata": {},
   "outputs": [],
   "source": [
    "cdf_data.loc[:,'Total.Views'] = pd.to_numeric(cdf_data['Total.Views'])"
   ]
  },
  {
   "cell_type": "markdown",
   "id": "ad87f25d-6e04-48dd-bf8e-0f9334ce1dda",
   "metadata": {},
   "source": [
    "### Sponsor ID"
   ]
  },
  {
   "cell_type": "code",
   "execution_count": 29,
   "id": "00edd294-b5e7-4528-a1d6-f0d84ba52d09",
   "metadata": {},
   "outputs": [],
   "source": [
    "cdf_data.loc[:,'Sponsor.Id'] = cdf_data['Sponsor.Id'].astype('str')"
   ]
  },
  {
   "cell_type": "markdown",
   "id": "35f8df69-2626-4adf-8278-9ecb21dd6ad7",
   "metadata": {},
   "source": [
    "### Dash"
   ]
  },
  {
   "cell_type": "code",
   "execution_count": 30,
   "id": "c4bcfdb1-6231-41a1-91a2-1edc2081d90f",
   "metadata": {},
   "outputs": [],
   "source": [
    "cdf_data.loc[:,'Dash'] = cdf_data['Dash'].astype('float')"
   ]
  },
  {
   "cell_type": "markdown",
   "id": "e0e334f6-9b0e-4a7e-aa57-3aada98927f2",
   "metadata": {},
   "source": [
    "### Likes at posting"
   ]
  },
  {
   "cell_type": "code",
   "execution_count": 31,
   "id": "bd1ccc94-cbe1-45d7-b3f0-9368cd36040b",
   "metadata": {},
   "outputs": [],
   "source": [
    "cdf_data['Likes.at.Posting'] = cdf_data['Likes.at.Posting'].astype('int64')"
   ]
  },
  {
   "cell_type": "markdown",
   "id": "dfb2f7fd-4762-4e01-b131-dc41f38e3e6e",
   "metadata": {},
   "source": [
    "### Reaction: Haha"
   ]
  },
  {
   "cell_type": "code",
   "execution_count": 32,
   "id": "834d959f-bf47-4989-8cb8-4239345ae5a0",
   "metadata": {},
   "outputs": [],
   "source": [
    "cdf_data['Haha'] = cdf_data['Haha'].astype('int64')"
   ]
  },
  {
   "cell_type": "markdown",
   "id": "1a03d9d6-c581-4a77-9f5e-5a4abf06a9a8",
   "metadata": {},
   "source": [
    "### Video.Length"
   ]
  },
  {
   "cell_type": "code",
   "execution_count": 33,
   "id": "5c2e4a35-b521-47cd-8539-d5b51896632d",
   "metadata": {},
   "outputs": [
    {
     "data": {
      "text/html": [
       "<div>\n",
       "<style scoped>\n",
       "    .dataframe tbody tr th:only-of-type {\n",
       "        vertical-align: middle;\n",
       "    }\n",
       "\n",
       "    .dataframe tbody tr th {\n",
       "        vertical-align: top;\n",
       "    }\n",
       "\n",
       "    .dataframe thead th {\n",
       "        text-align: right;\n",
       "    }\n",
       "</style>\n",
       "<table border=\"1\" class=\"dataframe\">\n",
       "  <thead>\n",
       "    <tr style=\"text-align: right;\">\n",
       "      <th></th>\n",
       "      <th>Page.Name</th>\n",
       "      <th>User.Name</th>\n",
       "      <th>Facebook.Id</th>\n",
       "      <th>Page.Category</th>\n",
       "      <th>Page.Admin.Top.Country</th>\n",
       "      <th>Page.Description</th>\n",
       "      <th>Page.Created</th>\n",
       "      <th>Likes.at.Posting</th>\n",
       "      <th>Followers.at.Posting</th>\n",
       "      <th>Post.Created</th>\n",
       "      <th>...</th>\n",
       "      <th>Colon</th>\n",
       "      <th>SemiC</th>\n",
       "      <th>QMark</th>\n",
       "      <th>Exclam</th>\n",
       "      <th>Dash</th>\n",
       "      <th>Quote</th>\n",
       "      <th>Apostro</th>\n",
       "      <th>Parenth</th>\n",
       "      <th>OtherP</th>\n",
       "      <th>train_test</th>\n",
       "    </tr>\n",
       "  </thead>\n",
       "  <tbody>\n",
       "  </tbody>\n",
       "</table>\n",
       "<p>0 rows × 131 columns</p>\n",
       "</div>"
      ],
      "text/plain": [
       "Empty DataFrame\n",
       "Columns: [Page.Name, User.Name, Facebook.Id, Page.Category, Page.Admin.Top.Country, Page.Description, Page.Created, Likes.at.Posting, Followers.at.Posting, Post.Created, Type, Total.Interactions, Likes, Comments, Shares, Love, Wow, Haha, Sad, Angry, Care, Video.Share.Status, Is.Video.Owner., Post.Views, Total.Views, Total.Views.For.All.Crossposts, Video.Length, URL, Message, Link, Final.Link, Image.Text, Link.Text, Description, Sponsor.Id, Sponsor.Name, Sponsor.Category, WC, Analytic, Clout, Authentic, Tone, WPS, Sixltr, Dic, fnctn, pronoun, ppron, i, we, you, shehe, they, ipron, article, prep, auxverb, adverb, conj, negate, verb, adj, compare, interrog, number, quant, affect, posemo, negemo, anx, anger, sad, social, family, friend, female, male, cogproc, insight, cause, discrep, tentat, certain, differ, percept, see, hear, feel, bio, body, health, sexual, ingest, drives, affiliation, achieve, power, reward, risk, focuspast, ...]\n",
       "Index: []\n",
       "\n",
       "[0 rows x 131 columns]"
      ]
     },
     "execution_count": 33,
     "metadata": {},
     "output_type": "execute_result"
    }
   ],
   "source": [
    "cdf_data.loc[~cdf_data['Video.Length'].isnull(),:]"
   ]
  },
  {
   "cell_type": "markdown",
   "id": "e9dcb488-ee11-4562-93d8-88d314d90ff9",
   "metadata": {},
   "source": [
    "Consider dropping Video.Length"
   ]
  },
  {
   "cell_type": "markdown",
   "id": "1aa9bd41-0375-4056-89f4-384ddbf9ff30",
   "metadata": {},
   "source": [
    "## Drop unary column and IDs"
   ]
  },
  {
   "cell_type": "code",
   "execution_count": 34,
   "id": "d793b676-9d20-4607-a8a8-ec39b3fe13c2",
   "metadata": {},
   "outputs": [],
   "source": [
    "cdf_data = cdf_data.drop(['Page.Admin.Top.Country', 'Facebook.Id', 'Video.Length','Sponsor.Id','train_test'], axis=1)"
   ]
  },
  {
   "cell_type": "code",
   "execution_count": 35,
   "id": "13f86e04-f979-46c2-8c88-a8f3286c1f43",
   "metadata": {},
   "outputs": [
    {
     "data": {
      "text/plain": [
       "Page.Name                               object\n",
       "User.Name                               object\n",
       "Page.Category                           object\n",
       "Page.Description                        object\n",
       "Page.Created        datetime64[ns, US/Eastern]\n",
       "                               ...            \n",
       "Dash                                   float64\n",
       "Quote                                  float64\n",
       "Apostro                                float64\n",
       "Parenth                                float64\n",
       "OtherP                                 float64\n",
       "Length: 126, dtype: object"
      ]
     },
     "execution_count": 35,
     "metadata": {},
     "output_type": "execute_result"
    }
   ],
   "source": [
    "cdf_data.dtypes"
   ]
  },
  {
   "cell_type": "markdown",
   "id": "5a23f7c7-d6be-4e8c-8e27-d6e7ec24add5",
   "metadata": {},
   "source": [
    "## Datetime encoding"
   ]
  },
  {
   "cell_type": "markdown",
   "id": "7ff3ee8e-cbba-4059-aa8a-1b03e776b176",
   "metadata": {},
   "source": [
    "### Days since page created"
   ]
  },
  {
   "cell_type": "code",
   "execution_count": 36,
   "id": "4933c5e4-4dcc-453b-a95a-e1910adf7f9b",
   "metadata": {},
   "outputs": [],
   "source": [
    "benchmark_timezone = pytz.timezone('US/Eastern')\n",
    "benchmark_date = datetime.strptime('2021-02-20','%Y-%m-%d')\n",
    "benchmark_date_local = benchmark_timezone.localize(benchmark_date)\n",
    "cdf_data['PageSinceCreated'] =  (benchmark_date_local - cdf_data['Page.Created']).dt.days"
   ]
  },
  {
   "cell_type": "markdown",
   "id": "737a870d-7e30-422c-b63b-0572fc0c2f6a",
   "metadata": {},
   "source": [
    "### Datetime encoding - extract year, month, day and hour"
   ]
  },
  {
   "cell_type": "code",
   "execution_count": 37,
   "id": "425d689c-7310-46f9-b083-353c2d17dc37",
   "metadata": {},
   "outputs": [],
   "source": [
    "cdf_data['PageCreatedYear'] = pd.DatetimeIndex(cdf_data['Page.Created']).year\n",
    "cdf_data['PageCreatedMonth'] = pd.DatetimeIndex(cdf_data['Page.Created']).month\n",
    "cdf_data['PageCreatedDay'] = pd.DatetimeIndex(cdf_data['Page.Created']).weekday\n",
    "cdf_data['PageCreatedHour'] = pd.DatetimeIndex(cdf_data['Page.Created']).hour"
   ]
  },
  {
   "cell_type": "code",
   "execution_count": 38,
   "id": "03119d9f-6c8e-4ceb-8596-3205016eff67",
   "metadata": {},
   "outputs": [],
   "source": [
    "cdf_data['PostCreatedYear'] = pd.DatetimeIndex(cdf_data['Post.Created']).year\n",
    "cdf_data['PostCreatedMonth'] = pd.DatetimeIndex(cdf_data['Post.Created']).month\n",
    "cdf_data['PostCreatedday'] = pd.DatetimeIndex(cdf_data['Post.Created']).weekday\n",
    "cdf_data['PostCreatedHour'] = pd.DatetimeIndex(cdf_data['Post.Created']).hour"
   ]
  },
  {
   "cell_type": "code",
   "execution_count": 39,
   "id": "e9ab2ee4-0b72-4121-9355-2fe839fd7331",
   "metadata": {},
   "outputs": [],
   "source": [
    "#cdf_data = cdf_data.drop(['Post.Created','Page.Created'], axis=1)"
   ]
  },
  {
   "cell_type": "markdown",
   "id": "6a81eeba-c3d9-475e-845b-794c44473714",
   "metadata": {},
   "source": [
    "## Drop duplicates data records"
   ]
  },
  {
   "cell_type": "code",
   "execution_count": 40,
   "id": "3c585170-8cab-4b13-9d46-546dd33752d8",
   "metadata": {},
   "outputs": [],
   "source": [
    "cdf_data = cdf_data.drop_duplicates()"
   ]
  },
  {
   "cell_type": "markdown",
   "id": "976c0137-1b60-4872-b619-5dd5fe1ce4fe",
   "metadata": {},
   "source": [
    "## Data profiling "
   ]
  },
  {
   "cell_type": "code",
   "execution_count": 41,
   "id": "ff54528a-57b3-4970-a359-8024676900cd",
   "metadata": {},
   "outputs": [
    {
     "data": {
      "application/vnd.jupyter.widget-view+json": {
       "model_id": "2c0ebe40421242ecae8bd85bdd43e842",
       "version_major": 2,
       "version_minor": 0
      },
      "text/plain": [
       "Summarize dataset:   0%|          | 0/5 [00:00<?, ?it/s]"
      ]
     },
     "metadata": {},
     "output_type": "display_data"
    },
    {
     "name": "stderr",
     "output_type": "stream",
     "text": [
      "/opt/conda/lib/python3.7/site-packages/pandas/core/series.py:1442: PerformanceWarning: DataFrame is highly fragmented.  This is usually the result of calling `frame.insert` many times, which has poor performance.  Consider joining all columns at once using pd.concat(axis=1) instead.  To get a de-fragmented frame, use `newframe = frame.copy()`\n",
      "  return df.reset_index(level=level, drop=drop)\n"
     ]
    },
    {
     "data": {
      "application/vnd.jupyter.widget-view+json": {
       "model_id": "7951b63c28544d2baddee26744decc5c",
       "version_major": 2,
       "version_minor": 0
      },
      "text/plain": [
       "Generate report structure:   0%|          | 0/1 [00:00<?, ?it/s]"
      ]
     },
     "metadata": {},
     "output_type": "display_data"
    },
    {
     "data": {
      "application/vnd.jupyter.widget-view+json": {
       "model_id": "46b5dcbbfe6b49d5805fa832029e814f",
       "version_major": 2,
       "version_minor": 0
      },
      "text/plain": [
       "Render HTML:   0%|          | 0/1 [00:00<?, ?it/s]"
      ]
     },
     "metadata": {},
     "output_type": "display_data"
    },
    {
     "data": {
      "application/vnd.jupyter.widget-view+json": {
       "model_id": "c0e4c957f9c1469094ddde8ff36cf649",
       "version_major": 2,
       "version_minor": 0
      },
      "text/plain": [
       "Export report to file:   0%|          | 0/1 [00:00<?, ?it/s]"
      ]
     },
     "metadata": {},
     "output_type": "display_data"
    }
   ],
   "source": [
    "profile = ProfileReport(cdf_data, title=\"Pandas Profiling Report\", correlations=None, interactions={'continuous': False}, explorative=False)\n",
    "profile.to_file(output_file=\"data_report.html\")"
   ]
  },
  {
   "cell_type": "markdown",
   "id": "748a5d80-3c96-4131-ad35-e857301ec1e6",
   "metadata": {},
   "source": [
    "## Check point: full clean data"
   ]
  },
  {
   "cell_type": "code",
   "execution_count": 42,
   "id": "01c09a93-308f-4b79-87f5-f3ad2e9b6927",
   "metadata": {},
   "outputs": [],
   "source": [
    "cdf_data.to_csv('clean_cdf_data_full.csv',index = False)"
   ]
  },
  {
   "cell_type": "code",
   "execution_count": 43,
   "id": "a55180fa-1888-4cd3-84b7-180540e1220f",
   "metadata": {},
   "outputs": [
    {
     "data": {
      "text/plain": [
       "(212787, 135)"
      ]
     },
     "execution_count": 43,
     "metadata": {},
     "output_type": "execute_result"
    }
   ],
   "source": [
    "cdf_data.shape"
   ]
  },
  {
   "cell_type": "code",
   "execution_count": null,
   "id": "0a67ad4b-b504-4e88-b763-560ebbfe9056",
   "metadata": {},
   "outputs": [],
   "source": [
    "cdf_data_clean = cdf_data"
   ]
  },
  {
   "cell_type": "markdown",
   "id": "2df0e57b-64a3-4621-bd9d-d6ead8d3d618",
   "metadata": {},
   "source": [
    "# Preprocessing"
   ]
  },
  {
   "cell_type": "code",
   "execution_count": 3,
   "id": "0726071d-197d-4af3-9af6-ac7d24f50aaa",
   "metadata": {},
   "outputs": [
    {
     "name": "stderr",
     "output_type": "stream",
     "text": [
      "/opt/conda/lib/python3.7/site-packages/IPython/core/interactiveshell.py:3457: DtypeWarning: Columns (31,32) have mixed types.Specify dtype option on import or set low_memory=False.\n",
      "  exec(code_obj, self.user_global_ns, self.user_ns)\n"
     ]
    }
   ],
   "source": [
    "cdf_data_clean = pd.read_csv('clean_cdf_data_full.csv')"
   ]
  },
  {
   "cell_type": "code",
   "execution_count": 103,
   "id": "32eb3077-cc24-47d9-a51e-8504e0c2987a",
   "metadata": {},
   "outputs": [],
   "source": [
    "pd.DataFrame(cdf_data_clean.dtypes).to_csv('clean_data_type_list.csv')"
   ]
  },
  {
   "cell_type": "markdown",
   "id": "02e9a593-73e4-42bb-bbec-d35efb9e4690",
   "metadata": {},
   "source": [
    "## Fill in null values: Followers.at.Posting"
   ]
  },
  {
   "cell_type": "code",
   "execution_count": 104,
   "id": "8dbab1aa-ea16-4638-a0cc-3dafbcdef5c9",
   "metadata": {},
   "outputs": [
    {
     "data": {
      "text/plain": [
       "<AxesSubplot:xlabel='Post.Created'>"
      ]
     },
     "execution_count": 104,
     "metadata": {},
     "output_type": "execute_result"
    },
    {
     "data": {
      "image/png": "[encoded data removed]",
      "text/plain": [
       "<Figure size 432x288 with 1 Axes>"
      ]
     },
     "metadata": {
      "needs_background": "light"
     },
     "output_type": "display_data"
    }
   ],
   "source": [
    "%matplotlib inline\n",
    "ABC10_data = cdf_data_clean.loc[cdf_data_clean['Page.Name']=='ABC10',['Followers.at.Posting','Post.Created']]\n",
    "ABC10_data['Post.Created'] = pd.to_datetime(ABC10_data['Post.Created'])\n",
    "#ABC10_data['Post.Created'] = pd.DatetimeIndex(ABC10_data['Post.Created'])\n",
    "ABC10_data = ABC10_data.set_index('Post.Created')\n",
    "ABC10_data.plot()"
   ]
  },
  {
   "cell_type": "markdown",
   "id": "9a49b81b-3c04-4b36-997c-7ee6392e5c9d",
   "metadata": {},
   "source": [
    "For each page, we estimate the number of followers using a linear regression based on time series (time when the post was posted)"
   ]
  },
  {
   "cell_type": "markdown",
   "id": "ad1a8dde-6da4-43cc-a222-0766d3c397c8",
   "metadata": {},
   "source": [
    "### Imputation: Linear Regression"
   ]
  },
  {
   "cell_type": "code",
   "execution_count": 4,
   "id": "749edba6-5084-4eb8-8b1b-43c9c95370e4",
   "metadata": {},
   "outputs": [],
   "source": [
    "cdf_data_clean['Post.Created'] = pd.to_datetime(cdf_data_clean['Post.Created'])"
   ]
  },
  {
   "cell_type": "code",
   "execution_count": 5,
   "id": "a8453f72-6612-4746-8bef-4baf6eca31c1",
   "metadata": {},
   "outputs": [],
   "source": [
    "def imput_followers_at_posting(data):\n",
    "    pages = np.unique(data['Page.Name'])\n",
    "    df = pd.DataFrame(columns = data.columns)\n",
    "    for page in pages:\n",
    "        #print(\"Proceeding page:\",page)\n",
    "        page_data = data[data['Page.Name']==page].sort_values(by='Post.Created')\n",
    "        x = np.arange(page_data['Post.Created'].size)\n",
    "        page_data['x'] = x\n",
    "        na_page = page_data[page_data['Followers.at.Posting'].isnull()==True]\n",
    "        non_na_page = page_data[page_data['Followers.at.Posting'].isnull()==False]\n",
    "        if na_page.shape[0] > 0:\n",
    "            if non_na_page.shape[0] > 0:\n",
    "                fit = np.polyfit(non_na_page['x'], non_na_page['Followers.at.Posting'], deg=1)\n",
    "                fit_function = np.poly1d(fit)\n",
    "                prediction = fit_function(na_page['x'])\n",
    "                imputed = np.where(prediction<0,0,prediction)\n",
    "                #print(prediction)\n",
    "                na_page['Followers.at.Posting'] = imputed\n",
    "                proceeded_data = pd.concat([non_na_page,na_page]).drop('x', axis=1)\n",
    "            else:\n",
    "                # page was too old, impute from median followers in the same year(s)\n",
    "                years = np.unique(na_page['PostCreatedYear'])\n",
    "                year_median = data[data['PostCreatedYear'].isin(years)]['Followers.at.Posting'].median()\n",
    "                na_page['Followers.at.Posting'] = year_median\n",
    "                if na_page['Followers.at.Posting'].isnull().sum()>0:\n",
    "                    na_page['Followers.at.Posting'] = data['Followers.at.Posting'].median()\n",
    "                proceeded_data = na_page\n",
    "        else:\n",
    "            proceeded_data = non_na_page\n",
    "        page_data = page_data.drop('x', axis=1)\n",
    "        df = pd.concat([df,proceeded_data])\n",
    "    return df"
   ]
  },
  {
   "cell_type": "code",
   "execution_count": 6,
   "id": "ec093bba-f0d3-4e86-82f2-91e9f7175776",
   "metadata": {},
   "outputs": [
    {
     "name": "stderr",
     "output_type": "stream",
     "text": [
      "/opt/conda/lib/python3.7/site-packages/ipykernel_launcher.py:18: SettingWithCopyWarning: \n",
      "A value is trying to be set on a copy of a slice from a DataFrame.\n",
      "Try using .loc[row_indexer,col_indexer] = value instead\n",
      "\n",
      "See the caveats in the documentation: https://pandas.pydata.org/pandas-docs/stable/user_guide/indexing.html#returning-a-view-versus-a-copy\n",
      "/opt/conda/lib/python3.7/site-packages/numpy/lib/nanfunctions.py:1111: RuntimeWarning: Mean of empty slice\n",
      "  return np.nanmean(a, axis, out=out, keepdims=keepdims)\n",
      "/opt/conda/lib/python3.7/site-packages/ipykernel_launcher.py:18: SettingWithCopyWarning: \n",
      "A value is trying to be set on a copy of a slice from a DataFrame.\n",
      "Try using .loc[row_indexer,col_indexer] = value instead\n",
      "\n",
      "See the caveats in the documentation: https://pandas.pydata.org/pandas-docs/stable/user_guide/indexing.html#returning-a-view-versus-a-copy\n",
      "/opt/conda/lib/python3.7/site-packages/ipykernel_launcher.py:18: SettingWithCopyWarning: \n",
      "A value is trying to be set on a copy of a slice from a DataFrame.\n",
      "Try using .loc[row_indexer,col_indexer] = value instead\n",
      "\n",
      "See the caveats in the documentation: https://pandas.pydata.org/pandas-docs/stable/user_guide/indexing.html#returning-a-view-versus-a-copy\n",
      "/opt/conda/lib/python3.7/site-packages/numpy/lib/nanfunctions.py:1111: RuntimeWarning: Mean of empty slice\n",
      "  return np.nanmean(a, axis, out=out, keepdims=keepdims)\n",
      "/opt/conda/lib/python3.7/site-packages/numpy/lib/nanfunctions.py:1111: RuntimeWarning: Mean of empty slice\n",
      "  return np.nanmean(a, axis, out=out, keepdims=keepdims)\n",
      "/opt/conda/lib/python3.7/site-packages/ipykernel_launcher.py:18: SettingWithCopyWarning: \n",
      "A value is trying to be set on a copy of a slice from a DataFrame.\n",
      "Try using .loc[row_indexer,col_indexer] = value instead\n",
      "\n",
      "See the caveats in the documentation: https://pandas.pydata.org/pandas-docs/stable/user_guide/indexing.html#returning-a-view-versus-a-copy\n",
      "/opt/conda/lib/python3.7/site-packages/ipykernel_launcher.py:18: SettingWithCopyWarning: \n",
      "A value is trying to be set on a copy of a slice from a DataFrame.\n",
      "Try using .loc[row_indexer,col_indexer] = value instead\n",
      "\n",
      "See the caveats in the documentation: https://pandas.pydata.org/pandas-docs/stable/user_guide/indexing.html#returning-a-view-versus-a-copy\n",
      "/opt/conda/lib/python3.7/site-packages/ipykernel_launcher.py:18: SettingWithCopyWarning: \n",
      "A value is trying to be set on a copy of a slice from a DataFrame.\n",
      "Try using .loc[row_indexer,col_indexer] = value instead\n",
      "\n",
      "See the caveats in the documentation: https://pandas.pydata.org/pandas-docs/stable/user_guide/indexing.html#returning-a-view-versus-a-copy\n",
      "/opt/conda/lib/python3.7/site-packages/ipykernel_launcher.py:18: SettingWithCopyWarning: \n",
      "A value is trying to be set on a copy of a slice from a DataFrame.\n",
      "Try using .loc[row_indexer,col_indexer] = value instead\n",
      "\n",
      "See the caveats in the documentation: https://pandas.pydata.org/pandas-docs/stable/user_guide/indexing.html#returning-a-view-versus-a-copy\n",
      "/opt/conda/lib/python3.7/site-packages/ipykernel_launcher.py:18: SettingWithCopyWarning: \n",
      "A value is trying to be set on a copy of a slice from a DataFrame.\n",
      "Try using .loc[row_indexer,col_indexer] = value instead\n",
      "\n",
      "See the caveats in the documentation: https://pandas.pydata.org/pandas-docs/stable/user_guide/indexing.html#returning-a-view-versus-a-copy\n",
      "/opt/conda/lib/python3.7/site-packages/ipykernel_launcher.py:18: SettingWithCopyWarning: \n",
      "A value is trying to be set on a copy of a slice from a DataFrame.\n",
      "Try using .loc[row_indexer,col_indexer] = value instead\n",
      "\n",
      "See the caveats in the documentation: https://pandas.pydata.org/pandas-docs/stable/user_guide/indexing.html#returning-a-view-versus-a-copy\n",
      "/opt/conda/lib/python3.7/site-packages/ipykernel_launcher.py:18: SettingWithCopyWarning: \n",
      "A value is trying to be set on a copy of a slice from a DataFrame.\n",
      "Try using .loc[row_indexer,col_indexer] = value instead\n",
      "\n",
      "See the caveats in the documentation: https://pandas.pydata.org/pandas-docs/stable/user_guide/indexing.html#returning-a-view-versus-a-copy\n",
      "/opt/conda/lib/python3.7/site-packages/ipykernel_launcher.py:18: SettingWithCopyWarning: \n",
      "A value is trying to be set on a copy of a slice from a DataFrame.\n",
      "Try using .loc[row_indexer,col_indexer] = value instead\n",
      "\n",
      "See the caveats in the documentation: https://pandas.pydata.org/pandas-docs/stable/user_guide/indexing.html#returning-a-view-versus-a-copy\n",
      "/opt/conda/lib/python3.7/site-packages/ipykernel_launcher.py:18: SettingWithCopyWarning: \n",
      "A value is trying to be set on a copy of a slice from a DataFrame.\n",
      "Try using .loc[row_indexer,col_indexer] = value instead\n",
      "\n",
      "See the caveats in the documentation: https://pandas.pydata.org/pandas-docs/stable/user_guide/indexing.html#returning-a-view-versus-a-copy\n",
      "/opt/conda/lib/python3.7/site-packages/ipykernel_launcher.py:18: SettingWithCopyWarning: \n",
      "A value is trying to be set on a copy of a slice from a DataFrame.\n",
      "Try using .loc[row_indexer,col_indexer] = value instead\n",
      "\n",
      "See the caveats in the documentation: https://pandas.pydata.org/pandas-docs/stable/user_guide/indexing.html#returning-a-view-versus-a-copy\n",
      "/opt/conda/lib/python3.7/site-packages/numpy/lib/nanfunctions.py:1111: RuntimeWarning: Mean of empty slice\n",
      "  return np.nanmean(a, axis, out=out, keepdims=keepdims)\n",
      "/opt/conda/lib/python3.7/site-packages/ipykernel_launcher.py:18: SettingWithCopyWarning: \n",
      "A value is trying to be set on a copy of a slice from a DataFrame.\n",
      "Try using .loc[row_indexer,col_indexer] = value instead\n",
      "\n",
      "See the caveats in the documentation: https://pandas.pydata.org/pandas-docs/stable/user_guide/indexing.html#returning-a-view-versus-a-copy\n",
      "/opt/conda/lib/python3.7/site-packages/ipykernel_launcher.py:18: SettingWithCopyWarning: \n",
      "A value is trying to be set on a copy of a slice from a DataFrame.\n",
      "Try using .loc[row_indexer,col_indexer] = value instead\n",
      "\n",
      "See the caveats in the documentation: https://pandas.pydata.org/pandas-docs/stable/user_guide/indexing.html#returning-a-view-versus-a-copy\n",
      "/opt/conda/lib/python3.7/site-packages/ipykernel_launcher.py:18: SettingWithCopyWarning: \n",
      "A value is trying to be set on a copy of a slice from a DataFrame.\n",
      "Try using .loc[row_indexer,col_indexer] = value instead\n",
      "\n",
      "See the caveats in the documentation: https://pandas.pydata.org/pandas-docs/stable/user_guide/indexing.html#returning-a-view-versus-a-copy\n",
      "/opt/conda/lib/python3.7/site-packages/ipykernel_launcher.py:1: RankWarning: Polyfit may be poorly conditioned\n",
      "  \"\"\"Entry point for launching an IPython kernel.\n",
      "/opt/conda/lib/python3.7/site-packages/ipykernel_launcher.py:18: SettingWithCopyWarning: \n",
      "A value is trying to be set on a copy of a slice from a DataFrame.\n",
      "Try using .loc[row_indexer,col_indexer] = value instead\n",
      "\n",
      "See the caveats in the documentation: https://pandas.pydata.org/pandas-docs/stable/user_guide/indexing.html#returning-a-view-versus-a-copy\n",
      "/opt/conda/lib/python3.7/site-packages/numpy/lib/nanfunctions.py:1111: RuntimeWarning: Mean of empty slice\n",
      "  return np.nanmean(a, axis, out=out, keepdims=keepdims)\n",
      "/opt/conda/lib/python3.7/site-packages/ipykernel_launcher.py:18: SettingWithCopyWarning: \n",
      "A value is trying to be set on a copy of a slice from a DataFrame.\n",
      "Try using .loc[row_indexer,col_indexer] = value instead\n",
      "\n",
      "See the caveats in the documentation: https://pandas.pydata.org/pandas-docs/stable/user_guide/indexing.html#returning-a-view-versus-a-copy\n",
      "/opt/conda/lib/python3.7/site-packages/numpy/lib/nanfunctions.py:1111: RuntimeWarning: Mean of empty slice\n",
      "  return np.nanmean(a, axis, out=out, keepdims=keepdims)\n",
      "/opt/conda/lib/python3.7/site-packages/ipykernel_launcher.py:18: SettingWithCopyWarning: \n",
      "A value is trying to be set on a copy of a slice from a DataFrame.\n",
      "Try using .loc[row_indexer,col_indexer] = value instead\n",
      "\n",
      "See the caveats in the documentation: https://pandas.pydata.org/pandas-docs/stable/user_guide/indexing.html#returning-a-view-versus-a-copy\n",
      "/opt/conda/lib/python3.7/site-packages/ipykernel_launcher.py:18: SettingWithCopyWarning: \n",
      "A value is trying to be set on a copy of a slice from a DataFrame.\n",
      "Try using .loc[row_indexer,col_indexer] = value instead\n",
      "\n",
      "See the caveats in the documentation: https://pandas.pydata.org/pandas-docs/stable/user_guide/indexing.html#returning-a-view-versus-a-copy\n"
     ]
    }
   ],
   "source": [
    "imputed_cdf_data = imput_followers_at_posting(cdf_data_clean)"
   ]
  },
  {
   "cell_type": "code",
   "execution_count": 11,
   "id": "c7d09f68-2f94-4dc5-92ec-99cab696f281",
   "metadata": {},
   "outputs": [
    {
     "data": {
      "text/plain": [
       "<AxesSubplot:xlabel='Followers.at.Posting', ylabel='Count'>"
      ]
     },
     "execution_count": 11,
     "metadata": {},
     "output_type": "execute_result"
    },
    {
     "data": {
      "image/png": "[encoded data removed]",
      "text/plain": [
       "<Figure size 432x288 with 1 Axes>"
      ]
     },
     "metadata": {
      "needs_background": "light"
     },
     "output_type": "display_data"
    }
   ],
   "source": [
    "%matplotlib inline\n",
    "sns.histplot(data = imputed_cdf_data,x='Followers.at.Posting')"
   ]
  },
  {
   "cell_type": "markdown",
   "id": "7262806d-8182-41c2-819f-26913be8153f",
   "metadata": {},
   "source": [
    "## Transform message column"
   ]
  },
  {
   "cell_type": "code",
   "execution_count": 109,
   "id": "68932723-15cf-4b71-b9c4-dc0d55947e6c",
   "metadata": {},
   "outputs": [
    {
     "data": {
      "text/plain": [
       "4357"
      ]
     },
     "execution_count": 109,
     "metadata": {},
     "output_type": "execute_result"
    }
   ],
   "source": [
    "imputed_cdf_data['Message'].isnull().sum()"
   ]
  },
  {
   "cell_type": "markdown",
   "id": "37e3c3ca-ae9c-4621-946b-d309d476ff49",
   "metadata": {},
   "source": [
    "### Remove stopwords, tokenized and lemmatization"
   ]
  },
  {
   "cell_type": "code",
   "execution_count": 12,
   "id": "9c98ab42-84d9-474c-920b-3b39dda1c34b",
   "metadata": {},
   "outputs": [],
   "source": [
    "def process_description(text):\n",
    "    if not pd.isnull(text):\n",
    "        # tokenize \n",
    "        tags = nltk.pos_tag(word_tokenize(text))\n",
    "        #Import the english stop words list from NLTK\n",
    "        stopwords_english = stopwords.words('english') \n",
    "\n",
    "        #Creating a list of words without stopwords\n",
    "        pos_dict = {'J':wordnet.ADJ, 'V':wordnet.VERB, 'N':wordnet.NOUN, 'R':wordnet.ADV}\n",
    "        desc_clean = []\n",
    "        for word, tag in tags:\n",
    "            if word not in stopwords_english and word not in string.punctuation:\n",
    "                desc_clean.append(tuple([word.lower(), pos_dict.get(tag[0])]))\n",
    "\n",
    "        #Instantiate stemming class\n",
    "        lemmatizer = WordNetLemmatizer()\n",
    "\n",
    "        #Creating a list of stems of words \n",
    "        lemma_desc = \"\"\n",
    "        for clean_word, pos in desc_clean:\n",
    "            if not pos:\n",
    "                lemma = clean_word\n",
    "                lemma_desc = lemma_desc + \" \" + lemma\n",
    "            else:\n",
    "                lemma = lemmatizer.lemmatize(clean_word, pos=pos)\n",
    "                lemma_desc = lemma_desc + \" \" + lemma\n",
    "    else:\n",
    "        lemma_desc = ''\n",
    "    return lemma_desc"
   ]
  },
  {
   "cell_type": "code",
   "execution_count": 13,
   "id": "fb854995-3b83-4eb6-897c-f6f4ec8369b8",
   "metadata": {},
   "outputs": [],
   "source": [
    "imputed_cdf_data['Message_lemma'] = imputed_cdf_data['Message'].apply(process_description)"
   ]
  },
  {
   "cell_type": "markdown",
   "id": "4430c3fe-e0f8-4c51-9daf-098498b28fac",
   "metadata": {},
   "source": [
    "### Sentiment and subjective score"
   ]
  },
  {
   "cell_type": "code",
   "execution_count": 14,
   "id": "10b01373-4583-47c6-8f14-bc0513f8d5d1",
   "metadata": {},
   "outputs": [],
   "source": [
    "def datablob(lemma):\n",
    "    return TextBlob(lemma).sentiment"
   ]
  },
  {
   "cell_type": "code",
   "execution_count": 15,
   "id": "335c8bf7-e74c-4dd3-b086-f8a32527c3fc",
   "metadata": {},
   "outputs": [],
   "source": [
    "imputed_cdf_data['Message_senti'] = imputed_cdf_data['Message_lemma'].apply(datablob)"
   ]
  },
  {
   "cell_type": "code",
   "execution_count": 16,
   "id": "d74b090f-55e0-4f9c-b4af-b64be8cee879",
   "metadata": {},
   "outputs": [],
   "source": [
    "imputed_cdf_data['Message_sentiment'] = imputed_cdf_data['Message_senti'].str[0]\n",
    "imputed_cdf_data['Message_subjective'] = imputed_cdf_data['Message_senti'].str[1]\n",
    "imputed_cdf_data['Message_len'] =  imputed_cdf_data['Message'].str.len().fillna(0)"
   ]
  },
  {
   "cell_type": "code",
   "execution_count": 17,
   "id": "df6a9bdf-45c5-4570-8926-429c3efad9c2",
   "metadata": {},
   "outputs": [],
   "source": [
    "imputed_cdf_data['Message_sentiment_category'] = np.where(imputed_cdf_data['Message_sentiment']>0,'Positive','Negative')\n",
    "imputed_cdf_data['Message_subjective_category'] = np.where(imputed_cdf_data['Message_subjective']>0.5,'Subjective','Objective')"
   ]
  },
  {
   "cell_type": "code",
   "execution_count": 18,
   "id": "bf3d282f-4b33-40b3-8dfa-601649a789c3",
   "metadata": {},
   "outputs": [],
   "source": [
    "imputed_cdf_data = imputed_cdf_data.drop(['Message','Message_lemma','Message_senti'],axis=1)"
   ]
  },
  {
   "cell_type": "markdown",
   "id": "c3f2bc02-f261-4d10-883d-682215a04b07",
   "metadata": {},
   "source": [
    "## Drop url columns"
   ]
  },
  {
   "cell_type": "code",
   "execution_count": 19,
   "id": "7dc04477-95bc-42d3-8d2d-9f88920b9063",
   "metadata": {},
   "outputs": [],
   "source": [
    "imputed_cdf_data['is_linked'] = np.where(pd.isnull(imputed_cdf_data['Link']),0,1).astype('str')"
   ]
  },
  {
   "cell_type": "code",
   "execution_count": 20,
   "id": "371e5c2c-3ddb-4b81-826c-7c299496ddc0",
   "metadata": {},
   "outputs": [],
   "source": [
    "imputed_cdf_data = imputed_cdf_data.drop(['URL','Link','Final.Link'],axis=1)"
   ]
  },
  {
   "cell_type": "markdown",
   "id": "0f6ec6ec-31ec-4ac6-ae73-e3ca42000be6",
   "metadata": {},
   "source": [
    "## Image Text"
   ]
  },
  {
   "cell_type": "code",
   "execution_count": 21,
   "id": "9dc0c73e-b385-403a-9466-4f5c82c49da7",
   "metadata": {},
   "outputs": [],
   "source": [
    "imputed_cdf_data['image_text_ind'] = np.where(pd.isnull(imputed_cdf_data['Image.Text']),0,1).astype('str')"
   ]
  },
  {
   "cell_type": "code",
   "execution_count": 22,
   "id": "e21ee0d2-5d88-48ee-b45f-9985d5fad3ee",
   "metadata": {},
   "outputs": [],
   "source": [
    "imputed_cdf_data = imputed_cdf_data.drop(['Image.Text'],axis=1)"
   ]
  },
  {
   "cell_type": "markdown",
   "id": "16ff415e-87e1-4b9c-a6db-a10a29008273",
   "metadata": {},
   "source": [
    "## Headline of a link URL or the title of a native video"
   ]
  },
  {
   "cell_type": "code",
   "execution_count": 23,
   "id": "759431bb-3b6e-4e66-928c-bace2e598f35",
   "metadata": {},
   "outputs": [],
   "source": [
    "imputed_cdf_data['link_title_len'] =  imputed_cdf_data['Link.Text'].str.len().fillna(0)"
   ]
  },
  {
   "cell_type": "code",
   "execution_count": 24,
   "id": "50bc0c32-1286-40a4-9a95-953c3c70c72a",
   "metadata": {},
   "outputs": [],
   "source": [
    "imputed_cdf_data = imputed_cdf_data.drop(['Link.Text'],axis=1)"
   ]
  },
  {
   "cell_type": "markdown",
   "id": "175e7224-0d9f-4138-93fe-90bed06060fd",
   "metadata": {},
   "source": [
    "## Description: the sub-header of a link URL"
   ]
  },
  {
   "cell_type": "code",
   "execution_count": 25,
   "id": "648b01f0-07f6-43c3-b817-d832285df4a6",
   "metadata": {},
   "outputs": [],
   "source": [
    "imputed_cdf_data['Description'] = imputed_cdf_data['Description'].str.replace('-','')\n",
    "imputed_cdf_data['link_desp_len'] =  imputed_cdf_data['Description'].str.len().fillna(0)"
   ]
  },
  {
   "cell_type": "code",
   "execution_count": 26,
   "id": "1fd17b51-af09-4faa-a1bb-db265e5a5c19",
   "metadata": {},
   "outputs": [],
   "source": [
    "imputed_cdf_data = imputed_cdf_data.drop(['Description'],axis=1)"
   ]
  },
  {
   "cell_type": "markdown",
   "id": "c5f8404e-0fa0-47a4-bf6d-f5ad81576c28",
   "metadata": {},
   "source": [
    "## Preprocessing sponsor info"
   ]
  },
  {
   "cell_type": "markdown",
   "id": "ff0f292c-6b97-413b-8d00-1292492c4342",
   "metadata": {},
   "source": [
    "Drop sponsor name for high cardinality"
   ]
  },
  {
   "cell_type": "code",
   "execution_count": 69,
   "id": "e229af48-7d0e-4169-ae31-c13d43a14733",
   "metadata": {},
   "outputs": [],
   "source": [
    "imputed_cdf_data = imputed_cdf_data.drop(['Sponsor.Name'],axis=1)"
   ]
  },
  {
   "cell_type": "markdown",
   "id": "3272397c-e5aa-480f-87ce-8ff576c69f92",
   "metadata": {},
   "source": [
    "## Encode"
   ]
  },
  {
   "cell_type": "markdown",
   "id": "64cfe2d8-203f-4475-b97d-bc7eeecd5fb0",
   "metadata": {},
   "source": [
    "## sponsor category: Target Encoding"
   ]
  },
  {
   "cell_type": "code",
   "execution_count": 27,
   "id": "6b941c22-5b35-44a5-99b2-091797d3a16b",
   "metadata": {},
   "outputs": [],
   "source": [
    "imputed_cdf_data['Sponsor.Category'] = imputed_cdf_data['Sponsor.Category'].fillna('Not_Capable')"
   ]
  },
  {
   "cell_type": "code",
   "execution_count": 29,
   "id": "98d5532c-b4b0-4e54-9731-c53fdc67eae9",
   "metadata": {},
   "outputs": [],
   "source": [
    "sponsor_cate_effect_lookup = imputed_cdf_data.groupby('Sponsor.Category')['Total.Interactions'].mean().reset_index().rename(columns={\"Total.Interactions\":\"sponsor_cate_effect\"})"
   ]
  },
  {
   "cell_type": "code",
   "execution_count": 30,
   "id": "84110372-251c-4566-a019-66df76c96469",
   "metadata": {},
   "outputs": [],
   "source": [
    "imputed_cdf_data = imputed_cdf_data.merge(sponsor_cate_effect_lookup, on = 'Sponsor.Category', how='left')"
   ]
  },
  {
   "cell_type": "code",
   "execution_count": 73,
   "id": "d859ca8c-a7ef-4d35-97eb-33bdcc2dd4e4",
   "metadata": {},
   "outputs": [],
   "source": [
    "imputed_cdf_data = imputed_cdf_data.drop('Sponsor.Category',axis=1)"
   ]
  },
  {
   "cell_type": "markdown",
   "id": "e8da1a85-61d6-412a-a817-11e5225dace9",
   "metadata": {},
   "source": [
    "## Page Name vs Use Name"
   ]
  },
  {
   "cell_type": "code",
   "execution_count": 74,
   "id": "a40942e0-3cd6-437a-88c1-10bdb7473e8f",
   "metadata": {},
   "outputs": [
    {
     "data": {
      "text/plain": [
       "256"
      ]
     },
     "execution_count": 74,
     "metadata": {},
     "output_type": "execute_result"
    }
   ],
   "source": [
    "len(np.unique(imputed_cdf_data['Page.Name']))"
   ]
  },
  {
   "cell_type": "code",
   "execution_count": 75,
   "id": "10272a7d-c50a-41d0-a9a4-c89e1faa7214",
   "metadata": {},
   "outputs": [
    {
     "data": {
      "text/plain": [
       "258"
      ]
     },
     "execution_count": 75,
     "metadata": {},
     "output_type": "execute_result"
    }
   ],
   "source": [
    "len(np.unique(imputed_cdf_data['User.Name']))"
   ]
  },
  {
   "cell_type": "markdown",
   "id": "a78eec2a-ec9b-4506-a7ae-01024103b07b",
   "metadata": {},
   "source": [
    "Page name and user name are approximately matched. However, due to high cardinality, we are dropping these columns."
   ]
  },
  {
   "cell_type": "code",
   "execution_count": 76,
   "id": "22eafa43-645c-4185-9d91-052ea2a826a1",
   "metadata": {},
   "outputs": [],
   "source": [
    "imputed_cdf_data = imputed_cdf_data.drop(['User.Name','Page.Name'],axis=1)"
   ]
  },
  {
   "cell_type": "markdown",
   "id": "980fd4fd-bd09-4502-8828-d80506d00db5",
   "metadata": {},
   "source": [
    "### Encode Page Category: Target Encoding"
   ]
  },
  {
   "cell_type": "code",
   "execution_count": 77,
   "id": "eb80d4d4-653f-4a09-9079-2e887cd97cb6",
   "metadata": {},
   "outputs": [
    {
     "data": {
      "text/plain": [
       "21"
      ]
     },
     "execution_count": 77,
     "metadata": {},
     "output_type": "execute_result"
    }
   ],
   "source": [
    "len(np.unique(imputed_cdf_data['Page.Category']))"
   ]
  },
  {
   "cell_type": "code",
   "execution_count": 31,
   "id": "5ed88dd9-62d3-4b2b-95d5-a68d8d70604c",
   "metadata": {},
   "outputs": [],
   "source": [
    "page_cate_effect_lookup = imputed_cdf_data.groupby('Page.Category')['Total.Interactions'].mean().reset_index().rename(columns={\"Total.Interactions\":\"page_cate_effect\"})"
   ]
  },
  {
   "cell_type": "code",
   "execution_count": 32,
   "id": "278cf850-bc4b-4ae4-8bd3-867b9f2c28fa",
   "metadata": {},
   "outputs": [],
   "source": [
    "imputed_cdf_data = imputed_cdf_data.merge(page_cate_effect_lookup, on = 'Page.Category', how='left')"
   ]
  },
  {
   "cell_type": "code",
   "execution_count": 80,
   "id": "ae80bb08-5431-47db-bef9-a6e0e4760698",
   "metadata": {},
   "outputs": [],
   "source": [
    "imputed_cdf_data = imputed_cdf_data.drop('Page.Category', axis=1)"
   ]
  },
  {
   "cell_type": "markdown",
   "id": "7e022c33-b393-4c8d-aa13-192b0b321e06",
   "metadata": {},
   "source": [
    "## Transform page description into sentiment and subjective"
   ]
  },
  {
   "cell_type": "code",
   "execution_count": 34,
   "id": "04cfbac8-3c6c-48a3-b228-aced5cd87232",
   "metadata": {},
   "outputs": [],
   "source": [
    "imputed_cdf_data['page_desc_lemma'] = imputed_cdf_data['Page.Description'].apply(process_description)\n",
    "imputed_cdf_data['page_desc_senti'] = imputed_cdf_data['page_desc_lemma'].apply(datablob)\n",
    "imputed_cdf_data['page_desc_sentiment'] = imputed_cdf_data['page_desc_senti'].str[0]\n",
    "imputed_cdf_data['page_desc_subjective'] = imputed_cdf_data['page_desc_senti'].str[1]\n",
    "imputed_cdf_data['page_desc_len'] =  imputed_cdf_data['Page.Description'].str.len()\n",
    "imputed_cdf_data['page_desc_sentiment_category'] = np.where(imputed_cdf_data['page_desc_sentiment']>0,'Positive','Negative')\n",
    "imputed_cdf_data['page_desc_subjective_category'] = np.where(imputed_cdf_data['page_desc_subjective']>0.5,'Subjective','Objective')\n",
    "imputed_cdf_data = imputed_cdf_data.drop(['Page.Description','page_desc_lemma','page_desc_senti'],axis=1)"
   ]
  },
  {
   "cell_type": "markdown",
   "id": "6883cbff-4595-4bc4-b524-4d9e0a275177",
   "metadata": {},
   "source": [
    "## Encode Type"
   ]
  },
  {
   "cell_type": "code",
   "execution_count": 35,
   "id": "6df9e724-3631-479e-aba4-2b97420a10d7",
   "metadata": {},
   "outputs": [],
   "source": [
    "Type_dummified = pd.get_dummies(imputed_cdf_data.Type)\n",
    "imputed_cdf_data = pd.concat([imputed_cdf_data, Type_dummified], axis=1)"
   ]
  },
  {
   "cell_type": "code",
   "execution_count": 83,
   "id": "31ae0f1c-2fda-4bf8-8bc8-f69d51f8b6ee",
   "metadata": {},
   "outputs": [],
   "source": [
    "imputed_cdf_data = imputed_cdf_data.drop(\"Type\", axis=1)"
   ]
  },
  {
   "cell_type": "markdown",
   "id": "e8599a04-4ad9-4706-bbca-9a8608b4673d",
   "metadata": {},
   "source": [
    "## Encode Video share status"
   ]
  },
  {
   "cell_type": "code",
   "execution_count": 36,
   "id": "dc6aa8cb-fd18-4a3d-8209-e54cbe2f0dea",
   "metadata": {},
   "outputs": [],
   "source": [
    "share_status_dummified = pd.get_dummies(imputed_cdf_data['Video.Share.Status'])\n",
    "imputed_cdf_data = pd.concat([imputed_cdf_data, share_status_dummified], axis=1)"
   ]
  },
  {
   "cell_type": "code",
   "execution_count": null,
   "id": "f7a24c86-e189-4b41-a504-d965347ade3d",
   "metadata": {},
   "outputs": [],
   "source": [
    "imputed_cdf_data = imputed_cdf_data.drop('Video.Share.Status', axis=1)"
   ]
  },
  {
   "cell_type": "markdown",
   "id": "cac505a8-b839-4871-b4cf-128e19f72999",
   "metadata": {},
   "source": [
    "## Encode video ownership"
   ]
  },
  {
   "cell_type": "code",
   "execution_count": 37,
   "id": "13ae5eb0-87bf-4586-b876-9a3822eba342",
   "metadata": {},
   "outputs": [],
   "source": [
    "video_owner_dummified = pd.get_dummies(imputed_cdf_data['Is.Video.Owner.'])\n",
    "imputed_cdf_data = pd.concat([imputed_cdf_data, video_owner_dummified], axis=1)"
   ]
  },
  {
   "cell_type": "code",
   "execution_count": null,
   "id": "854c65eb-bec2-42de-b8a9-95ed88d3e741",
   "metadata": {},
   "outputs": [],
   "source": [
    "imputed_cdf_data = imputed_cdf_data.drop('Is.Video.Owner.', axis=1)"
   ]
  },
  {
   "cell_type": "code",
   "execution_count": 39,
   "id": "7d7c9cbc-25a5-474c-93e3-526b6b5e0acf",
   "metadata": {},
   "outputs": [],
   "source": [
    "cdf_data_model = imputed_cdf_data.drop(['Page.Created','Post.Created','x'],axis=1)"
   ]
  },
  {
   "cell_type": "code",
   "execution_count": 40,
   "id": "e726c226-670f-4803-9f02-616e0693143e",
   "metadata": {},
   "outputs": [],
   "source": [
    "cdf_data_model['Likes.at.Posting']= cdf_data_model['Likes.at.Posting'].astype('int')"
   ]
  },
  {
   "cell_type": "code",
   "execution_count": 41,
   "id": "67149ecd-c852-4099-b889-e732c027b327",
   "metadata": {},
   "outputs": [],
   "source": [
    "cdf_data_model.to_csv('preprocessed_data.csv',index=False)"
   ]
  },
  {
   "cell_type": "markdown",
   "id": "f7cbbc76-8ded-49e6-ae1a-b7e825829072",
   "metadata": {},
   "source": [
    "# Dimension Deduction"
   ]
  },
  {
   "cell_type": "code",
   "execution_count": 2,
   "id": "964287c7-7d1a-47cb-9469-1db63c9e5816",
   "metadata": {},
   "outputs": [],
   "source": [
    "cdf_data_model = pd.read_csv('preprocessed_data.csv')"
   ]
  },
  {
   "cell_type": "code",
   "execution_count": 3,
   "id": "1ce6845a-f305-4be2-a6cf-f8182641b4b8",
   "metadata": {},
   "outputs": [],
   "source": [
    "x_linear_base = cdf_data_model.drop(['Total.Interactions','Likes','Comments','Shares','Love','Wow','Haha','Sad','Angry','Care','page_desc_sentiment_category','page_desc_subjective_category','Message_sentiment_category','Message_subjective_category','Total.Views.For.All.Crossposts','Total.Views','Post.Views','PageCreatedYear','PageCreatedMonth','PageCreatedDay','PageCreatedHour'],axis=1)\n",
    "y_linear_base = cdf_data_model['Likes'] + cdf_data_model['Shares'] + cdf_data_model['Comments']\n",
    "X_train_linear_base, X_test_linear_base, y_train_linear_base, y_test_linear_base = train_test_split(x_linear_base, y_linear_base, test_size=0.33, random_state=42)"
   ]
  },
  {
   "cell_type": "code",
   "execution_count": 5,
   "id": "66161221-c55f-42ce-9246-e74d97418844",
   "metadata": {},
   "outputs": [
    {
     "data": {
      "text/plain": [
       "SelectFromModel(estimator=RandomForestRegressor(n_estimators=500))"
      ]
     },
     "execution_count": 5,
     "metadata": {},
     "output_type": "execute_result"
    }
   ],
   "source": [
    "#RandomForestRegressor\n",
    "sel = SelectFromModel(RandomForestRegressor(n_estimators = 500))\n",
    "sel.fit(X_train_linear_base, y_train_linear_base)"
   ]
  },
  {
   "cell_type": "code",
   "execution_count": 6,
   "id": "043705ce-32cc-4dde-8f5d-576019667b83",
   "metadata": {},
   "outputs": [
    {
     "data": {
      "text/plain": [
       "38"
      ]
     },
     "execution_count": 6,
     "metadata": {},
     "output_type": "execute_result"
    }
   ],
   "source": [
    "selected_feat= X_train_linear_base.columns[(sel.get_support())]\n",
    "len(selected_feat)\n",
    "# pd.series(sel.estimator_,feature_importances_,.ravel()).hist()"
   ]
  },
  {
   "cell_type": "code",
   "execution_count": 7,
   "id": "b42ae8c7-7d6f-4f4f-bbe4-7e0a20eb326b",
   "metadata": {},
   "outputs": [
    {
     "name": "stdout",
     "output_type": "stream",
     "text": [
      "Index(['Likes.at.Posting', 'Followers.at.Posting', 'WC', 'Dic', 'you', 'shehe',\n",
      "       'ipron', 'article', 'anx', 'sad', 'social', 'female', 'male', 'percept',\n",
      "       'see', 'hear', 'bio', 'body', 'achieve', 'reward', 'focuspast',\n",
      "       'focuspresent', 'focusfuture', 'relativ', 'motion', 'space', 'home',\n",
      "       'death', 'AllPunc', 'Exclam', 'Dash', 'PostCreatedday',\n",
      "       'PostCreatedHour', 'Message_sentiment', 'Message_len', 'link_title_len',\n",
      "       'Live Video Complete', 'crosspost'],\n",
      "      dtype='object')\n"
     ]
    }
   ],
   "source": [
    "print(selected_feat)"
   ]
  },
  {
   "cell_type": "code",
   "execution_count": 6,
   "id": "e27e7aeb-d806-46b1-af13-b2f11b0afe90",
   "metadata": {},
   "outputs": [],
   "source": [
    "selected_feat= ['Likes.at.Posting', 'Followers.at.Posting', 'WC', 'Dic', 'you', 'shehe',\n",
    "       'ipron', 'article', 'anx', 'sad', 'social', 'female', 'male', 'percept',\n",
    "       'see', 'hear', 'bio', 'body', 'achieve', 'reward', 'focuspast',\n",
    "       'focuspresent', 'focusfuture', 'relativ', 'motion', 'space', 'home',\n",
    "       'death', 'AllPunc', 'Exclam', 'Dash', 'PostCreatedday',\n",
    "       'PostCreatedHour', 'Message_sentiment', 'Message_len', 'link_title_len',\n",
    "       'Live Video Complete', 'crosspost']"
   ]
  },
  {
   "cell_type": "markdown",
   "id": "a2261cbb-b68e-4ac5-a2a0-fbff99ab3e5b",
   "metadata": {},
   "source": [
    "# Regression Models"
   ]
  },
  {
   "cell_type": "markdown",
   "id": "fb14dd6a-d3cd-41f3-9cc5-768f86dc778b",
   "metadata": {},
   "source": [
    "## 1. Linear Regression"
   ]
  },
  {
   "cell_type": "markdown",
   "id": "8144f3ea-7466-4f46-b7e6-29b90e330551",
   "metadata": {},
   "source": [
    "### 1.1 Full data"
   ]
  },
  {
   "cell_type": "code",
   "execution_count": 7,
   "id": "48b190dc-b35c-4724-b982-5ccf16c13bf0",
   "metadata": {},
   "outputs": [],
   "source": [
    "X_train_lm = X_train_linear_base[selected_feat]\n",
    "X_train_lm_cons = sm.add_constant(X_train_lm)\n",
    "X_test_lm = X_test_linear_base[selected_feat]"
   ]
  },
  {
   "cell_type": "code",
   "execution_count": 8,
   "id": "7304c1e8-2a3d-4d27-b675-f52935d73ea2",
   "metadata": {},
   "outputs": [
    {
     "name": "stdout",
     "output_type": "stream",
     "text": [
      "                            OLS Regression Results                            \n",
      "==============================================================================\n",
      "Dep. Variable:                      y   R-squared:                       0.008\n",
      "Model:                            OLS   Adj. R-squared:                  0.007\n",
      "Method:                 Least Squares   F-statistic:                     28.73\n",
      "Date:                Fri, 25 Feb 2022   Prob (F-statistic):          1.82e-203\n",
      "Time:                        04:04:45   Log-Likelihood:            -1.4701e+06\n",
      "No. Observations:              142567   AIC:                         2.940e+06\n",
      "Df Residuals:                  142528   BIC:                         2.941e+06\n",
      "Df Model:                          38                                         \n",
      "Covariance Type:            nonrobust                                         \n",
      "========================================================================================\n",
      "                           coef    std err          t      P>|t|      [0.025      0.975]\n",
      "----------------------------------------------------------------------------------------\n",
      "const                  585.4295    162.459      3.604      0.000     267.013     903.846\n",
      "Likes.at.Posting        -0.0003   3.88e-05     -7.936      0.000      -0.000      -0.000\n",
      "Followers.at.Posting     0.0004   3.64e-05     10.953      0.000       0.000       0.000\n",
      "WC                      -1.7524      1.354     -1.295      0.195      -4.405       0.901\n",
      "Dic                    -11.4787      2.541     -4.518      0.000     -16.458      -6.499\n",
      "you                      3.7149      8.890      0.418      0.676     -13.709      21.139\n",
      "shehe                  -10.3049     17.443     -0.591      0.555     -44.492      23.882\n",
      "ipron                   15.5728      7.140      2.181      0.029       1.578      29.568\n",
      "article                  1.2503      5.561      0.225      0.822      -9.649      12.150\n",
      "anx                     22.9500     23.106      0.993      0.321     -22.336      68.236\n",
      "sad                     12.9151     19.172      0.674      0.501     -24.661      50.491\n",
      "social                   4.1808      4.712      0.887      0.375      -5.055      13.417\n",
      "female                  52.7900     13.603      3.881      0.000      26.128      79.452\n",
      "male                    62.5884     13.657      4.583      0.000      35.821      89.356\n",
      "percept                  0.6669     11.152      0.060      0.952     -21.191      22.525\n",
      "see                     23.8140     13.143      1.812      0.070      -1.946      49.575\n",
      "hear                    24.2887     17.248      1.408      0.159      -9.516      58.094\n",
      "bio                      9.5897      6.399      1.499      0.134      -2.951      22.131\n",
      "body                    19.1765     14.531      1.320      0.187      -9.304      47.657\n",
      "achieve                 -7.9445      7.669     -1.036      0.300     -22.975       7.086\n",
      "reward                  -5.6472      9.769     -0.578      0.563     -24.794      13.500\n",
      "focuspast                6.9974      7.505      0.932      0.351      -7.712      21.707\n",
      "focuspresent            10.0554      4.675      2.151      0.031       0.893      19.218\n",
      "focusfuture             37.3331     10.069      3.708      0.000      17.599      57.068\n",
      "relativ                  0.7917      3.813      0.208      0.836      -6.682       8.265\n",
      "motion                  13.7287      8.341      1.646      0.100      -2.620      30.077\n",
      "space                    8.0029      4.976      1.608      0.108      -1.750      17.756\n",
      "home                    25.1894     10.664      2.362      0.018       4.287      46.091\n",
      "death                   16.0806     12.770      1.259      0.208      -8.948      41.109\n",
      "AllPunc                 -8.7150      2.224     -3.919      0.000     -13.073      -4.357\n",
      "Exclam                  13.7849      8.728      1.579      0.114      -3.323      30.892\n",
      "Dash                    28.2103      5.034      5.604      0.000      18.344      38.076\n",
      "PostCreatedday           7.9881     10.469      0.763      0.445     -12.530      28.506\n",
      "PostCreatedHour          4.8451      3.322      1.458      0.145      -1.666      11.356\n",
      "Message_sentiment      -33.9777     81.630     -0.416      0.677    -193.970     126.015\n",
      "Message_len              0.2295      0.253      0.908      0.364      -0.266       0.725\n",
      "link_title_len          -2.1105      0.814     -2.594      0.009      -3.705      -0.516\n",
      "Live Video Complete   -140.7947     73.258     -1.922      0.055    -284.379       2.790\n",
      "crosspost             2463.8203    110.775     22.242      0.000    2246.703    2680.937\n",
      "==============================================================================\n",
      "Omnibus:                   596417.096   Durbin-Watson:                   2.000\n",
      "Prob(Omnibus):                  0.000   Jarque-Bera (JB):    1696676582376.191\n",
      "Skew:                         118.351   Prob(JB):                         0.00\n",
      "Kurtosis:                   16901.690   Cond. No.                     4.03e+07\n",
      "==============================================================================\n",
      "\n",
      "Notes:\n",
      "[1] Standard Errors assume that the covariance matrix of the errors is correctly specified.\n",
      "[2] The condition number is large, 4.03e+07. This might indicate that there are\n",
      "strong multicollinearity or other numerical problems.\n"
     ]
    }
   ],
   "source": [
    "base_linear = sm.OLS(y_train_linear_base, X_train_lm_cons)\n",
    "base_linear_fitted = base_linear.fit()\n",
    "print(base_linear_fitted.summary())"
   ]
  },
  {
   "cell_type": "markdown",
   "id": "2a49c281-d461-4bbb-8b01-1240308d25b5",
   "metadata": {},
   "source": [
    "### Significant variables (p-value<=0.001)"
   ]
  },
  {
   "cell_type": "code",
   "execution_count": 9,
   "id": "092131ba-1b8c-412d-8ecc-946bb7b2d82a",
   "metadata": {},
   "outputs": [],
   "source": [
    "p_values = base_linear_fitted.summary2().tables[1]['P>|t|']"
   ]
  },
  {
   "cell_type": "code",
   "execution_count": 10,
   "id": "5db353d4-8b3f-49b3-9a37-dcb1275f404d",
   "metadata": {},
   "outputs": [
    {
     "data": {
      "text/plain": [
       "const                    3.140029e-04\n",
       "Likes.at.Posting         2.096443e-15\n",
       "Followers.at.Posting     6.573456e-28\n",
       "Dic                      6.247618e-06\n",
       "female                   1.041741e-04\n",
       "male                     4.591618e-06\n",
       "focusfuture              2.091243e-04\n",
       "AllPunc                  8.884148e-05\n",
       "Dash                     2.095295e-08\n",
       "crosspost               2.089199e-109\n",
       "Name: P>|t|, dtype: float64"
      ]
     },
     "execution_count": 10,
     "metadata": {},
     "output_type": "execute_result"
    }
   ],
   "source": [
    "p_values[p_values<=0.001]"
   ]
  },
  {
   "cell_type": "code",
   "execution_count": 11,
   "id": "4ab7fcf2-f389-4b5c-a1c0-d9fa3c821838",
   "metadata": {},
   "outputs": [
    {
     "data": {
      "text/plain": [
       "const                    3.140029e-04\n",
       "Likes.at.Posting         2.096443e-15\n",
       "Followers.at.Posting     6.573456e-28\n",
       "Dic                      6.247618e-06\n",
       "ipron                    2.918997e-02\n",
       "female                   1.041741e-04\n",
       "male                     4.591618e-06\n",
       "focuspresent             3.148311e-02\n",
       "focusfuture              2.091243e-04\n",
       "home                     1.817699e-02\n",
       "AllPunc                  8.884148e-05\n",
       "Dash                     2.095295e-08\n",
       "link_title_len           9.496810e-03\n",
       "crosspost               2.089199e-109\n",
       "Name: P>|t|, dtype: float64"
      ]
     },
     "execution_count": 11,
     "metadata": {},
     "output_type": "execute_result"
    }
   ],
   "source": [
    "p_values[p_values<=0.05]"
   ]
  },
  {
   "cell_type": "markdown",
   "id": "bd4b4b45-1120-42dc-a085-eafb794811b8",
   "metadata": {},
   "source": [
    "### 10-fold Cross-Validation"
   ]
  },
  {
   "cell_type": "code",
   "execution_count": 12,
   "id": "f81d054c-4eec-4844-906b-ae63d19942b0",
   "metadata": {},
   "outputs": [
    {
     "name": "stdout",
     "output_type": "stream",
     "text": [
      "MAE: -587.7730392507249\n"
     ]
    }
   ],
   "source": [
    "cv = KFold(n_splits=10, random_state=1, shuffle=True)\n",
    "model = LinearRegression()\n",
    "scores = cross_val_score(model,X_train_lm, y_train_linear_base, scoring='neg_mean_absolute_error',\n",
    "                         cv=cv, n_jobs=-1)\n",
    "print(\"MAE:\",np.mean(scores))"
   ]
  },
  {
   "cell_type": "markdown",
   "id": "391fd3fd-3404-4307-8a60-9c505d17b47e",
   "metadata": {},
   "source": [
    "### Model Performance"
   ]
  },
  {
   "cell_type": "code",
   "execution_count": 13,
   "id": "a151e4c9-917c-4015-8eb9-2a7a9b5ac833",
   "metadata": {},
   "outputs": [],
   "source": [
    "def print_performance(actual,pred):\n",
    "    mse = mean_squared_error(actual,pred)\n",
    "    mae = mean_absolute_error(actual,pred)\n",
    "    print(\"Model Performance:\")\n",
    "    print(\"MSE:\",mse)\n",
    "    print(\"MAE:\",mae)"
   ]
  },
  {
   "cell_type": "code",
   "execution_count": 14,
   "id": "4ef58454-10df-4db3-adcd-cdd256251b02",
   "metadata": {},
   "outputs": [],
   "source": [
    "linear_base_pred = base_linear_fitted.predict(sm.add_constant(X_test_lm))"
   ]
  },
  {
   "cell_type": "code",
   "execution_count": 15,
   "id": "88fa1577-a140-461d-a820-5127c42b7040",
   "metadata": {},
   "outputs": [
    {
     "name": "stdout",
     "output_type": "stream",
     "text": [
      "Model Performance:\n",
      "MSE: 31892486.26805059\n",
      "MAE: 569.2692689274324\n"
     ]
    }
   ],
   "source": [
    "print_performance(y_test_linear_base, linear_base_pred)"
   ]
  },
  {
   "cell_type": "markdown",
   "id": "375c9598-c542-4391-8ca6-447414477f20",
   "metadata": {},
   "source": [
    "## Residual Plot"
   ]
  },
  {
   "cell_type": "code",
   "execution_count": 16,
   "id": "0fe4d269-9645-4a7e-ae78-67ff1b7310b8",
   "metadata": {},
   "outputs": [
    {
     "data": {
      "image/png": "[encoded data removed]",
      "text/plain": [
       "<Figure size 432x288 with 1 Axes>"
      ]
     },
     "metadata": {
      "needs_background": "light"
     },
     "output_type": "display_data"
    }
   ],
   "source": [
    "%matplotlib inline\n",
    "residuals = y_test_linear_base - linear_base_pred\n",
    "plt.scatter(residuals,linear_base_pred)\n",
    "\n",
    "plt.show()"
   ]
  },
  {
   "cell_type": "markdown",
   "id": "175857bc-6be2-477d-9e48-69789e8e8eb2",
   "metadata": {},
   "source": [
    "Apparently, our data does not present linear characteristics."
   ]
  },
  {
   "cell_type": "markdown",
   "id": "b5f3b805-58ea-4614-976f-eb2ac7350d4a",
   "metadata": {},
   "source": [
    "### 1.2 Standardized data"
   ]
  },
  {
   "cell_type": "code",
   "execution_count": 17,
   "id": "931b6deb-d9e6-420f-9af2-b8ce491a5f2b",
   "metadata": {},
   "outputs": [],
   "source": [
    "scaler = StandardScaler()\n",
    "X_train_lm_std = pd.DataFrame(scaler.fit_transform(X_train_lm),columns=X_train_lm.columns)"
   ]
  },
  {
   "cell_type": "code",
   "execution_count": 18,
   "id": "5088df96-3b22-4b6d-bcb5-0b3686f48e2f",
   "metadata": {},
   "outputs": [],
   "source": [
    "scaler = StandardScaler()\n",
    "X_test_lm_std = pd.DataFrame(scaler.fit_transform(X_test_lm),columns=X_test_lm.columns)"
   ]
  },
  {
   "cell_type": "code",
   "execution_count": 19,
   "id": "495a58eb-bd0e-4681-ab24-d4173c6a18b1",
   "metadata": {},
   "outputs": [
    {
     "name": "stdout",
     "output_type": "stream",
     "text": [
      "                            OLS Regression Results                            \n",
      "==============================================================================\n",
      "Dep. Variable:                      y   R-squared:                       0.008\n",
      "Model:                            OLS   Adj. R-squared:                  0.007\n",
      "Method:                 Least Squares   F-statistic:                     28.73\n",
      "Date:                Fri, 25 Feb 2022   Prob (F-statistic):          1.82e-203\n",
      "Time:                        04:05:32   Log-Likelihood:            -1.4701e+06\n",
      "No. Observations:              142567   AIC:                         2.940e+06\n",
      "Df Residuals:                  142528   BIC:                         2.941e+06\n",
      "Df Model:                          38                                         \n",
      "Covariance Type:            nonrobust                                         \n",
      "========================================================================================\n",
      "                           coef    std err          t      P>|t|      [0.025      0.975]\n",
      "----------------------------------------------------------------------------------------\n",
      "const                  370.9572     19.277     19.244      0.000     333.175     408.739\n",
      "Likes.at.Posting      -880.4632    110.940     -7.936      0.000   -1097.903    -663.023\n",
      "Followers.at.Posting  1213.4951    110.788     10.953      0.000     996.353    1430.638\n",
      "WC                     -50.3350     38.879     -1.295      0.195    -126.538      25.868\n",
      "Dic                   -142.0219     31.435     -4.518      0.000    -203.633     -80.411\n",
      "you                     10.0555     24.063      0.418      0.676     -37.107      57.218\n",
      "shehe                  -19.3962     32.831     -0.591      0.555     -83.744      44.952\n",
      "ipron                   47.7404     21.890      2.181      0.029       4.837      90.644\n",
      "article                  5.0940     22.656      0.225      0.822     -39.312      49.500\n",
      "anx                     19.4535     19.585      0.993      0.321     -18.933      57.840\n",
      "sad                     13.2310     19.641      0.674      0.501     -25.264      51.726\n",
      "social                  25.7741     29.051      0.887      0.375     -31.165      82.713\n",
      "female                 106.9024     27.547      3.881      0.000      52.911     160.893\n",
      "male                   133.4193     29.113      4.583      0.000      76.358     190.480\n",
      "percept                  2.3360     39.063      0.060      0.952     -74.227      78.899\n",
      "see                     63.5582     35.079      1.812      0.070      -5.195     132.311\n",
      "hear                    37.3599     26.530      1.408      0.159     -14.638      89.357\n",
      "bio                     34.8625     23.262      1.499      0.134     -10.730      80.455\n",
      "body                    29.3515     22.241      1.320      0.187     -14.241      72.944\n",
      "achieve                -21.7054     20.952     -1.036      0.300     -62.771      19.361\n",
      "reward                 -12.7046     21.978     -0.578      0.563     -55.780      30.371\n",
      "focuspast               21.3035     22.849      0.932      0.351     -23.479      66.086\n",
      "focuspresent            51.0694     23.743      2.151      0.031       4.534      97.605\n",
      "focusfuture             75.8627     20.460      3.708      0.000      35.761     115.964\n",
      "relativ                  6.2758     30.228      0.208      0.836     -52.970      65.521\n",
      "motion                  35.0180     21.276      1.646      0.100      -6.682      76.718\n",
      "space                   42.8256     26.627      1.608      0.108      -9.363      95.014\n",
      "home                    46.5002     19.687      2.362      0.018       7.915      85.086\n",
      "death                   25.4768     20.231      1.259      0.208     -14.176      65.129\n",
      "AllPunc               -110.5345     28.202     -3.919      0.000    -165.811     -55.258\n",
      "Exclam                  33.2060     21.026      1.579      0.114      -8.004      74.416\n",
      "Dash                   144.3278     25.753      5.604      0.000      93.852     194.804\n",
      "PostCreatedday          14.7545     19.336      0.763      0.445     -23.144      52.653\n",
      "PostCreatedHour         28.3330     19.427      1.458      0.145      -9.743      66.409\n",
      "Message_sentiment       -8.7964     21.133     -0.416      0.677     -50.216      32.623\n",
      "Message_len             34.3951     37.881      0.908      0.364     -39.852     108.642\n",
      "link_title_len         -68.6469     26.467     -2.594      0.009    -120.522     -16.772\n",
      "Live Video Complete    -40.6289     21.140     -1.922      0.055     -82.063       0.805\n",
      "crosspost              438.2391     19.704     22.242      0.000     399.621     476.858\n",
      "==============================================================================\n",
      "Omnibus:                   596417.096   Durbin-Watson:                   2.000\n",
      "Prob(Omnibus):                  0.000   Jarque-Bera (JB):    1696676582376.195\n",
      "Skew:                         118.351   Prob(JB):                         0.00\n",
      "Kurtosis:                   16901.690   Cond. No.                         14.8\n",
      "==============================================================================\n",
      "\n",
      "Notes:\n",
      "[1] Standard Errors assume that the covariance matrix of the errors is correctly specified.\n"
     ]
    }
   ],
   "source": [
    "base_linear_std = sm.OLS(list(y_train_linear_base), sm.add_constant(X_train_lm_std))\n",
    "base_linear_std_fitted = base_linear_std.fit()\n",
    "print(base_linear_std_fitted.summary())"
   ]
  },
  {
   "cell_type": "code",
   "execution_count": 20,
   "id": "ed0bba81-bc69-4784-b121-f0f4a5f6a523",
   "metadata": {},
   "outputs": [],
   "source": [
    "p_values_std = base_linear_std_fitted.summary2().tables[1]['P>|t|']"
   ]
  },
  {
   "cell_type": "code",
   "execution_count": 21,
   "id": "668f2ffd-e1b6-488d-9c34-09d30eb5fc95",
   "metadata": {},
   "outputs": [
    {
     "data": {
      "text/plain": [
       "const                    2.023451e-82\n",
       "Likes.at.Posting         2.096443e-15\n",
       "Followers.at.Posting     6.573456e-28\n",
       "Dic                      6.247618e-06\n",
       "female                   1.041741e-04\n",
       "male                     4.591618e-06\n",
       "focusfuture              2.091243e-04\n",
       "AllPunc                  8.884148e-05\n",
       "Dash                     2.095295e-08\n",
       "crosspost               2.089199e-109\n",
       "Name: P>|t|, dtype: float64"
      ]
     },
     "execution_count": 21,
     "metadata": {},
     "output_type": "execute_result"
    }
   ],
   "source": [
    "p_values_std[p_values_std<=0.001]"
   ]
  },
  {
   "cell_type": "code",
   "execution_count": 22,
   "id": "8e367b41-3b57-4a89-bb54-6743ef3aec84",
   "metadata": {},
   "outputs": [
    {
     "data": {
      "text/plain": [
       "const                    2.023451e-82\n",
       "Likes.at.Posting         2.096443e-15\n",
       "Followers.at.Posting     6.573456e-28\n",
       "Dic                      6.247618e-06\n",
       "ipron                    2.918997e-02\n",
       "female                   1.041741e-04\n",
       "male                     4.591618e-06\n",
       "focuspresent             3.148311e-02\n",
       "focusfuture              2.091243e-04\n",
       "home                     1.817699e-02\n",
       "AllPunc                  8.884148e-05\n",
       "Dash                     2.095295e-08\n",
       "link_title_len           9.496810e-03\n",
       "crosspost               2.089199e-109\n",
       "Name: P>|t|, dtype: float64"
      ]
     },
     "execution_count": 22,
     "metadata": {},
     "output_type": "execute_result"
    }
   ],
   "source": [
    "p_values_std[p_values_std<=0.05]"
   ]
  },
  {
   "cell_type": "markdown",
   "id": "69b83cf8-9bf1-48d9-a13f-b144f30563d0",
   "metadata": {},
   "source": [
    "### 10 Fold Cross-Validate"
   ]
  },
  {
   "cell_type": "code",
   "execution_count": 23,
   "id": "3561daf7-dc21-43dc-8f2a-a2c3da02ba07",
   "metadata": {},
   "outputs": [
    {
     "name": "stdout",
     "output_type": "stream",
     "text": [
      "MAE: -587.7730392506992\n"
     ]
    }
   ],
   "source": [
    "cv = KFold(n_splits=10, random_state=1, shuffle=True)\n",
    "model_std = LinearRegression()\n",
    "scores_std = cross_val_score(model_std, X_train_lm_std, y_train_linear_base, scoring='neg_mean_absolute_error',\n",
    "                         cv=cv, n_jobs=-1)\n",
    "print(\"MAE:\",np.mean(scores_std))"
   ]
  },
  {
   "cell_type": "code",
   "execution_count": 24,
   "id": "b0dda0ae-f1b6-4a1a-9501-a7ca28be5ddf",
   "metadata": {},
   "outputs": [
    {
     "name": "stdout",
     "output_type": "stream",
     "text": [
      "Model Performance:\n",
      "MSE: 31891556.482455976\n",
      "MAE: 568.86808618599\n"
     ]
    }
   ],
   "source": [
    "linear_base_std_pred =  base_linear_std_fitted.predict(sm.add_constant(X_test_lm_std))\n",
    "print_performance(y_test_linear_base, linear_base_std_pred)"
   ]
  },
  {
   "cell_type": "markdown",
   "id": "e41888f5-2a37-456a-8b7a-dcca0705aadd",
   "metadata": {},
   "source": [
    "# 2. Neural Network"
   ]
  },
  {
   "cell_type": "markdown",
   "id": "b7dd4ae6-1444-4ecf-ad99-bc79cffc31f5",
   "metadata": {},
   "source": [
    "Reference: \n",
    "- https://machinelearningmastery.com/regression-tutorial-keras-deep-learning-library-python/\n",
    "- https://www.adriangb.com/scikeras/stable/index.html"
   ]
  },
  {
   "cell_type": "code",
   "execution_count": 25,
   "id": "39f7eab0-bd07-404b-bb72-5b220eea74a6",
   "metadata": {},
   "outputs": [],
   "source": [
    "# define base model\n",
    "def baseline_model():\n",
    "    # create model\n",
    "    model = Sequential()\n",
    "    model.add(Dense(38, input_dim=38, kernel_initializer='normal', activation='relu'))\n",
    "    model.add(Dense(1, kernel_initializer='normal'))\n",
    "    # Compile model\n",
    "    model.compile(loss='mean_squared_error', optimizer='adam')\n",
    "    return model"
   ]
  },
  {
   "cell_type": "markdown",
   "id": "16e469c4-4179-431c-beaa-2b007fb694b1",
   "metadata": {},
   "source": [
    "### Base Neural Network with standardized data"
   ]
  },
  {
   "cell_type": "code",
   "execution_count": 46,
   "id": "33cc46cb-078f-4457-ab07-bb592ca4077f",
   "metadata": {},
   "outputs": [
    {
     "name": "stderr",
     "output_type": "stream",
     "text": [
      "/opt/conda/lib/python3.7/site-packages/scikeras/wrappers.py:290: UserWarning: ``build_fn`` will be renamed to ``model`` in a future release, at which point use of ``build_fn`` will raise an Error instead.\n",
      "  \"``build_fn`` will be renamed to ``model`` in a future release,\"\n",
      "/opt/conda/lib/python3.7/site-packages/scikeras/wrappers.py:290: UserWarning: ``build_fn`` will be renamed to ``model`` in a future release, at which point use of ``build_fn`` will raise an Error instead.\n",
      "  \"``build_fn`` will be renamed to ``model`` in a future release,\"\n",
      "/opt/conda/lib/python3.7/site-packages/scikeras/wrappers.py:290: UserWarning: ``build_fn`` will be renamed to ``model`` in a future release, at which point use of ``build_fn`` will raise an Error instead.\n",
      "  \"``build_fn`` will be renamed to ``model`` in a future release,\"\n",
      "/opt/conda/lib/python3.7/site-packages/scikeras/wrappers.py:290: UserWarning: ``build_fn`` will be renamed to ``model`` in a future release, at which point use of ``build_fn`` will raise an Error instead.\n",
      "  \"``build_fn`` will be renamed to ``model`` in a future release,\"\n",
      "/opt/conda/lib/python3.7/site-packages/scikeras/wrappers.py:290: UserWarning: ``build_fn`` will be renamed to ``model`` in a future release, at which point use of ``build_fn`` will raise an Error instead.\n",
      "  \"``build_fn`` will be renamed to ``model`` in a future release,\"\n"
     ]
    },
    {
     "name": "stdout",
     "output_type": "stream",
     "text": [
      "Baseline: 0.03 (0.02) MSE\n"
     ]
    }
   ],
   "source": [
    "estimator_std = KerasRegressor(build_fn=baseline_model, epochs=100, batch_size=5, verbose=0)\n",
    "kfold = KFold(n_splits=5)\n",
    "results_std = cross_val_score(estimator_std,  X_train_lm_std, y_train_linear_base, cv=kfold)\n",
    "print(\"Baseline: %.2f (%.2f) MSE\" % (results_std.mean(), results_std.std()))"
   ]
  },
  {
   "cell_type": "code",
   "execution_count": 27,
   "id": "9b412fb7-aa23-4289-9697-3884c80ce535",
   "metadata": {},
   "outputs": [
    {
     "name": "stderr",
     "output_type": "stream",
     "text": [
      "/opt/conda/lib/python3.7/site-packages/scikeras/wrappers.py:290: UserWarning: ``build_fn`` will be renamed to ``model`` in a future release, at which point use of ``build_fn`` will raise an Error instead.\n",
      "  \"``build_fn`` will be renamed to ``model`` in a future release,\"\n",
      "2022-02-25 04:13:59.099940: W tensorflow/stream_executor/platform/default/dso_loader.cc:64] Could not load dynamic library 'libcuda.so.1'; dlerror: libcuda.so.1: cannot open shared object file: No such file or directory\n",
      "2022-02-25 04:13:59.099982: W tensorflow/stream_executor/cuda/cuda_driver.cc:269] failed call to cuInit: UNKNOWN ERROR (303)\n",
      "2022-02-25 04:13:59.100004: I tensorflow/stream_executor/cuda/cuda_diagnostics.cc:156] kernel driver does not appear to be running on this host (python-20220218-223849): /proc/driver/nvidia/version does not exist\n",
      "2022-02-25 04:13:59.100404: I tensorflow/core/platform/cpu_feature_guard.cc:151] This TensorFlow binary is optimized with oneAPI Deep Neural Network Library (oneDNN) to use the following CPU instructions in performance-critical operations:  AVX2 FMA\n",
      "To enable them in other operations, rebuild TensorFlow with the appropriate compiler flags.\n"
     ]
    },
    {
     "name": "stdout",
     "output_type": "stream",
     "text": [
      "Model Performance:\n",
      "MSE: 31608893.548329707\n",
      "MAE: 455.21078734893604\n"
     ]
    }
   ],
   "source": [
    "estimator = KerasRegressor(build_fn=baseline_model, epochs=100, batch_size=5, verbose=False)\n",
    "estimator.fit(X_train_lm_std, y_train_linear_base)\n",
    "prediction_nn = estimator.predict(X_test_lm_std)\n",
    "print_performance(y_test_linear_base, prediction_nn)"
   ]
  },
  {
   "cell_type": "code",
   "execution_count": 84,
   "id": "e188ee79-0907-4abf-aaa2-8d6f8096b7f1",
   "metadata": {},
   "outputs": [
    {
     "data": {
      "text/html": [
       "\n",
       "    <style>\n",
       "    table.eli5-weights tr:hover {\n",
       "        filter: brightness(85%);\n",
       "    }\n",
       "</style>\n",
       "\n",
       "\n",
       "\n",
       "    \n",
       "\n",
       "    \n",
       "\n",
       "    \n",
       "\n",
       "    \n",
       "\n",
       "    \n",
       "\n",
       "    \n",
       "\n",
       "\n",
       "    \n",
       "\n",
       "    \n",
       "\n",
       "    \n",
       "\n",
       "    \n",
       "\n",
       "    \n",
       "\n",
       "    \n",
       "\n",
       "\n",
       "    \n",
       "\n",
       "    \n",
       "\n",
       "    \n",
       "\n",
       "    \n",
       "\n",
       "    \n",
       "        <table class=\"eli5-weights eli5-feature-importances\" style=\"border-collapse: collapse; border: none; margin-top: 0em; table-layout: auto;\">\n",
       "    <thead>\n",
       "    <tr style=\"border: none;\">\n",
       "        <th style=\"padding: 0 1em 0 0.5em; text-align: right; border: none;\">Weight</th>\n",
       "        <th style=\"padding: 0 0.5em 0 0.5em; text-align: left; border: none;\">Feature</th>\n",
       "    </tr>\n",
       "    </thead>\n",
       "    <tbody>\n",
       "    \n",
       "        <tr style=\"background-color: hsl(120, 100.00%, 80.00%); border: none;\">\n",
       "            <td style=\"padding: 0 1em 0 0.5em; text-align: right; border: none;\">\n",
       "                0.0163\n",
       "                \n",
       "                    &plusmn; 0.0013\n",
       "                \n",
       "            </td>\n",
       "            <td style=\"padding: 0 0.5em 0 0.5em; text-align: left; border: none;\">\n",
       "                Followers.at.Posting\n",
       "            </td>\n",
       "        </tr>\n",
       "    \n",
       "        <tr style=\"background-color: hsl(120, 100.00%, 84.26%); border: none;\">\n",
       "            <td style=\"padding: 0 1em 0 0.5em; text-align: right; border: none;\">\n",
       "                0.0116\n",
       "                \n",
       "                    &plusmn; 0.0004\n",
       "                \n",
       "            </td>\n",
       "            <td style=\"padding: 0 0.5em 0 0.5em; text-align: left; border: none;\">\n",
       "                crosspost\n",
       "            </td>\n",
       "        </tr>\n",
       "    \n",
       "        <tr style=\"background-color: hsl(120, 100.00%, 94.52%); border: none;\">\n",
       "            <td style=\"padding: 0 1em 0 0.5em; text-align: right; border: none;\">\n",
       "                0.0026\n",
       "                \n",
       "                    &plusmn; 0.0006\n",
       "                \n",
       "            </td>\n",
       "            <td style=\"padding: 0 0.5em 0 0.5em; text-align: left; border: none;\">\n",
       "                WC\n",
       "            </td>\n",
       "        </tr>\n",
       "    \n",
       "        <tr style=\"background-color: hsl(120, 100.00%, 95.87%); border: none;\">\n",
       "            <td style=\"padding: 0 1em 0 0.5em; text-align: right; border: none;\">\n",
       "                0.0017\n",
       "                \n",
       "                    &plusmn; 0.0005\n",
       "                \n",
       "            </td>\n",
       "            <td style=\"padding: 0 0.5em 0 0.5em; text-align: left; border: none;\">\n",
       "                space\n",
       "            </td>\n",
       "        </tr>\n",
       "    \n",
       "        <tr style=\"background-color: hsl(120, 100.00%, 96.31%); border: none;\">\n",
       "            <td style=\"padding: 0 1em 0 0.5em; text-align: right; border: none;\">\n",
       "                0.0015\n",
       "                \n",
       "                    &plusmn; 0.0007\n",
       "                \n",
       "            </td>\n",
       "            <td style=\"padding: 0 0.5em 0 0.5em; text-align: left; border: none;\">\n",
       "                see\n",
       "            </td>\n",
       "        </tr>\n",
       "    \n",
       "        <tr style=\"background-color: hsl(120, 100.00%, 96.55%); border: none;\">\n",
       "            <td style=\"padding: 0 1em 0 0.5em; text-align: right; border: none;\">\n",
       "                0.0013\n",
       "                \n",
       "                    &plusmn; 0.0004\n",
       "                \n",
       "            </td>\n",
       "            <td style=\"padding: 0 0.5em 0 0.5em; text-align: left; border: none;\">\n",
       "                Message_len\n",
       "            </td>\n",
       "        </tr>\n",
       "    \n",
       "        <tr style=\"background-color: hsl(120, 100.00%, 96.75%); border: none;\">\n",
       "            <td style=\"padding: 0 1em 0 0.5em; text-align: right; border: none;\">\n",
       "                0.0012\n",
       "                \n",
       "                    &plusmn; 0.0009\n",
       "                \n",
       "            </td>\n",
       "            <td style=\"padding: 0 0.5em 0 0.5em; text-align: left; border: none;\">\n",
       "                link_title_len\n",
       "            </td>\n",
       "        </tr>\n",
       "    \n",
       "        <tr style=\"background-color: hsl(120, 100.00%, 96.96%); border: none;\">\n",
       "            <td style=\"padding: 0 1em 0 0.5em; text-align: right; border: none;\">\n",
       "                0.0011\n",
       "                \n",
       "                    &plusmn; 0.0001\n",
       "                \n",
       "            </td>\n",
       "            <td style=\"padding: 0 0.5em 0 0.5em; text-align: left; border: none;\">\n",
       "                ipron\n",
       "            </td>\n",
       "        </tr>\n",
       "    \n",
       "        <tr style=\"background-color: hsl(120, 100.00%, 97.25%); border: none;\">\n",
       "            <td style=\"padding: 0 1em 0 0.5em; text-align: right; border: none;\">\n",
       "                0.0010\n",
       "                \n",
       "                    &plusmn; 0.0004\n",
       "                \n",
       "            </td>\n",
       "            <td style=\"padding: 0 0.5em 0 0.5em; text-align: left; border: none;\">\n",
       "                Live Video Complete\n",
       "            </td>\n",
       "        </tr>\n",
       "    \n",
       "        <tr style=\"background-color: hsl(120, 100.00%, 97.34%); border: none;\">\n",
       "            <td style=\"padding: 0 1em 0 0.5em; text-align: right; border: none;\">\n",
       "                0.0009\n",
       "                \n",
       "                    &plusmn; 0.0004\n",
       "                \n",
       "            </td>\n",
       "            <td style=\"padding: 0 0.5em 0 0.5em; text-align: left; border: none;\">\n",
       "                focuspast\n",
       "            </td>\n",
       "        </tr>\n",
       "    \n",
       "        <tr style=\"background-color: hsl(120, 100.00%, 97.46%); border: none;\">\n",
       "            <td style=\"padding: 0 1em 0 0.5em; text-align: right; border: none;\">\n",
       "                0.0009\n",
       "                \n",
       "                    &plusmn; 0.0002\n",
       "                \n",
       "            </td>\n",
       "            <td style=\"padding: 0 0.5em 0 0.5em; text-align: left; border: none;\">\n",
       "                article\n",
       "            </td>\n",
       "        </tr>\n",
       "    \n",
       "        <tr style=\"background-color: hsl(120, 100.00%, 97.82%); border: none;\">\n",
       "            <td style=\"padding: 0 1em 0 0.5em; text-align: right; border: none;\">\n",
       "                0.0007\n",
       "                \n",
       "                    &plusmn; 0.0005\n",
       "                \n",
       "            </td>\n",
       "            <td style=\"padding: 0 0.5em 0 0.5em; text-align: left; border: none;\">\n",
       "                reward\n",
       "            </td>\n",
       "        </tr>\n",
       "    \n",
       "        <tr style=\"background-color: hsl(120, 100.00%, 98.09%); border: none;\">\n",
       "            <td style=\"padding: 0 1em 0 0.5em; text-align: right; border: none;\">\n",
       "                0.0006\n",
       "                \n",
       "                    &plusmn; 0.0000\n",
       "                \n",
       "            </td>\n",
       "            <td style=\"padding: 0 0.5em 0 0.5em; text-align: left; border: none;\">\n",
       "                Dash\n",
       "            </td>\n",
       "        </tr>\n",
       "    \n",
       "        <tr style=\"background-color: hsl(120, 100.00%, 98.35%); border: none;\">\n",
       "            <td style=\"padding: 0 1em 0 0.5em; text-align: right; border: none;\">\n",
       "                0.0005\n",
       "                \n",
       "                    &plusmn; 0.0005\n",
       "                \n",
       "            </td>\n",
       "            <td style=\"padding: 0 0.5em 0 0.5em; text-align: left; border: none;\">\n",
       "                AllPunc\n",
       "            </td>\n",
       "        </tr>\n",
       "    \n",
       "        <tr style=\"background-color: hsl(120, 100.00%, 98.39%); border: none;\">\n",
       "            <td style=\"padding: 0 1em 0 0.5em; text-align: right; border: none;\">\n",
       "                0.0004\n",
       "                \n",
       "                    &plusmn; 0.0008\n",
       "                \n",
       "            </td>\n",
       "            <td style=\"padding: 0 0.5em 0 0.5em; text-align: left; border: none;\">\n",
       "                percept\n",
       "            </td>\n",
       "        </tr>\n",
       "    \n",
       "        <tr style=\"background-color: hsl(120, 100.00%, 98.54%); border: none;\">\n",
       "            <td style=\"padding: 0 1em 0 0.5em; text-align: right; border: none;\">\n",
       "                0.0004\n",
       "                \n",
       "                    &plusmn; 0.0008\n",
       "                \n",
       "            </td>\n",
       "            <td style=\"padding: 0 0.5em 0 0.5em; text-align: left; border: none;\">\n",
       "                hear\n",
       "            </td>\n",
       "        </tr>\n",
       "    \n",
       "        <tr style=\"background-color: hsl(120, 100.00%, 98.58%); border: none;\">\n",
       "            <td style=\"padding: 0 1em 0 0.5em; text-align: right; border: none;\">\n",
       "                0.0004\n",
       "                \n",
       "                    &plusmn; 0.0004\n",
       "                \n",
       "            </td>\n",
       "            <td style=\"padding: 0 0.5em 0 0.5em; text-align: left; border: none;\">\n",
       "                female\n",
       "            </td>\n",
       "        </tr>\n",
       "    \n",
       "        <tr style=\"background-color: hsl(120, 100.00%, 98.61%); border: none;\">\n",
       "            <td style=\"padding: 0 1em 0 0.5em; text-align: right; border: none;\">\n",
       "                0.0004\n",
       "                \n",
       "                    &plusmn; 0.0002\n",
       "                \n",
       "            </td>\n",
       "            <td style=\"padding: 0 0.5em 0 0.5em; text-align: left; border: none;\">\n",
       "                social\n",
       "            </td>\n",
       "        </tr>\n",
       "    \n",
       "        <tr style=\"background-color: hsl(120, 100.00%, 98.65%); border: none;\">\n",
       "            <td style=\"padding: 0 1em 0 0.5em; text-align: right; border: none;\">\n",
       "                0.0003\n",
       "                \n",
       "                    &plusmn; 0.0003\n",
       "                \n",
       "            </td>\n",
       "            <td style=\"padding: 0 0.5em 0 0.5em; text-align: left; border: none;\">\n",
       "                motion\n",
       "            </td>\n",
       "        </tr>\n",
       "    \n",
       "        <tr style=\"background-color: hsl(120, 100.00%, 98.77%); border: none;\">\n",
       "            <td style=\"padding: 0 1em 0 0.5em; text-align: right; border: none;\">\n",
       "                0.0003\n",
       "                \n",
       "                    &plusmn; 0.0002\n",
       "                \n",
       "            </td>\n",
       "            <td style=\"padding: 0 0.5em 0 0.5em; text-align: left; border: none;\">\n",
       "                Message_sentiment\n",
       "            </td>\n",
       "        </tr>\n",
       "    \n",
       "    \n",
       "        \n",
       "            <tr style=\"background-color: hsl(120, 100.00%, 98.77%); border: none;\">\n",
       "                <td colspan=\"2\" style=\"padding: 0 0.5em 0 0.5em; text-align: center; border: none; white-space: nowrap;\">\n",
       "                    <i>&hellip; 18 more &hellip;</i>\n",
       "                </td>\n",
       "            </tr>\n",
       "        \n",
       "    \n",
       "    </tbody>\n",
       "</table>\n",
       "    \n",
       "\n",
       "    \n",
       "\n",
       "\n",
       "    \n",
       "\n",
       "    \n",
       "\n",
       "    \n",
       "\n",
       "    \n",
       "\n",
       "    \n",
       "\n",
       "    \n",
       "\n",
       "\n",
       "\n"
      ],
      "text/plain": [
       "<IPython.core.display.HTML object>"
      ]
     },
     "execution_count": 84,
     "metadata": {},
     "output_type": "execute_result"
    }
   ],
   "source": [
    "import eli5\n",
    "from eli5.sklearn import PermutationImportance\n",
    "\n",
    "perm = PermutationImportance(estimator, random_state=1).fit(X_train_lm_std, y_train_linear_base)\n",
    "eli5.show_weights(perm, feature_names = X_train_lm_std.columns.tolist())"
   ]
  },
  {
   "cell_type": "code",
   "execution_count": 47,
   "id": "64047fa7-32ab-4b58-b34c-89879d99be77",
   "metadata": {},
   "outputs": [],
   "source": [
    "estimator.model_.save('saved_model.h5')"
   ]
  },
  {
   "cell_type": "code",
   "execution_count": 48,
   "id": "42e761e8-2adc-4f3f-a273-25b44099e3cf",
   "metadata": {},
   "outputs": [
    {
     "data": {
      "text/plain": [
       "KerasRegressor(\n",
       "\tmodel=<keras.engine.sequential.Sequential object at 0x7f270f430b90>\n",
       "\tbuild_fn=None\n",
       "\twarm_start=False\n",
       "\trandom_state=None\n",
       "\toptimizer=rmsprop\n",
       "\tloss=None\n",
       "\tmetrics=None\n",
       "\tbatch_size=None\n",
       "\tvalidation_batch_size=None\n",
       "\tverbose=1\n",
       "\tcallbacks=None\n",
       "\tvalidation_split=0.0\n",
       "\tshuffle=True\n",
       "\trun_eagerly=False\n",
       "\tepochs=1\n",
       ")"
      ]
     },
     "execution_count": 48,
     "metadata": {},
     "output_type": "execute_result"
    }
   ],
   "source": [
    "from keras.models import load_model\n",
    "\n",
    "new_reg_model = load_model(\"saved_model.h5\")\n",
    "reg_new = KerasRegressor(new_reg_model)\n",
    "\n",
    "reg_new.initialize(X_train_lm_std, y_train_linear_base)"
   ]
  },
  {
   "cell_type": "code",
   "execution_count": 49,
   "id": "81240a88-6d8a-4f5e-8375-79926c74ddc2",
   "metadata": {},
   "outputs": [
    {
     "name": "stdout",
     "output_type": "stream",
     "text": [
      "2195/2195 [==============================] - 2s 971us/step\n",
      "Model Performance:\n",
      "MSE: 31608893.5411224\n",
      "MAE: 455.2107871706144\n"
     ]
    }
   ],
   "source": [
    "prediction_test = reg_new.predict(X_test_lm_std)\n",
    "print_performance(y_test_linear_base, prediction_test)"
   ]
  },
  {
   "cell_type": "markdown",
   "id": "db8d43c4-4bf3-413a-8135-bfa175ce950a",
   "metadata": {},
   "source": [
    "# 3. Ensemble Methods"
   ]
  },
  {
   "cell_type": "markdown",
   "id": "96f65616-9aa3-4ed5-b130-3e5167c0d9ed",
   "metadata": {},
   "source": [
    "## 3.1 Baseline: Random Forest "
   ]
  },
  {
   "cell_type": "code",
   "execution_count": 58,
   "id": "cefe61a0-d78a-4ee0-b951-ded222393032",
   "metadata": {},
   "outputs": [
    {
     "name": "stdout",
     "output_type": "stream",
     "text": [
      "Model Performance:\n",
      "MSE: 46443386.83208944\n",
      "MAE: 519.804717393351\n"
     ]
    }
   ],
   "source": [
    "forest_reg = RandomForestRegressor(random_state=1)\n",
    "forest_model = forest_reg.fit(X_train_lm, y_train_linear_base)\n",
    "forest_predicted = forest_model.predict(X_test_lm)\n",
    "print_performance(forest_predicted, y_test_linear_base)"
   ]
  },
  {
   "cell_type": "markdown",
   "id": "a1c42b35-d204-4038-8d72-9c65d273caff",
   "metadata": {},
   "source": [
    "## 3.2 Gradient Boosting"
   ]
  },
  {
   "cell_type": "code",
   "execution_count": 59,
   "id": "dc4a5fb1-8c33-4bd6-a9d5-96b4d728e76a",
   "metadata": {},
   "outputs": [
    {
     "name": "stdout",
     "output_type": "stream",
     "text": [
      "Model Performance:\n",
      "MSE: 37590585.01844021\n",
      "MAE: 503.53495628119566\n"
     ]
    }
   ],
   "source": [
    "from sklearn.ensemble import GradientBoostingRegressor\n",
    "gbt_reg = GradientBoostingRegressor(random_state=1)\n",
    "gbt_model = gbt_reg.fit(X_train_lm, y_train_linear_base)\n",
    "gbt_predicted = gbt_model.predict(X_test_lm)\n",
    "print_performance(gbt_predicted, y_test_linear_base)"
   ]
  },
  {
   "cell_type": "markdown",
   "id": "410696f4-43c9-49da-98b4-67f09519e106",
   "metadata": {},
   "source": [
    "## 3.3 LightGBM"
   ]
  },
  {
   "cell_type": "code",
   "execution_count": 52,
   "id": "1ef98e01-e986-4a57-9291-d50f1bbd6fed",
   "metadata": {},
   "outputs": [
    {
     "name": "stdout",
     "output_type": "stream",
     "text": [
      "Model Performance:\n",
      "MSE: 33859677.13579468\n",
      "MAE: 557.3397242314782\n"
     ]
    }
   ],
   "source": [
    "from lightgbm import LGBMRegressor\n",
    "LGBM_reg = LGBMRegressor(random_state=1)\n",
    "LGBM_model = LGBM_reg.fit(X_train_lm, y_train_linear_base)\n",
    "LGBM_predicted = LGBM_model.predict(X_test_lm)\n",
    "print_performance(LGBM_predicted, y_test_linear_base)"
   ]
  },
  {
   "cell_type": "markdown",
   "id": "c2cf41df-ca94-4e88-b3e3-25dd769c249c",
   "metadata": {},
   "source": [
    "## 3.4 XGBoost"
   ]
  },
  {
   "cell_type": "code",
   "execution_count": 56,
   "id": "8334f97f-8956-40ab-b69f-dbf9f044ec00",
   "metadata": {},
   "outputs": [
    {
     "name": "stdout",
     "output_type": "stream",
     "text": [
      "Model Performance:\n",
      "MSE: 72761026.55609831\n",
      "MAE: 536.4677360606779\n"
     ]
    }
   ],
   "source": [
    "from xgboost import XGBRegressor\n",
    "xgb_reg = XGBRegressor()\n",
    "xgb_model = xgb_reg.fit(X_train_lm, y_train_linear_base)\n",
    "xgb_predicted = xgb_model.predict(X_test_lm)\n",
    "print_performance(xgb_predicted, y_test_linear_base)"
   ]
  },
  {
   "cell_type": "markdown",
   "id": "333e81b8-d087-4737-876b-0894a7496ec1",
   "metadata": {},
   "source": [
    "## 3.5 Fine Tuning to see if prediction improves"
   ]
  },
  {
   "cell_type": "markdown",
   "id": "e23edfa0-29ca-40d1-8254-7be6cfe601f5",
   "metadata": {},
   "source": [
    "Use random search to nail down fine tuning range with large scale of data"
   ]
  },
  {
   "cell_type": "code",
   "execution_count": 60,
   "id": "c8e0e877-2e00-48c5-b880-b056dc3188db",
   "metadata": {},
   "outputs": [
    {
     "data": {
      "text/plain": [
       "RandomizedSearchCV(cv=5, estimator=GradientBoostingRegressor(random_state=1),\n",
       "                   param_distributions={'max_features': <scipy.stats._distn_infrastructure.rv_frozen object at 0x7f272d92d410>,\n",
       "                                        'n_estimators': <scipy.stats._distn_infrastructure.rv_frozen object at 0x7f270f457b90>},\n",
       "                   random_state=1, scoring='neg_mean_squared_error')"
      ]
     },
     "execution_count": 60,
     "metadata": {},
     "output_type": "execute_result"
    }
   ],
   "source": [
    "from sklearn.model_selection import RandomizedSearchCV\n",
    "from scipy.stats import randint\n",
    "\n",
    "param_distribs_rand = {\n",
    "        'n_estimators': randint(low=1, high=8000),\n",
    "        'max_features': randint(low=1, high=30),\n",
    "    }\n",
    "\n",
    "gb_reg = GradientBoostingRegressor(random_state=1)\n",
    "rnd_search = RandomizedSearchCV(gb_reg, param_distributions=param_distribs_rand,\n",
    "                                n_iter=10, cv=5, scoring='neg_mean_squared_error', random_state=1)\n",
    "rnd_search.fit(X_train_lm, y_train_linear_base)"
   ]
  },
  {
   "cell_type": "code",
   "execution_count": 62,
   "id": "15d1acc7-d246-4f65-a21d-76143abcde82",
   "metadata": {},
   "outputs": [
    {
     "name": "stdout",
     "output_type": "stream",
     "text": [
      "GradientBoostingRegressor(max_features=1, n_estimators=145, random_state=1)\n",
      "53179639.351380825\n"
     ]
    }
   ],
   "source": [
    "print(rnd_search.best_estimator_)\n",
    "print(-rnd_search.best_score_)"
   ]
  },
  {
   "cell_type": "code",
   "execution_count": 63,
   "id": "5def167f-22fa-4850-95a4-6dcbcbb6bfb6",
   "metadata": {},
   "outputs": [
    {
     "name": "stdout",
     "output_type": "stream",
     "text": [
      "Model Performance:\n",
      "MSE: 32400354.10104623\n",
      "MAE: 514.5306686666125\n"
     ]
    }
   ],
   "source": [
    "rand_opt_gbt = rnd_search.best_estimator_\n",
    "rand_opt_predicted = rand_opt_gbt.predict(X_test_lm)\n",
    "print_performance(rand_opt_predicted, y_test_linear_base)"
   ]
  },
  {
   "cell_type": "markdown",
   "id": "f5e467ab-8698-42b9-9e84-8c5034c57684",
   "metadata": {},
   "source": [
    "Fine tuning and compare its results to neural network"
   ]
  },
  {
   "cell_type": "code",
   "execution_count": 76,
   "id": "8e8b4f8a-8a7a-480f-b1aa-a26bc182e0db",
   "metadata": {},
   "outputs": [],
   "source": [
    "from sklearn.model_selection import GridSearchCV\n",
    "gb_reg_fine = GradientBoostingRegressor(random_state=1)\n",
    "param_grid = {\n",
    "        'n_estimators': [50,100,200,300],\n",
    "        'max_features': [1,5,10,15],\n",
    "    }\n",
    "grid_search = GridSearchCV(gb_reg_fine,param_grid, cv=5,\n",
    "                           scoring='neg_mean_squared_error',\n",
    "                           return_train_score=True)\n",
    "models_grid_search = grid_search.fit(X_train_lm, y_train_linear_base)"
   ]
  },
  {
   "cell_type": "code",
   "execution_count": 77,
   "id": "56b3c04b-b0f3-47d7-9a9d-3f8f82010436",
   "metadata": {},
   "outputs": [
    {
     "name": "stdout",
     "output_type": "stream",
     "text": [
      "GradientBoostingRegressor(max_features=1, random_state=1)\n",
      "53097500.14307149\n"
     ]
    }
   ],
   "source": [
    "print(models_grid_search.best_estimator_)\n",
    "print(-models_grid_search.best_score_)"
   ]
  },
  {
   "cell_type": "code",
   "execution_count": 78,
   "id": "6d0b24b8-25a4-43b8-933f-61153937775d",
   "metadata": {},
   "outputs": [
    {
     "name": "stdout",
     "output_type": "stream",
     "text": [
      "Model Performance:\n",
      "MSE: 32320338.07785877\n",
      "MAE: 501.7903840222031\n"
     ]
    }
   ],
   "source": [
    "grid_opt_gbt = models_grid_search.best_estimator_\n",
    "grid_opt_predicted = grid_opt_gbt.predict(X_test_lm)\n",
    "print_performance(grid_opt_predicted, y_test_linear_base)"
   ]
  },
  {
   "cell_type": "markdown",
   "id": "70b8455d-d578-4500-a459-5c1a9b1808e4",
   "metadata": {},
   "source": [
    "It's performance is close to Neural Network performance"
   ]
  },
  {
   "cell_type": "code",
   "execution_count": 83,
   "id": "663983c2-f05e-4c7b-b824-8c57b8c9a89c",
   "metadata": {},
   "outputs": [
    {
     "data": {
      "text/html": [
       "<div>\n",
       "<style scoped>\n",
       "    .dataframe tbody tr th:only-of-type {\n",
       "        vertical-align: middle;\n",
       "    }\n",
       "\n",
       "    .dataframe tbody tr th {\n",
       "        vertical-align: top;\n",
       "    }\n",
       "\n",
       "    .dataframe thead th {\n",
       "        text-align: right;\n",
       "    }\n",
       "</style>\n",
       "<table border=\"1\" class=\"dataframe\">\n",
       "  <thead>\n",
       "    <tr style=\"text-align: right;\">\n",
       "      <th></th>\n",
       "      <th>attribute</th>\n",
       "      <th>importance</th>\n",
       "    </tr>\n",
       "  </thead>\n",
       "  <tbody>\n",
       "    <tr>\n",
       "      <th>28</th>\n",
       "      <td>AllPunc</td>\n",
       "      <td>0.304631</td>\n",
       "    </tr>\n",
       "    <tr>\n",
       "      <th>33</th>\n",
       "      <td>Message_sentiment</td>\n",
       "      <td>0.171203</td>\n",
       "    </tr>\n",
       "    <tr>\n",
       "      <th>37</th>\n",
       "      <td>crosspost</td>\n",
       "      <td>0.132782</td>\n",
       "    </tr>\n",
       "    <tr>\n",
       "      <th>4</th>\n",
       "      <td>you</td>\n",
       "      <td>0.105025</td>\n",
       "    </tr>\n",
       "    <tr>\n",
       "      <th>14</th>\n",
       "      <td>see</td>\n",
       "      <td>0.052229</td>\n",
       "    </tr>\n",
       "    <tr>\n",
       "      <th>0</th>\n",
       "      <td>Likes.at.Posting</td>\n",
       "      <td>0.045861</td>\n",
       "    </tr>\n",
       "    <tr>\n",
       "      <th>1</th>\n",
       "      <td>Followers.at.Posting</td>\n",
       "      <td>0.030685</td>\n",
       "    </tr>\n",
       "    <tr>\n",
       "      <th>26</th>\n",
       "      <td>home</td>\n",
       "      <td>0.023611</td>\n",
       "    </tr>\n",
       "    <tr>\n",
       "      <th>10</th>\n",
       "      <td>social</td>\n",
       "      <td>0.020899</td>\n",
       "    </tr>\n",
       "    <tr>\n",
       "      <th>22</th>\n",
       "      <td>focusfuture</td>\n",
       "      <td>0.020775</td>\n",
       "    </tr>\n",
       "    <tr>\n",
       "      <th>35</th>\n",
       "      <td>link_title_len</td>\n",
       "      <td>0.013590</td>\n",
       "    </tr>\n",
       "    <tr>\n",
       "      <th>7</th>\n",
       "      <td>article</td>\n",
       "      <td>0.010080</td>\n",
       "    </tr>\n",
       "    <tr>\n",
       "      <th>30</th>\n",
       "      <td>Dash</td>\n",
       "      <td>0.007644</td>\n",
       "    </tr>\n",
       "    <tr>\n",
       "      <th>13</th>\n",
       "      <td>percept</td>\n",
       "      <td>0.007447</td>\n",
       "    </tr>\n",
       "    <tr>\n",
       "      <th>29</th>\n",
       "      <td>Exclam</td>\n",
       "      <td>0.004609</td>\n",
       "    </tr>\n",
       "    <tr>\n",
       "      <th>25</th>\n",
       "      <td>space</td>\n",
       "      <td>0.004599</td>\n",
       "    </tr>\n",
       "    <tr>\n",
       "      <th>19</th>\n",
       "      <td>reward</td>\n",
       "      <td>0.003891</td>\n",
       "    </tr>\n",
       "    <tr>\n",
       "      <th>6</th>\n",
       "      <td>ipron</td>\n",
       "      <td>0.003886</td>\n",
       "    </tr>\n",
       "    <tr>\n",
       "      <th>12</th>\n",
       "      <td>male</td>\n",
       "      <td>0.003825</td>\n",
       "    </tr>\n",
       "    <tr>\n",
       "      <th>5</th>\n",
       "      <td>shehe</td>\n",
       "      <td>0.003430</td>\n",
       "    </tr>\n",
       "  </tbody>\n",
       "</table>\n",
       "</div>"
      ],
      "text/plain": [
       "               attribute  importance\n",
       "28               AllPunc    0.304631\n",
       "33     Message_sentiment    0.171203\n",
       "37             crosspost    0.132782\n",
       "4                    you    0.105025\n",
       "14                   see    0.052229\n",
       "0       Likes.at.Posting    0.045861\n",
       "1   Followers.at.Posting    0.030685\n",
       "26                  home    0.023611\n",
       "10                social    0.020899\n",
       "22           focusfuture    0.020775\n",
       "35        link_title_len    0.013590\n",
       "7                article    0.010080\n",
       "30                  Dash    0.007644\n",
       "13               percept    0.007447\n",
       "29                Exclam    0.004609\n",
       "25                 space    0.004599\n",
       "19                reward    0.003891\n",
       "6                  ipron    0.003886\n",
       "12                  male    0.003825\n",
       "5                  shehe    0.003430"
      ]
     },
     "execution_count": 83,
     "metadata": {},
     "output_type": "execute_result"
    }
   ],
   "source": [
    "pd.DataFrame({\"attribute\":X_test_lm.columns,\"importance\":grid_opt_gbt.feature_importances_}).sort_values(by='importance', ascending=False).head(20)"
   ]
  },
  {
   "cell_type": "code",
   "execution_count": null,
   "id": "fe388794-26d0-4425-b5d2-b5e2ff333746",
   "metadata": {},
   "outputs": [],
   "source": []
  }
 ],
 "metadata": {
  "environment": {
   "kernel": "python3",
   "name": "common-cpu.m89",
   "type": "gcloud",
   "uri": "gcr.io/deeplearning-platform-release/base-cpu:m89"
  },
  "kernelspec": {
   "display_name": "Python 3",
   "language": "python",
   "name": "python3"
  },
  "language_info": {
   "codemirror_mode": {
    "name": "ipython",
    "version": 3
   },
   "file_extension": ".py",
   "mimetype": "text/x-python",
   "name": "python",
   "nbconvert_exporter": "python",
   "pygments_lexer": "ipython3",
   "version": "3.7.12"
  }
 },
 "nbformat": 4,
 "nbformat_minor": 5
}
